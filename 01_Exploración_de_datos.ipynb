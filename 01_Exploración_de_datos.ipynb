{
  "nbformat": 4,
  "nbformat_minor": 0,
  "metadata": {
    "colab": {
      "name": "01_Exploración_de_datos.ipynb",
      "provenance": [],
      "collapsed_sections": []
    },
    "kernelspec": {
      "name": "python3",
      "display_name": "Python 3"
    },
    "language_info": {
      "name": "python"
    }
  },
  "cells": [
    {
      "cell_type": "markdown",
      "source": [
        "[![Open in Colab](https://colab.research.google.com/assets/colab-badge.svg)](https://colab.research.google.com/github/cahemobu97/AI4ENG/blob/main/01_Exploración_de_datos.ipynb)\n"
      ],
      "metadata": {
        "id": "6-dNW64a0Fkm"
      }
    },
    {
      "cell_type": "markdown",
      "source": [
        "**`Esta primera parte del proyecto consta del análisis exploratorio de los datos, con el fin de entender la información que se tienen del dataset y poder darle el mejor manejo para cumplir con los requermientos que se piden en el proyecto.`**\n"
      ],
      "metadata": {
        "id": "eOYo-8lLEHwu"
      }
    },
    {
      "cell_type": "code",
      "source": [
        "#En este primer paso vamos a importar las librerias necesarias para hacer la exploración de datos\n",
        "import pandas as pd\n",
        "import numpy as np\n",
        "import random\n",
        "import matplotlib.pyplot as plt\n",
        "import json\n",
        "#Importacion de Bibliotecas de Machine Learning\n",
        "from sklearn.linear_model import LinearRegression\n",
        "from sklearn.tree import DecisionTreeRegressor\n",
        "from sklearn.ensemble import RandomForestRegressor\n",
        "from sklearn.model_selection import cross_validate, ShuffleSplit\n",
        "\n",
        "from sklearn.model_selection import learning_curve\n",
        "from sklearn.metrics import mean_squared_error\n",
        "from sklearn.impute import SimpleImputer\n",
        "from sklearn.preprocessing import OneHotEncoder\n",
        "from sklearn.preprocessing import FunctionTransformer\n",
        "from sklearn.pipeline import Pipeline\n",
        "from sklearn.compose import ColumnTransformer\n",
        "from sklearn.preprocessing import LabelEncoder\n",
        "from sklearn import utils\n",
        "from sklearn import preprocessing\n",
        "from sklearn.model_selection import train_test_split,KFold,GroupKFold\n",
        "import lightgbm as lgb\n",
        "import gc\n",
        "\n",
        "\n",
        "import warnings\n",
        "warnings.filterwarnings('ignore')"
      ],
      "metadata": {
        "id": "SbRFubz-HFC2"
      },
      "execution_count": 40,
      "outputs": []
    },
    {
      "cell_type": "code",
      "source": [
        "# Cargando credenciales de Kaggel\n",
        "data = {\"username\": \"carloshernanm\", \"key\": \"c4e8b9a467c0efe0b0d0495e83185ba1\"}\n",
        "with open('kaggle.json', 'w') as file:\n",
        "    json.dump(data, file, indent=4)\n",
        "\n",
        "!cp kaggle.json ~/.kaggle/\n",
        "\n"
      ],
      "metadata": {
        "id": "viwb1e_6VB30"
      },
      "execution_count": 41,
      "outputs": []
    },
    {
      "cell_type": "code",
      "source": [
        "# Se descarga el dataset\n",
        "!kaggle datasets download -d emmanuelfwerr/thyroid-disease-data\n",
        "\n",
        "# Se descomprime el dataset\n",
        "!unzip thyroid-disease-data.zip"
      ],
      "metadata": {
        "colab": {
          "base_uri": "https://localhost:8080/"
        },
        "id": "aNnQQTbKmYX8",
        "outputId": "073e60d6-8439-4c98-ffd4-f62125f88609"
      },
      "execution_count": 42,
      "outputs": [
        {
          "output_type": "stream",
          "name": "stdout",
          "text": [
            "Downloading thyroid-disease-data.zip to /content\n",
            "\r  0% 0.00/145k [00:00<?, ?B/s]\n",
            "\r100% 145k/145k [00:00<00:00, 48.5MB/s]\n",
            "Archive:  thyroid-disease-data.zip\n",
            "  inflating: thyroidDF.csv           \n"
          ]
        }
      ]
    },
    {
      "cell_type": "code",
      "source": [
        "#Verificamos que se este funcionando la conexión de la API\n",
        "!kaggle datasets list"
      ],
      "metadata": {
        "colab": {
          "base_uri": "https://localhost:8080/"
        },
        "id": "i5NeVb2FQwPA",
        "outputId": "66609744-59b8-49f6-f48b-3b8052c3f452"
      },
      "execution_count": null,
      "outputs": [
        {
          "output_type": "stream",
          "name": "stdout",
          "text": [
            "ref                                                    title                                             size  lastUpdated          downloadCount  voteCount  usabilityRating  \n",
            "-----------------------------------------------------  -----------------------------------------------  -----  -------------------  -------------  ---------  ---------------  \n",
            "deepcontractor/mcdonalds-india-menu-nutrition-facts    McDonald's India : Menu Nutrition Dataset          5KB  2022-07-28 17:08:52           2376        117  0.9411765        \n",
            "iamsouravbanerjee/house-rent-prediction-dataset        House Rent Prediction Dataset                     82KB  2022-08-20 13:49:03           2394         98  1.0              \n",
            "arianazmoudeh/airbnbopendata                           Airbnb Open Data                                  10MB  2022-08-01 15:58:10           1648         56  0.9705882        \n",
            "ericsims/world-cheese-awards-worlds-cheesiest-dataset  World Cheese Awards (World's Cheesiest Dataset)   49KB  2022-08-17 03:11:43            250         27  1.0              \n",
            "tarundalal/100-richest-people-in-world                 100 Richest People In World                        3KB  2022-08-17 14:30:02            247         27  1.0              \n",
            "adhithyasrinivasan/worldwide-monkeypox-daily-dataset   Worldwide Monkeypox Daily Dataset                 30KB  2022-08-14 12:11:01            386         24  0.9411765        \n",
            "debashis74017/stock-market-index-data-india-1990-2022  Stock Market Index Data India (1990 - 2022)        2MB  2022-08-21 19:53:27            424         21  1.0              \n",
            "infamouscoder/dataset-netflix-shows                    Dataset: NetFlix Shows                             1MB  2022-08-11 05:05:41            755         42  1.0              \n",
            "himanshunakrani/student-study-hours                    Student Study Hours                               276B  2022-07-20 13:17:29           2539         80  1.0              \n",
            "vanvalkenberg/historicalweatherdataforindiancities     Weather data Indian cities (1990 to 2022)        504KB  2022-07-29 11:13:42            699         31  1.0              \n",
            "ruchi798/data-science-job-salaries                     Data Science Job Salaries                          7KB  2022-06-15 08:59:12          23014        702  1.0              \n",
            "vencerlanz09/monkeypox-tweets                          Monkeypox Tweets                                   3MB  2022-08-22 15:42:00            129         22  1.0              \n",
            "ashvanths/toprated-tmdb-movies                         Top-Rated TMDB Movies                              1MB  2022-08-15 06:49:17            529         29  1.0              \n",
            "dansbecker/melbourne-housing-snapshot                  Melbourne Housing Snapshot                       451KB  2018-06-05 12:52:24          93567       1126  0.7058824        \n",
            "reihanenamdari/breast-cancer                           Breast Cancer                                     43KB  2022-08-08 19:25:55            644         36  1.0              \n",
            "zzettrkalpakbal/full-filled-brain-stroke-dataset       Brain stroke prediction dataset                   52KB  2022-07-16 09:57:08           2864         81  0.9705882        \n",
            "tigboatnc/amazon-all-categories-best-sellers-reviews   Amazon All Categories Best Sellers + Reviews       3MB  2022-08-10 00:26:09            650         25  1.0              \n",
            "nancyalaswad90/diamonds-prices                         Diamonds Prices                                  711KB  2022-07-09 14:59:21           2807        113  1.0              \n",
            "datasnaek/youtube-new                                  Trending YouTube Video Statistics                201MB  2019-06-03 00:56:47         183017       4641  0.7941176        \n",
            "surajjha101/countries-olympics-medals-since-1896       Countries Olympics Medals since 1896               4KB  2022-07-27 06:39:06           1171         56  1.0              \n"
          ]
        }
      ]
    },
    {
      "cell_type": "code",
      "source": [
        "#Vamos a leer los datos que tiene el dataset para empezar con el análisis explorartorio\n",
        "df = pd.read_csv(\"thyroidDF.csv\")\n",
        "df.head(10)"
      ],
      "metadata": {
        "colab": {
          "base_uri": "https://localhost:8080/",
          "height": 456
        },
        "id": "6QPXFXxBGqXg",
        "outputId": "77ae3e61-e269-4c11-8c57-77281d81a396"
      },
      "execution_count": null,
      "outputs": [
        {
          "output_type": "execute_result",
          "data": {
            "text/plain": [
              "   age sex on_thyroxine query_on_thyroxine on_antithyroid_meds sick pregnant  \\\n",
              "0   29   F            f                  f                   f    f        f   \n",
              "1   29   F            f                  f                   f    f        f   \n",
              "2   41   F            f                  f                   f    f        f   \n",
              "3   36   F            f                  f                   f    f        f   \n",
              "4   32   F            f                  f                   f    f        f   \n",
              "5   60   F            f                  f                   f    f        f   \n",
              "6   77   F            f                  f                   f    f        f   \n",
              "7   28   F            f                  f                   f    f        f   \n",
              "8   28   F            f                  f                   f    f        f   \n",
              "9   28   F            f                  f                   f    f        f   \n",
              "\n",
              "  thyroid_surgery I131_treatment query_hypothyroid  ...    TT4 T4U_measured  \\\n",
              "0               f              f                 t  ...    NaN            f   \n",
              "1               f              f                 f  ...  128.0            f   \n",
              "2               f              f                 f  ...    NaN            f   \n",
              "3               f              f                 f  ...    NaN            f   \n",
              "4               f              f                 f  ...    NaN            f   \n",
              "5               f              f                 f  ...    NaN            f   \n",
              "6               f              f                 f  ...    NaN            f   \n",
              "7               f              f                 f  ...  116.0            f   \n",
              "8               f              f                 f  ...   76.0            f   \n",
              "9               f              f                 f  ...   83.0            f   \n",
              "\n",
              "  T4U FTI_measured FTI TBG_measured   TBG  referral_source target  patient_id  \n",
              "0 NaN            f NaN            f   NaN            other      -   840801013  \n",
              "1 NaN            f NaN            f   NaN            other      -   840801014  \n",
              "2 NaN            f NaN            t  11.0            other      -   840801042  \n",
              "3 NaN            f NaN            t  26.0            other      -   840803046  \n",
              "4 NaN            f NaN            t  36.0            other      S   840803047  \n",
              "5 NaN            f NaN            t  26.0            other      -   840803048  \n",
              "6 NaN            f NaN            t  21.0            other      -   840803068  \n",
              "7 NaN            f NaN            f   NaN              SVI      -   840807019  \n",
              "8 NaN            f NaN            f   NaN            other      -   840808060  \n",
              "9 NaN            f NaN            f   NaN            other      -   840808073  \n",
              "\n",
              "[10 rows x 31 columns]"
            ],
            "text/html": [
              "\n",
              "  <div id=\"df-0b02bbcb-f9c5-4462-b6d9-65e794027400\">\n",
              "    <div class=\"colab-df-container\">\n",
              "      <div>\n",
              "<style scoped>\n",
              "    .dataframe tbody tr th:only-of-type {\n",
              "        vertical-align: middle;\n",
              "    }\n",
              "\n",
              "    .dataframe tbody tr th {\n",
              "        vertical-align: top;\n",
              "    }\n",
              "\n",
              "    .dataframe thead th {\n",
              "        text-align: right;\n",
              "    }\n",
              "</style>\n",
              "<table border=\"1\" class=\"dataframe\">\n",
              "  <thead>\n",
              "    <tr style=\"text-align: right;\">\n",
              "      <th></th>\n",
              "      <th>age</th>\n",
              "      <th>sex</th>\n",
              "      <th>on_thyroxine</th>\n",
              "      <th>query_on_thyroxine</th>\n",
              "      <th>on_antithyroid_meds</th>\n",
              "      <th>sick</th>\n",
              "      <th>pregnant</th>\n",
              "      <th>thyroid_surgery</th>\n",
              "      <th>I131_treatment</th>\n",
              "      <th>query_hypothyroid</th>\n",
              "      <th>...</th>\n",
              "      <th>TT4</th>\n",
              "      <th>T4U_measured</th>\n",
              "      <th>T4U</th>\n",
              "      <th>FTI_measured</th>\n",
              "      <th>FTI</th>\n",
              "      <th>TBG_measured</th>\n",
              "      <th>TBG</th>\n",
              "      <th>referral_source</th>\n",
              "      <th>target</th>\n",
              "      <th>patient_id</th>\n",
              "    </tr>\n",
              "  </thead>\n",
              "  <tbody>\n",
              "    <tr>\n",
              "      <th>0</th>\n",
              "      <td>29</td>\n",
              "      <td>F</td>\n",
              "      <td>f</td>\n",
              "      <td>f</td>\n",
              "      <td>f</td>\n",
              "      <td>f</td>\n",
              "      <td>f</td>\n",
              "      <td>f</td>\n",
              "      <td>f</td>\n",
              "      <td>t</td>\n",
              "      <td>...</td>\n",
              "      <td>NaN</td>\n",
              "      <td>f</td>\n",
              "      <td>NaN</td>\n",
              "      <td>f</td>\n",
              "      <td>NaN</td>\n",
              "      <td>f</td>\n",
              "      <td>NaN</td>\n",
              "      <td>other</td>\n",
              "      <td>-</td>\n",
              "      <td>840801013</td>\n",
              "    </tr>\n",
              "    <tr>\n",
              "      <th>1</th>\n",
              "      <td>29</td>\n",
              "      <td>F</td>\n",
              "      <td>f</td>\n",
              "      <td>f</td>\n",
              "      <td>f</td>\n",
              "      <td>f</td>\n",
              "      <td>f</td>\n",
              "      <td>f</td>\n",
              "      <td>f</td>\n",
              "      <td>f</td>\n",
              "      <td>...</td>\n",
              "      <td>128.0</td>\n",
              "      <td>f</td>\n",
              "      <td>NaN</td>\n",
              "      <td>f</td>\n",
              "      <td>NaN</td>\n",
              "      <td>f</td>\n",
              "      <td>NaN</td>\n",
              "      <td>other</td>\n",
              "      <td>-</td>\n",
              "      <td>840801014</td>\n",
              "    </tr>\n",
              "    <tr>\n",
              "      <th>2</th>\n",
              "      <td>41</td>\n",
              "      <td>F</td>\n",
              "      <td>f</td>\n",
              "      <td>f</td>\n",
              "      <td>f</td>\n",
              "      <td>f</td>\n",
              "      <td>f</td>\n",
              "      <td>f</td>\n",
              "      <td>f</td>\n",
              "      <td>f</td>\n",
              "      <td>...</td>\n",
              "      <td>NaN</td>\n",
              "      <td>f</td>\n",
              "      <td>NaN</td>\n",
              "      <td>f</td>\n",
              "      <td>NaN</td>\n",
              "      <td>t</td>\n",
              "      <td>11.0</td>\n",
              "      <td>other</td>\n",
              "      <td>-</td>\n",
              "      <td>840801042</td>\n",
              "    </tr>\n",
              "    <tr>\n",
              "      <th>3</th>\n",
              "      <td>36</td>\n",
              "      <td>F</td>\n",
              "      <td>f</td>\n",
              "      <td>f</td>\n",
              "      <td>f</td>\n",
              "      <td>f</td>\n",
              "      <td>f</td>\n",
              "      <td>f</td>\n",
              "      <td>f</td>\n",
              "      <td>f</td>\n",
              "      <td>...</td>\n",
              "      <td>NaN</td>\n",
              "      <td>f</td>\n",
              "      <td>NaN</td>\n",
              "      <td>f</td>\n",
              "      <td>NaN</td>\n",
              "      <td>t</td>\n",
              "      <td>26.0</td>\n",
              "      <td>other</td>\n",
              "      <td>-</td>\n",
              "      <td>840803046</td>\n",
              "    </tr>\n",
              "    <tr>\n",
              "      <th>4</th>\n",
              "      <td>32</td>\n",
              "      <td>F</td>\n",
              "      <td>f</td>\n",
              "      <td>f</td>\n",
              "      <td>f</td>\n",
              "      <td>f</td>\n",
              "      <td>f</td>\n",
              "      <td>f</td>\n",
              "      <td>f</td>\n",
              "      <td>f</td>\n",
              "      <td>...</td>\n",
              "      <td>NaN</td>\n",
              "      <td>f</td>\n",
              "      <td>NaN</td>\n",
              "      <td>f</td>\n",
              "      <td>NaN</td>\n",
              "      <td>t</td>\n",
              "      <td>36.0</td>\n",
              "      <td>other</td>\n",
              "      <td>S</td>\n",
              "      <td>840803047</td>\n",
              "    </tr>\n",
              "    <tr>\n",
              "      <th>5</th>\n",
              "      <td>60</td>\n",
              "      <td>F</td>\n",
              "      <td>f</td>\n",
              "      <td>f</td>\n",
              "      <td>f</td>\n",
              "      <td>f</td>\n",
              "      <td>f</td>\n",
              "      <td>f</td>\n",
              "      <td>f</td>\n",
              "      <td>f</td>\n",
              "      <td>...</td>\n",
              "      <td>NaN</td>\n",
              "      <td>f</td>\n",
              "      <td>NaN</td>\n",
              "      <td>f</td>\n",
              "      <td>NaN</td>\n",
              "      <td>t</td>\n",
              "      <td>26.0</td>\n",
              "      <td>other</td>\n",
              "      <td>-</td>\n",
              "      <td>840803048</td>\n",
              "    </tr>\n",
              "    <tr>\n",
              "      <th>6</th>\n",
              "      <td>77</td>\n",
              "      <td>F</td>\n",
              "      <td>f</td>\n",
              "      <td>f</td>\n",
              "      <td>f</td>\n",
              "      <td>f</td>\n",
              "      <td>f</td>\n",
              "      <td>f</td>\n",
              "      <td>f</td>\n",
              "      <td>f</td>\n",
              "      <td>...</td>\n",
              "      <td>NaN</td>\n",
              "      <td>f</td>\n",
              "      <td>NaN</td>\n",
              "      <td>f</td>\n",
              "      <td>NaN</td>\n",
              "      <td>t</td>\n",
              "      <td>21.0</td>\n",
              "      <td>other</td>\n",
              "      <td>-</td>\n",
              "      <td>840803068</td>\n",
              "    </tr>\n",
              "    <tr>\n",
              "      <th>7</th>\n",
              "      <td>28</td>\n",
              "      <td>F</td>\n",
              "      <td>f</td>\n",
              "      <td>f</td>\n",
              "      <td>f</td>\n",
              "      <td>f</td>\n",
              "      <td>f</td>\n",
              "      <td>f</td>\n",
              "      <td>f</td>\n",
              "      <td>f</td>\n",
              "      <td>...</td>\n",
              "      <td>116.0</td>\n",
              "      <td>f</td>\n",
              "      <td>NaN</td>\n",
              "      <td>f</td>\n",
              "      <td>NaN</td>\n",
              "      <td>f</td>\n",
              "      <td>NaN</td>\n",
              "      <td>SVI</td>\n",
              "      <td>-</td>\n",
              "      <td>840807019</td>\n",
              "    </tr>\n",
              "    <tr>\n",
              "      <th>8</th>\n",
              "      <td>28</td>\n",
              "      <td>F</td>\n",
              "      <td>f</td>\n",
              "      <td>f</td>\n",
              "      <td>f</td>\n",
              "      <td>f</td>\n",
              "      <td>f</td>\n",
              "      <td>f</td>\n",
              "      <td>f</td>\n",
              "      <td>f</td>\n",
              "      <td>...</td>\n",
              "      <td>76.0</td>\n",
              "      <td>f</td>\n",
              "      <td>NaN</td>\n",
              "      <td>f</td>\n",
              "      <td>NaN</td>\n",
              "      <td>f</td>\n",
              "      <td>NaN</td>\n",
              "      <td>other</td>\n",
              "      <td>-</td>\n",
              "      <td>840808060</td>\n",
              "    </tr>\n",
              "    <tr>\n",
              "      <th>9</th>\n",
              "      <td>28</td>\n",
              "      <td>F</td>\n",
              "      <td>f</td>\n",
              "      <td>f</td>\n",
              "      <td>f</td>\n",
              "      <td>f</td>\n",
              "      <td>f</td>\n",
              "      <td>f</td>\n",
              "      <td>f</td>\n",
              "      <td>f</td>\n",
              "      <td>...</td>\n",
              "      <td>83.0</td>\n",
              "      <td>f</td>\n",
              "      <td>NaN</td>\n",
              "      <td>f</td>\n",
              "      <td>NaN</td>\n",
              "      <td>f</td>\n",
              "      <td>NaN</td>\n",
              "      <td>other</td>\n",
              "      <td>-</td>\n",
              "      <td>840808073</td>\n",
              "    </tr>\n",
              "  </tbody>\n",
              "</table>\n",
              "<p>10 rows × 31 columns</p>\n",
              "</div>\n",
              "      <button class=\"colab-df-convert\" onclick=\"convertToInteractive('df-0b02bbcb-f9c5-4462-b6d9-65e794027400')\"\n",
              "              title=\"Convert this dataframe to an interactive table.\"\n",
              "              style=\"display:none;\">\n",
              "        \n",
              "  <svg xmlns=\"http://www.w3.org/2000/svg\" height=\"24px\"viewBox=\"0 0 24 24\"\n",
              "       width=\"24px\">\n",
              "    <path d=\"M0 0h24v24H0V0z\" fill=\"none\"/>\n",
              "    <path d=\"M18.56 5.44l.94 2.06.94-2.06 2.06-.94-2.06-.94-.94-2.06-.94 2.06-2.06.94zm-11 1L8.5 8.5l.94-2.06 2.06-.94-2.06-.94L8.5 2.5l-.94 2.06-2.06.94zm10 10l.94 2.06.94-2.06 2.06-.94-2.06-.94-.94-2.06-.94 2.06-2.06.94z\"/><path d=\"M17.41 7.96l-1.37-1.37c-.4-.4-.92-.59-1.43-.59-.52 0-1.04.2-1.43.59L10.3 9.45l-7.72 7.72c-.78.78-.78 2.05 0 2.83L4 21.41c.39.39.9.59 1.41.59.51 0 1.02-.2 1.41-.59l7.78-7.78 2.81-2.81c.8-.78.8-2.07 0-2.86zM5.41 20L4 18.59l7.72-7.72 1.47 1.35L5.41 20z\"/>\n",
              "  </svg>\n",
              "      </button>\n",
              "      \n",
              "  <style>\n",
              "    .colab-df-container {\n",
              "      display:flex;\n",
              "      flex-wrap:wrap;\n",
              "      gap: 12px;\n",
              "    }\n",
              "\n",
              "    .colab-df-convert {\n",
              "      background-color: #E8F0FE;\n",
              "      border: none;\n",
              "      border-radius: 50%;\n",
              "      cursor: pointer;\n",
              "      display: none;\n",
              "      fill: #1967D2;\n",
              "      height: 32px;\n",
              "      padding: 0 0 0 0;\n",
              "      width: 32px;\n",
              "    }\n",
              "\n",
              "    .colab-df-convert:hover {\n",
              "      background-color: #E2EBFA;\n",
              "      box-shadow: 0px 1px 2px rgba(60, 64, 67, 0.3), 0px 1px 3px 1px rgba(60, 64, 67, 0.15);\n",
              "      fill: #174EA6;\n",
              "    }\n",
              "\n",
              "    [theme=dark] .colab-df-convert {\n",
              "      background-color: #3B4455;\n",
              "      fill: #D2E3FC;\n",
              "    }\n",
              "\n",
              "    [theme=dark] .colab-df-convert:hover {\n",
              "      background-color: #434B5C;\n",
              "      box-shadow: 0px 1px 3px 1px rgba(0, 0, 0, 0.15);\n",
              "      filter: drop-shadow(0px 1px 2px rgba(0, 0, 0, 0.3));\n",
              "      fill: #FFFFFF;\n",
              "    }\n",
              "  </style>\n",
              "\n",
              "      <script>\n",
              "        const buttonEl =\n",
              "          document.querySelector('#df-0b02bbcb-f9c5-4462-b6d9-65e794027400 button.colab-df-convert');\n",
              "        buttonEl.style.display =\n",
              "          google.colab.kernel.accessAllowed ? 'block' : 'none';\n",
              "\n",
              "        async function convertToInteractive(key) {\n",
              "          const element = document.querySelector('#df-0b02bbcb-f9c5-4462-b6d9-65e794027400');\n",
              "          const dataTable =\n",
              "            await google.colab.kernel.invokeFunction('convertToInteractive',\n",
              "                                                     [key], {});\n",
              "          if (!dataTable) return;\n",
              "\n",
              "          const docLinkHtml = 'Like what you see? Visit the ' +\n",
              "            '<a target=\"_blank\" href=https://colab.research.google.com/notebooks/data_table.ipynb>data table notebook</a>'\n",
              "            + ' to learn more about interactive tables.';\n",
              "          element.innerHTML = '';\n",
              "          dataTable['output_type'] = 'display_data';\n",
              "          await google.colab.output.renderOutput(dataTable, element);\n",
              "          const docLink = document.createElement('div');\n",
              "          docLink.innerHTML = docLinkHtml;\n",
              "          element.appendChild(docLink);\n",
              "        }\n",
              "      </script>\n",
              "    </div>\n",
              "  </div>\n",
              "  "
            ]
          },
          "metadata": {},
          "execution_count": 23
        }
      ]
    },
    {
      "cell_type": "code",
      "source": [
        "df.columns#Vamos a indentificar las columnas de interes para hacer el análisis, en este caso como tenemos tantas columnas,\n",
        "#vamos a basar el análisis en enfermedad de hipotiroidismo e hipertiroidismo (query_hypothyroid) (query_hyperthyroid)"
      ],
      "metadata": {
        "colab": {
          "base_uri": "https://localhost:8080/"
        },
        "id": "Cn3Ud2mW5d6f",
        "outputId": "69c7af22-b3dd-4a10-c9a8-0deba90a8bc5"
      },
      "execution_count": null,
      "outputs": [
        {
          "output_type": "execute_result",
          "data": {
            "text/plain": [
              "Index(['age', 'sex', 'on_thyroxine', 'query_on_thyroxine',\n",
              "       'on_antithyroid_meds', 'sick', 'pregnant', 'thyroid_surgery',\n",
              "       'I131_treatment', 'query_hypothyroid', 'query_hyperthyroid', 'lithium',\n",
              "       'goitre', 'tumor', 'hypopituitary', 'psych', 'TSH_measured', 'TSH',\n",
              "       'T3_measured', 'T3', 'TT4_measured', 'TT4', 'T4U_measured', 'T4U',\n",
              "       'FTI_measured', 'FTI', 'TBG_measured', 'TBG', 'referral_source',\n",
              "       'target', 'patient_id'],\n",
              "      dtype='object')"
            ]
          },
          "metadata": {},
          "execution_count": 24
        }
      ]
    },
    {
      "cell_type": "code",
      "source": [
        "df.shape"
      ],
      "metadata": {
        "colab": {
          "base_uri": "https://localhost:8080/"
        },
        "id": "6B3qHs9cIKGZ",
        "outputId": "81eb65af-bad3-4913-e0f8-4f692fd40ac1"
      },
      "execution_count": null,
      "outputs": [
        {
          "output_type": "execute_result",
          "data": {
            "text/plain": [
              "(9172, 31)"
            ]
          },
          "metadata": {},
          "execution_count": 8
        }
      ]
    },
    {
      "cell_type": "markdown",
      "source": [
        "Como podemos observar en nuestro dataset, cumplimos con la condición de que existan al menos 5000 instancias y 30 columnas, ya que para nuestro proyecto tenemos 9172 instancias o filas y 31 columnas."
      ],
      "metadata": {
        "id": "HdffmIY4HvEd"
      }
    },
    {
      "cell_type": "code",
      "source": [
        "#En este paso vamos a poder observar toda la información relacionada al dataframe que hemos cargado\n",
        "df.info() "
      ],
      "metadata": {
        "colab": {
          "base_uri": "https://localhost:8080/"
        },
        "id": "qo98Y3RTNzUg",
        "outputId": "874745cc-eb9f-4618-e61d-b7fdd97b7af5"
      },
      "execution_count": null,
      "outputs": [
        {
          "output_type": "stream",
          "name": "stdout",
          "text": [
            "<class 'pandas.core.frame.DataFrame'>\n",
            "RangeIndex: 9172 entries, 0 to 9171\n",
            "Data columns (total 31 columns):\n",
            " #   Column               Non-Null Count  Dtype  \n",
            "---  ------               --------------  -----  \n",
            " 0   age                  9172 non-null   int64  \n",
            " 1   sex                  8865 non-null   object \n",
            " 2   on_thyroxine         9172 non-null   object \n",
            " 3   query_on_thyroxine   9172 non-null   object \n",
            " 4   on_antithyroid_meds  9172 non-null   object \n",
            " 5   sick                 9172 non-null   object \n",
            " 6   pregnant             9172 non-null   object \n",
            " 7   thyroid_surgery      9172 non-null   object \n",
            " 8   I131_treatment       9172 non-null   object \n",
            " 9   query_hypothyroid    9172 non-null   object \n",
            " 10  query_hyperthyroid   9172 non-null   object \n",
            " 11  lithium              9172 non-null   object \n",
            " 12  goitre               9172 non-null   object \n",
            " 13  tumor                9172 non-null   object \n",
            " 14  hypopituitary        9172 non-null   object \n",
            " 15  psych                9172 non-null   object \n",
            " 16  TSH_measured         9172 non-null   object \n",
            " 17  TSH                  8330 non-null   float64\n",
            " 18  T3_measured          9172 non-null   object \n",
            " 19  T3                   6568 non-null   float64\n",
            " 20  TT4_measured         9172 non-null   object \n",
            " 21  TT4                  8730 non-null   float64\n",
            " 22  T4U_measured         9172 non-null   object \n",
            " 23  T4U                  8363 non-null   float64\n",
            " 24  FTI_measured         9172 non-null   object \n",
            " 25  FTI                  8370 non-null   float64\n",
            " 26  TBG_measured         9172 non-null   object \n",
            " 27  TBG                  349 non-null    float64\n",
            " 28  referral_source      9172 non-null   object \n",
            " 29  target               9172 non-null   object \n",
            " 30  patient_id           9172 non-null   int64  \n",
            "dtypes: float64(6), int64(2), object(23)\n",
            "memory usage: 2.2+ MB\n"
          ]
        }
      ]
    },
    {
      "cell_type": "code",
      "source": [
        "check_for_any_nan= df.isna().any().any()#Vamos a encontrar cuantos valores NaN existen en nuestro dataframe\n",
        "total_nan_values = df.isna().sum().sum()#Vamos a sumar el total de valores NaN presentes en el dataframe\n",
        "\n",
        "print(\"Existen valores en NaN: \"+str(check_for_any_nan))\n",
        "print(\"Total de valores en NaN: \"+str(total_nan_values))"
      ],
      "metadata": {
        "colab": {
          "base_uri": "https://localhost:8080/"
        },
        "id": "mBNLHgetMgNY",
        "outputId": "b35bc8fc-4d87-4cbc-b0fa-dbe0424a7239"
      },
      "execution_count": null,
      "outputs": [
        {
          "output_type": "stream",
          "name": "stdout",
          "text": [
            "Existen valores en NaN: True\n",
            "Total de valores en NaN: 14629\n"
          ]
        }
      ]
    },
    {
      "cell_type": "markdown",
      "source": [
        "Al chequear si existen valores en NaN, podemos ver que si existen y que tenemos 14629 valores en NaN, por lo que si hacemos cuentas, quitan la columan del id del paciente, tendriamos 30 columnas x 9172 filas lo que corresponde a 275,160 datos. Al evaluar cuantos valores NaN tenemos, se puede ver que son 14,629, por lo que este valor total de datos corresponde al 5,316% de datos faltantes respecto al total. Por lo que cumplimos tambien con la otra condición."
      ],
      "metadata": {
        "id": "TTEQCvFCOXg6"
      }
    },
    {
      "cell_type": "code",
      "source": [
        "df.isnull().sum() #Columnas con valores en NaN"
      ],
      "metadata": {
        "colab": {
          "base_uri": "https://localhost:8080/"
        },
        "id": "czaLn6Dw59xC",
        "outputId": "4e700662-d3d2-4d7e-bc3f-9a07f1fdbe89"
      },
      "execution_count": null,
      "outputs": [
        {
          "output_type": "execute_result",
          "data": {
            "text/plain": [
              "age                       0\n",
              "sex                     307\n",
              "on_thyroxine              0\n",
              "query_on_thyroxine        0\n",
              "on_antithyroid_meds       0\n",
              "sick                      0\n",
              "pregnant                  0\n",
              "thyroid_surgery           0\n",
              "I131_treatment            0\n",
              "query_hypothyroid         0\n",
              "query_hyperthyroid        0\n",
              "lithium                   0\n",
              "goitre                    0\n",
              "tumor                     0\n",
              "hypopituitary             0\n",
              "psych                     0\n",
              "TSH_measured              0\n",
              "TSH                     842\n",
              "T3_measured               0\n",
              "T3                     2604\n",
              "TT4_measured              0\n",
              "TT4                     442\n",
              "T4U_measured              0\n",
              "T4U                     809\n",
              "FTI_measured              0\n",
              "FTI                     802\n",
              "TBG_measured              0\n",
              "TBG                    8823\n",
              "referral_source           0\n",
              "target                    0\n",
              "patient_id                0\n",
              "dtype: int64"
            ]
          },
          "metadata": {},
          "execution_count": 11
        }
      ]
    },
    {
      "cell_type": "code",
      "source": [
        "df.isnull().mean() * 100 #Promedio en las columnas con valores en NaN"
      ],
      "metadata": {
        "colab": {
          "base_uri": "https://localhost:8080/"
        },
        "id": "SZ6m27P-9-Jl",
        "outputId": "d29066e6-d21e-474f-98e2-99e0210da34a"
      },
      "execution_count": null,
      "outputs": [
        {
          "output_type": "execute_result",
          "data": {
            "text/plain": [
              "age                     0.000000\n",
              "sex                     3.347143\n",
              "on_thyroxine            0.000000\n",
              "query_on_thyroxine      0.000000\n",
              "on_antithyroid_meds     0.000000\n",
              "sick                    0.000000\n",
              "pregnant                0.000000\n",
              "thyroid_surgery         0.000000\n",
              "I131_treatment          0.000000\n",
              "query_hypothyroid       0.000000\n",
              "query_hyperthyroid      0.000000\n",
              "lithium                 0.000000\n",
              "goitre                  0.000000\n",
              "tumor                   0.000000\n",
              "hypopituitary           0.000000\n",
              "psych                   0.000000\n",
              "TSH_measured            0.000000\n",
              "TSH                     9.180113\n",
              "T3_measured             0.000000\n",
              "T3                     28.390754\n",
              "TT4_measured            0.000000\n",
              "TT4                     4.819014\n",
              "T4U_measured            0.000000\n",
              "T4U                     8.820323\n",
              "FTI_measured            0.000000\n",
              "FTI                     8.744003\n",
              "TBG_measured            0.000000\n",
              "TBG                    96.194941\n",
              "referral_source         0.000000\n",
              "target                  0.000000\n",
              "patient_id              0.000000\n",
              "dtype: float64"
            ]
          },
          "metadata": {},
          "execution_count": 55
        }
      ]
    },
    {
      "cell_type": "code",
      "source": [
        "df_hp= df.groupby('query_hypothyroid').count()[\"patient_id\"]#Cantindad de pacientes que tienen hipotirodismo\n",
        "#f es false (No tienen hipotiroidismo) y t es true (Si tienen hipotiroidismo)\n",
        "df_hp"
      ],
      "metadata": {
        "colab": {
          "base_uri": "https://localhost:8080/"
        },
        "id": "m-WI0nR8BUuV",
        "outputId": "4797954f-4e68-42c2-deee-476e6365ca40"
      },
      "execution_count": null,
      "outputs": [
        {
          "output_type": "execute_result",
          "data": {
            "text/plain": [
              "query_hypothyroid\n",
              "f    8542\n",
              "t     630\n",
              "Name: patient_id, dtype: int64"
            ]
          },
          "metadata": {},
          "execution_count": 60
        }
      ]
    },
    {
      "cell_type": "code",
      "source": [
        "new_dataset = df.drop(['target','referral_source','TBG'], axis=1)#Eliminamos las columnas que no nos sirven o que contienen muchos datos vacios, en este caso TBG tiene un 96,19% de datos vacios\n",
        "new_dataset"
      ],
      "metadata": {
        "colab": {
          "base_uri": "https://localhost:8080/",
          "height": 488
        },
        "id": "YaSsjrwKEEjt",
        "outputId": "1dd72bce-39c0-47c6-868a-a55b66a7111f"
      },
      "execution_count": null,
      "outputs": [
        {
          "output_type": "execute_result",
          "data": {
            "text/plain": [
              "      age sex on_thyroxine query_on_thyroxine on_antithyroid_meds sick  \\\n",
              "0      29   F            f                  f                   f    f   \n",
              "1      29   F            f                  f                   f    f   \n",
              "2      41   F            f                  f                   f    f   \n",
              "3      36   F            f                  f                   f    f   \n",
              "4      32   F            f                  f                   f    f   \n",
              "...   ...  ..          ...                ...                 ...  ...   \n",
              "9167   56   M            f                  f                   f    f   \n",
              "9168   22   M            f                  f                   f    f   \n",
              "9169   69   M            f                  f                   f    f   \n",
              "9170   47   F            f                  f                   f    f   \n",
              "9171   31   M            f                  f                   f    f   \n",
              "\n",
              "     pregnant thyroid_surgery I131_treatment query_hypothyroid  ...  \\\n",
              "0           f               f              f                 t  ...   \n",
              "1           f               f              f                 f  ...   \n",
              "2           f               f              f                 f  ...   \n",
              "3           f               f              f                 f  ...   \n",
              "4           f               f              f                 f  ...   \n",
              "...       ...             ...            ...               ...  ...   \n",
              "9167        f               f              f                 f  ...   \n",
              "9168        f               f              f                 f  ...   \n",
              "9169        f               f              f                 f  ...   \n",
              "9170        f               f              f                 f  ...   \n",
              "9171        f               f              f                 t  ...   \n",
              "\n",
              "     T3_measured   T3 TT4_measured    TT4 T4U_measured   T4U FTI_measured  \\\n",
              "0              f  NaN            f    NaN            f   NaN            f   \n",
              "1              t  1.9            t  128.0            f   NaN            f   \n",
              "2              f  NaN            f    NaN            f   NaN            f   \n",
              "3              f  NaN            f    NaN            f   NaN            f   \n",
              "4              f  NaN            f    NaN            f   NaN            f   \n",
              "...          ...  ...          ...    ...          ...   ...          ...   \n",
              "9167           f  NaN            t   64.0            t  0.83            t   \n",
              "9168           f  NaN            t   91.0            t  0.92            t   \n",
              "9169           f  NaN            t  113.0            t  1.27            t   \n",
              "9170           f  NaN            t   75.0            t  0.85            t   \n",
              "9171           f  NaN            t   66.0            t  1.02            t   \n",
              "\n",
              "       FTI TBG_measured  patient_id  \n",
              "0      NaN            f   840801013  \n",
              "1      NaN            f   840801014  \n",
              "2      NaN            t   840801042  \n",
              "3      NaN            t   840803046  \n",
              "4      NaN            t   840803047  \n",
              "...    ...          ...         ...  \n",
              "9167  77.0            f   870119022  \n",
              "9168  99.0            f   870119023  \n",
              "9169  89.0            f   870119025  \n",
              "9170  88.0            f   870119027  \n",
              "9171  65.0            f   870119035  \n",
              "\n",
              "[9172 rows x 28 columns]"
            ],
            "text/html": [
              "\n",
              "  <div id=\"df-c5f6c037-e7c6-412e-bb22-2bf5392599e9\">\n",
              "    <div class=\"colab-df-container\">\n",
              "      <div>\n",
              "<style scoped>\n",
              "    .dataframe tbody tr th:only-of-type {\n",
              "        vertical-align: middle;\n",
              "    }\n",
              "\n",
              "    .dataframe tbody tr th {\n",
              "        vertical-align: top;\n",
              "    }\n",
              "\n",
              "    .dataframe thead th {\n",
              "        text-align: right;\n",
              "    }\n",
              "</style>\n",
              "<table border=\"1\" class=\"dataframe\">\n",
              "  <thead>\n",
              "    <tr style=\"text-align: right;\">\n",
              "      <th></th>\n",
              "      <th>age</th>\n",
              "      <th>sex</th>\n",
              "      <th>on_thyroxine</th>\n",
              "      <th>query_on_thyroxine</th>\n",
              "      <th>on_antithyroid_meds</th>\n",
              "      <th>sick</th>\n",
              "      <th>pregnant</th>\n",
              "      <th>thyroid_surgery</th>\n",
              "      <th>I131_treatment</th>\n",
              "      <th>query_hypothyroid</th>\n",
              "      <th>...</th>\n",
              "      <th>T3_measured</th>\n",
              "      <th>T3</th>\n",
              "      <th>TT4_measured</th>\n",
              "      <th>TT4</th>\n",
              "      <th>T4U_measured</th>\n",
              "      <th>T4U</th>\n",
              "      <th>FTI_measured</th>\n",
              "      <th>FTI</th>\n",
              "      <th>TBG_measured</th>\n",
              "      <th>patient_id</th>\n",
              "    </tr>\n",
              "  </thead>\n",
              "  <tbody>\n",
              "    <tr>\n",
              "      <th>0</th>\n",
              "      <td>29</td>\n",
              "      <td>F</td>\n",
              "      <td>f</td>\n",
              "      <td>f</td>\n",
              "      <td>f</td>\n",
              "      <td>f</td>\n",
              "      <td>f</td>\n",
              "      <td>f</td>\n",
              "      <td>f</td>\n",
              "      <td>t</td>\n",
              "      <td>...</td>\n",
              "      <td>f</td>\n",
              "      <td>NaN</td>\n",
              "      <td>f</td>\n",
              "      <td>NaN</td>\n",
              "      <td>f</td>\n",
              "      <td>NaN</td>\n",
              "      <td>f</td>\n",
              "      <td>NaN</td>\n",
              "      <td>f</td>\n",
              "      <td>840801013</td>\n",
              "    </tr>\n",
              "    <tr>\n",
              "      <th>1</th>\n",
              "      <td>29</td>\n",
              "      <td>F</td>\n",
              "      <td>f</td>\n",
              "      <td>f</td>\n",
              "      <td>f</td>\n",
              "      <td>f</td>\n",
              "      <td>f</td>\n",
              "      <td>f</td>\n",
              "      <td>f</td>\n",
              "      <td>f</td>\n",
              "      <td>...</td>\n",
              "      <td>t</td>\n",
              "      <td>1.9</td>\n",
              "      <td>t</td>\n",
              "      <td>128.0</td>\n",
              "      <td>f</td>\n",
              "      <td>NaN</td>\n",
              "      <td>f</td>\n",
              "      <td>NaN</td>\n",
              "      <td>f</td>\n",
              "      <td>840801014</td>\n",
              "    </tr>\n",
              "    <tr>\n",
              "      <th>2</th>\n",
              "      <td>41</td>\n",
              "      <td>F</td>\n",
              "      <td>f</td>\n",
              "      <td>f</td>\n",
              "      <td>f</td>\n",
              "      <td>f</td>\n",
              "      <td>f</td>\n",
              "      <td>f</td>\n",
              "      <td>f</td>\n",
              "      <td>f</td>\n",
              "      <td>...</td>\n",
              "      <td>f</td>\n",
              "      <td>NaN</td>\n",
              "      <td>f</td>\n",
              "      <td>NaN</td>\n",
              "      <td>f</td>\n",
              "      <td>NaN</td>\n",
              "      <td>f</td>\n",
              "      <td>NaN</td>\n",
              "      <td>t</td>\n",
              "      <td>840801042</td>\n",
              "    </tr>\n",
              "    <tr>\n",
              "      <th>3</th>\n",
              "      <td>36</td>\n",
              "      <td>F</td>\n",
              "      <td>f</td>\n",
              "      <td>f</td>\n",
              "      <td>f</td>\n",
              "      <td>f</td>\n",
              "      <td>f</td>\n",
              "      <td>f</td>\n",
              "      <td>f</td>\n",
              "      <td>f</td>\n",
              "      <td>...</td>\n",
              "      <td>f</td>\n",
              "      <td>NaN</td>\n",
              "      <td>f</td>\n",
              "      <td>NaN</td>\n",
              "      <td>f</td>\n",
              "      <td>NaN</td>\n",
              "      <td>f</td>\n",
              "      <td>NaN</td>\n",
              "      <td>t</td>\n",
              "      <td>840803046</td>\n",
              "    </tr>\n",
              "    <tr>\n",
              "      <th>4</th>\n",
              "      <td>32</td>\n",
              "      <td>F</td>\n",
              "      <td>f</td>\n",
              "      <td>f</td>\n",
              "      <td>f</td>\n",
              "      <td>f</td>\n",
              "      <td>f</td>\n",
              "      <td>f</td>\n",
              "      <td>f</td>\n",
              "      <td>f</td>\n",
              "      <td>...</td>\n",
              "      <td>f</td>\n",
              "      <td>NaN</td>\n",
              "      <td>f</td>\n",
              "      <td>NaN</td>\n",
              "      <td>f</td>\n",
              "      <td>NaN</td>\n",
              "      <td>f</td>\n",
              "      <td>NaN</td>\n",
              "      <td>t</td>\n",
              "      <td>840803047</td>\n",
              "    </tr>\n",
              "    <tr>\n",
              "      <th>...</th>\n",
              "      <td>...</td>\n",
              "      <td>...</td>\n",
              "      <td>...</td>\n",
              "      <td>...</td>\n",
              "      <td>...</td>\n",
              "      <td>...</td>\n",
              "      <td>...</td>\n",
              "      <td>...</td>\n",
              "      <td>...</td>\n",
              "      <td>...</td>\n",
              "      <td>...</td>\n",
              "      <td>...</td>\n",
              "      <td>...</td>\n",
              "      <td>...</td>\n",
              "      <td>...</td>\n",
              "      <td>...</td>\n",
              "      <td>...</td>\n",
              "      <td>...</td>\n",
              "      <td>...</td>\n",
              "      <td>...</td>\n",
              "      <td>...</td>\n",
              "    </tr>\n",
              "    <tr>\n",
              "      <th>9167</th>\n",
              "      <td>56</td>\n",
              "      <td>M</td>\n",
              "      <td>f</td>\n",
              "      <td>f</td>\n",
              "      <td>f</td>\n",
              "      <td>f</td>\n",
              "      <td>f</td>\n",
              "      <td>f</td>\n",
              "      <td>f</td>\n",
              "      <td>f</td>\n",
              "      <td>...</td>\n",
              "      <td>f</td>\n",
              "      <td>NaN</td>\n",
              "      <td>t</td>\n",
              "      <td>64.0</td>\n",
              "      <td>t</td>\n",
              "      <td>0.83</td>\n",
              "      <td>t</td>\n",
              "      <td>77.0</td>\n",
              "      <td>f</td>\n",
              "      <td>870119022</td>\n",
              "    </tr>\n",
              "    <tr>\n",
              "      <th>9168</th>\n",
              "      <td>22</td>\n",
              "      <td>M</td>\n",
              "      <td>f</td>\n",
              "      <td>f</td>\n",
              "      <td>f</td>\n",
              "      <td>f</td>\n",
              "      <td>f</td>\n",
              "      <td>f</td>\n",
              "      <td>f</td>\n",
              "      <td>f</td>\n",
              "      <td>...</td>\n",
              "      <td>f</td>\n",
              "      <td>NaN</td>\n",
              "      <td>t</td>\n",
              "      <td>91.0</td>\n",
              "      <td>t</td>\n",
              "      <td>0.92</td>\n",
              "      <td>t</td>\n",
              "      <td>99.0</td>\n",
              "      <td>f</td>\n",
              "      <td>870119023</td>\n",
              "    </tr>\n",
              "    <tr>\n",
              "      <th>9169</th>\n",
              "      <td>69</td>\n",
              "      <td>M</td>\n",
              "      <td>f</td>\n",
              "      <td>f</td>\n",
              "      <td>f</td>\n",
              "      <td>f</td>\n",
              "      <td>f</td>\n",
              "      <td>f</td>\n",
              "      <td>f</td>\n",
              "      <td>f</td>\n",
              "      <td>...</td>\n",
              "      <td>f</td>\n",
              "      <td>NaN</td>\n",
              "      <td>t</td>\n",
              "      <td>113.0</td>\n",
              "      <td>t</td>\n",
              "      <td>1.27</td>\n",
              "      <td>t</td>\n",
              "      <td>89.0</td>\n",
              "      <td>f</td>\n",
              "      <td>870119025</td>\n",
              "    </tr>\n",
              "    <tr>\n",
              "      <th>9170</th>\n",
              "      <td>47</td>\n",
              "      <td>F</td>\n",
              "      <td>f</td>\n",
              "      <td>f</td>\n",
              "      <td>f</td>\n",
              "      <td>f</td>\n",
              "      <td>f</td>\n",
              "      <td>f</td>\n",
              "      <td>f</td>\n",
              "      <td>f</td>\n",
              "      <td>...</td>\n",
              "      <td>f</td>\n",
              "      <td>NaN</td>\n",
              "      <td>t</td>\n",
              "      <td>75.0</td>\n",
              "      <td>t</td>\n",
              "      <td>0.85</td>\n",
              "      <td>t</td>\n",
              "      <td>88.0</td>\n",
              "      <td>f</td>\n",
              "      <td>870119027</td>\n",
              "    </tr>\n",
              "    <tr>\n",
              "      <th>9171</th>\n",
              "      <td>31</td>\n",
              "      <td>M</td>\n",
              "      <td>f</td>\n",
              "      <td>f</td>\n",
              "      <td>f</td>\n",
              "      <td>f</td>\n",
              "      <td>f</td>\n",
              "      <td>f</td>\n",
              "      <td>f</td>\n",
              "      <td>t</td>\n",
              "      <td>...</td>\n",
              "      <td>f</td>\n",
              "      <td>NaN</td>\n",
              "      <td>t</td>\n",
              "      <td>66.0</td>\n",
              "      <td>t</td>\n",
              "      <td>1.02</td>\n",
              "      <td>t</td>\n",
              "      <td>65.0</td>\n",
              "      <td>f</td>\n",
              "      <td>870119035</td>\n",
              "    </tr>\n",
              "  </tbody>\n",
              "</table>\n",
              "<p>9172 rows × 28 columns</p>\n",
              "</div>\n",
              "      <button class=\"colab-df-convert\" onclick=\"convertToInteractive('df-c5f6c037-e7c6-412e-bb22-2bf5392599e9')\"\n",
              "              title=\"Convert this dataframe to an interactive table.\"\n",
              "              style=\"display:none;\">\n",
              "        \n",
              "  <svg xmlns=\"http://www.w3.org/2000/svg\" height=\"24px\"viewBox=\"0 0 24 24\"\n",
              "       width=\"24px\">\n",
              "    <path d=\"M0 0h24v24H0V0z\" fill=\"none\"/>\n",
              "    <path d=\"M18.56 5.44l.94 2.06.94-2.06 2.06-.94-2.06-.94-.94-2.06-.94 2.06-2.06.94zm-11 1L8.5 8.5l.94-2.06 2.06-.94-2.06-.94L8.5 2.5l-.94 2.06-2.06.94zm10 10l.94 2.06.94-2.06 2.06-.94-2.06-.94-.94-2.06-.94 2.06-2.06.94z\"/><path d=\"M17.41 7.96l-1.37-1.37c-.4-.4-.92-.59-1.43-.59-.52 0-1.04.2-1.43.59L10.3 9.45l-7.72 7.72c-.78.78-.78 2.05 0 2.83L4 21.41c.39.39.9.59 1.41.59.51 0 1.02-.2 1.41-.59l7.78-7.78 2.81-2.81c.8-.78.8-2.07 0-2.86zM5.41 20L4 18.59l7.72-7.72 1.47 1.35L5.41 20z\"/>\n",
              "  </svg>\n",
              "      </button>\n",
              "      \n",
              "  <style>\n",
              "    .colab-df-container {\n",
              "      display:flex;\n",
              "      flex-wrap:wrap;\n",
              "      gap: 12px;\n",
              "    }\n",
              "\n",
              "    .colab-df-convert {\n",
              "      background-color: #E8F0FE;\n",
              "      border: none;\n",
              "      border-radius: 50%;\n",
              "      cursor: pointer;\n",
              "      display: none;\n",
              "      fill: #1967D2;\n",
              "      height: 32px;\n",
              "      padding: 0 0 0 0;\n",
              "      width: 32px;\n",
              "    }\n",
              "\n",
              "    .colab-df-convert:hover {\n",
              "      background-color: #E2EBFA;\n",
              "      box-shadow: 0px 1px 2px rgba(60, 64, 67, 0.3), 0px 1px 3px 1px rgba(60, 64, 67, 0.15);\n",
              "      fill: #174EA6;\n",
              "    }\n",
              "\n",
              "    [theme=dark] .colab-df-convert {\n",
              "      background-color: #3B4455;\n",
              "      fill: #D2E3FC;\n",
              "    }\n",
              "\n",
              "    [theme=dark] .colab-df-convert:hover {\n",
              "      background-color: #434B5C;\n",
              "      box-shadow: 0px 1px 3px 1px rgba(0, 0, 0, 0.15);\n",
              "      filter: drop-shadow(0px 1px 2px rgba(0, 0, 0, 0.3));\n",
              "      fill: #FFFFFF;\n",
              "    }\n",
              "  </style>\n",
              "\n",
              "      <script>\n",
              "        const buttonEl =\n",
              "          document.querySelector('#df-c5f6c037-e7c6-412e-bb22-2bf5392599e9 button.colab-df-convert');\n",
              "        buttonEl.style.display =\n",
              "          google.colab.kernel.accessAllowed ? 'block' : 'none';\n",
              "\n",
              "        async function convertToInteractive(key) {\n",
              "          const element = document.querySelector('#df-c5f6c037-e7c6-412e-bb22-2bf5392599e9');\n",
              "          const dataTable =\n",
              "            await google.colab.kernel.invokeFunction('convertToInteractive',\n",
              "                                                     [key], {});\n",
              "          if (!dataTable) return;\n",
              "\n",
              "          const docLinkHtml = 'Like what you see? Visit the ' +\n",
              "            '<a target=\"_blank\" href=https://colab.research.google.com/notebooks/data_table.ipynb>data table notebook</a>'\n",
              "            + ' to learn more about interactive tables.';\n",
              "          element.innerHTML = '';\n",
              "          dataTable['output_type'] = 'display_data';\n",
              "          await google.colab.output.renderOutput(dataTable, element);\n",
              "          const docLink = document.createElement('div');\n",
              "          docLink.innerHTML = docLinkHtml;\n",
              "          element.appendChild(docLink);\n",
              "        }\n",
              "      </script>\n",
              "    </div>\n",
              "  </div>\n",
              "  "
            ]
          },
          "metadata": {},
          "execution_count": 61
        }
      ]
    },
    {
      "cell_type": "code",
      "source": [
        "new_dataset[\"query_hypothyroid\"].value_counts()#Pacientes que presentan o no hipotiroidismo, \n",
        "#f es false (No tienen hipotiroidismo) y t es true (Si tienen hipotiroidismo)"
      ],
      "metadata": {
        "colab": {
          "base_uri": "https://localhost:8080/"
        },
        "id": "axftMP8rEsBm",
        "outputId": "71add5fe-0c3a-4292-e614-de1b211da6ff"
      },
      "execution_count": null,
      "outputs": [
        {
          "output_type": "execute_result",
          "data": {
            "text/plain": [
              "f    8542\n",
              "t     630\n",
              "Name: query_hypothyroid, dtype: int64"
            ]
          },
          "metadata": {},
          "execution_count": 63
        }
      ]
    },
    {
      "cell_type": "code",
      "source": [
        "new_dataset[\"query_hyperthyroid\"].value_counts()#Pacientes que presentan o no hipertiroidismo,\n",
        "#f es false (No tienen hipertiroidismo) y t es true (Si tienen hipertiroidismo)"
      ],
      "metadata": {
        "colab": {
          "base_uri": "https://localhost:8080/"
        },
        "id": "MWcyCZU_MiCy",
        "outputId": "30581be6-cb72-4c78-9ca5-e54bc85b98ee"
      },
      "execution_count": null,
      "outputs": [
        {
          "output_type": "execute_result",
          "data": {
            "text/plain": [
              "f    8521\n",
              "t     651\n",
              "Name: query_hyperthyroid, dtype: int64"
            ]
          },
          "metadata": {},
          "execution_count": 59
        }
      ]
    },
    {
      "cell_type": "code",
      "source": [
        "format_dataset_hypo = new_dataset[\"query_hypothyroid\"].map({\"f\":0,\"t\":1})\n",
        "format_dataset_hypo.value_counts()"
      ],
      "metadata": {
        "colab": {
          "base_uri": "https://localhost:8080/"
        },
        "id": "TqHrSj2c-PE6",
        "outputId": "b62bd7f9-fde6-48c6-93a4-ac0bc6d5e01d"
      },
      "execution_count": null,
      "outputs": [
        {
          "output_type": "execute_result",
          "data": {
            "text/plain": [
              "0    8542\n",
              "1     630\n",
              "Name: query_hypothyroid, dtype: int64"
            ]
          },
          "metadata": {},
          "execution_count": 72
        }
      ]
    },
    {
      "cell_type": "code",
      "source": [
        "format_dataset_hyper = new_dataset[\"query_hyperthyroid\"].map({\"f\":0,\"t\":1})\n",
        "\n",
        "format_dataset_hyper.value_counts()\n",
        "\n"
      ],
      "metadata": {
        "colab": {
          "base_uri": "https://localhost:8080/"
        },
        "id": "9Y4BUWcROdAS",
        "outputId": "bda53fa6-c8ff-4230-f634-f535145643f2"
      },
      "execution_count": null,
      "outputs": [
        {
          "output_type": "execute_result",
          "data": {
            "text/plain": [
              "0    8521\n",
              "1     651\n",
              "Name: query_hyperthyroid, dtype: int64"
            ]
          },
          "metadata": {},
          "execution_count": 71
        }
      ]
    },
    {
      "cell_type": "code",
      "source": [
        "print(\"Categorias unicas de la columna 'pregnant'\", df['pregnant'].unique())\n",
        "print(\"Conteo de categorias de la columna 'pregnant' \\n\", df[\"pregnant\"].value_counts())"
      ],
      "metadata": {
        "colab": {
          "base_uri": "https://localhost:8080/"
        },
        "id": "nEjHRawjXzws",
        "outputId": "ac89dc00-3e59-41a9-ddb7-3f9ce36e003d"
      },
      "execution_count": null,
      "outputs": [
        {
          "output_type": "stream",
          "name": "stdout",
          "text": [
            "Categorias unicas de la columna 'pregnant' ['f' 't']\n",
            "Conteo de categorias de la columna 'pregnant' \n",
            " f    9065\n",
            "t     107\n",
            "Name: pregnant, dtype: int64\n"
          ]
        }
      ]
    },
    {
      "cell_type": "code",
      "source": [
        "print(\"Categorias unicas en la columna 'T3 measured'\", df['T3_measured'].unique())\n",
        "print(\"Conteo de categorias de la columna 'T3 measured' \\n\", df[\"T3_measured\"].value_counts())"
      ],
      "metadata": {
        "colab": {
          "base_uri": "https://localhost:8080/"
        },
        "id": "vYPJ6RiuYEfx",
        "outputId": "669fea29-f0c6-43ba-f1df-8c8c2c499419"
      },
      "execution_count": null,
      "outputs": [
        {
          "output_type": "stream",
          "name": "stdout",
          "text": [
            "Categorias unicas en la columna 'T3 measured' ['f' 't']\n",
            "Conteo de categorias de la columna 'T3 measured' \n",
            " t    6568\n",
            "f    2604\n",
            "Name: T3_measured, dtype: int64\n"
          ]
        }
      ]
    },
    {
      "cell_type": "code",
      "source": [
        "df_by_sex_count = df.groupby('sex').count()[\"patient_id\"]#Se agrupara por sexo para contar cuantos pacientes femeninos o masculinos existen\n",
        "print (df_by_sex_count)\n",
        "print (\"El numero total de pacientes que con sexo registrado es: \" +str (df_by_sex_count.sum()))#Es el numero total de pacientes registrados con sexo en el dataset\n"
      ],
      "metadata": {
        "colab": {
          "base_uri": "https://localhost:8080/"
        },
        "id": "bCppPiC6n4LC",
        "outputId": "d8769763-3d88-4371-cba0-8a210c85ab30"
      },
      "execution_count": null,
      "outputs": [
        {
          "output_type": "stream",
          "name": "stdout",
          "text": [
            "sex\n",
            "F    6073\n",
            "M    2792\n",
            "Name: patient_id, dtype: int64\n",
            "El numero total de pacientes que con sexo registrado es: 8865\n"
          ]
        }
      ]
    },
    {
      "cell_type": "code",
      "source": [
        "df_by_sex_count = df.groupby('sex').count()[\"patient_id\"].plot(kind='bar')#Grafica de barras para evalular el resultado anterior"
      ],
      "metadata": {
        "colab": {
          "base_uri": "https://localhost:8080/",
          "height": 278
        },
        "id": "A5DUmjTJpAT-",
        "outputId": "f5c24e91-0036-481f-e25b-6900b745a3cf"
      },
      "execution_count": null,
      "outputs": [
        {
          "output_type": "display_data",
          "data": {
            "text/plain": [
              "<Figure size 432x288 with 1 Axes>"
            ],
            "image/png": "[encoded data removed]"
          },
          "metadata": {
            "needs_background": "light"
          }
        }
      ]
    },
    {
      "cell_type": "code",
      "source": [
        "#Ahora vamos a hacer una análisis mas profundo de los datos, sacando gráficas que nos permitan interprestar los datos,\n",
        "#tendremos el promedio de edad por sexo de los pacientes\n",
        "df_by_sex = df.groupby('sex').mean()[\"age\"]\n",
        "df_by_sex\n"
      ],
      "metadata": {
        "colab": {
          "base_uri": "https://localhost:8080/"
        },
        "id": "ArMKaf-8plgZ",
        "outputId": "092d4738-aca1-4bc9-dfc5-d83b82e5e693"
      },
      "execution_count": null,
      "outputs": [
        {
          "output_type": "execute_result",
          "data": {
            "text/plain": [
              "sex\n",
              "F    63.069159\n",
              "M    98.929083\n",
              "Name: age, dtype: float64"
            ]
          },
          "metadata": {},
          "execution_count": 121
        }
      ]
    },
    {
      "cell_type": "code",
      "source": [
        "df_by_sex = df.groupby('sex').mean()[\"age\"].plot(kind='bar')#Graficamos el promedio de edad por sexo"
      ],
      "metadata": {
        "colab": {
          "base_uri": "https://localhost:8080/",
          "height": 278
        },
        "id": "rzo9Nt1jps1F",
        "outputId": "17b3af31-132d-4629-8c74-6a858da0b62a"
      },
      "execution_count": null,
      "outputs": [
        {
          "output_type": "display_data",
          "data": {
            "text/plain": [
              "<Figure size 432x288 with 1 Axes>"
            ],
            "image/png": "[encoded data removed]"
          },
          "metadata": {
            "needs_background": "light"
          }
        }
      ]
    },
    {
      "cell_type": "markdown",
      "source": [
        "En un acercamiento inicial se puede observar que hay mas mujeres que hombres en el dataset, pero es un poco preocupante ver que los hombres al tener un 32.5% respecto al 100% de participantes poseen un promedio de edad mucho mas grande correspondiente a 98 años. Ahora vamos a ver cuantos de estos hombres y mujeres padecen enfermdad de tiorides y cuales serán las métricas a usar."
      ],
      "metadata": {
        "id": "m949EPLFp33z"
      }
    },
    {
      "cell_type": "code",
      "source": [
        "# Reemplazamos las columnas categoricas por valores binarios para hacer poder hacer el modelado\n",
        "dataset = df.replace({'f':0,'t':1, 'y':1, 'n':0, 'M':0, 'F':1})\n",
        "final_data = dataset.drop(['target','referral_source','TBG'], axis=1) #Se eliminan las columnas que no son de interés"
      ],
      "metadata": {
        "id": "oBrbVenSY8vY"
      },
      "execution_count": null,
      "outputs": []
    },
    {
      "cell_type": "code",
      "source": [
        "final_data.replace(to_replace='?', inplace=True, value=np.NaN)\n",
        "final_data.head()"
      ],
      "metadata": {
        "colab": {
          "base_uri": "https://localhost:8080/",
          "height": 299
        },
        "id": "P4mg8Zl3Z51V",
        "outputId": "f85694a0-89fd-48dd-ac7f-b2ef4b6cb7a9"
      },
      "execution_count": null,
      "outputs": [
        {
          "output_type": "execute_result",
          "data": {
            "text/plain": [
              "   age  sex  on_thyroxine  query_on_thyroxine  on_antithyroid_meds  sick  \\\n",
              "0   29  1.0             0                   0                    0     0   \n",
              "1   29  1.0             0                   0                    0     0   \n",
              "2   41  1.0             0                   0                    0     0   \n",
              "3   36  1.0             0                   0                    0     0   \n",
              "4   32  1.0             0                   0                    0     0   \n",
              "\n",
              "   pregnant  thyroid_surgery  I131_treatment  query_hypothyroid  ...  \\\n",
              "0         0                0               0                  1  ...   \n",
              "1         0                0               0                  0  ...   \n",
              "2         0                0               0                  0  ...   \n",
              "3         0                0               0                  0  ...   \n",
              "4         0                0               0                  0  ...   \n",
              "\n",
              "   T3_measured   T3  TT4_measured    TT4  T4U_measured  T4U  FTI_measured  \\\n",
              "0            0  NaN             0    NaN             0  NaN             0   \n",
              "1            1  1.9             1  128.0             0  NaN             0   \n",
              "2            0  NaN             0    NaN             0  NaN             0   \n",
              "3            0  NaN             0    NaN             0  NaN             0   \n",
              "4            0  NaN             0    NaN             0  NaN             0   \n",
              "\n",
              "   FTI  TBG_measured  patient_id  \n",
              "0  NaN             0   840801013  \n",
              "1  NaN             0   840801014  \n",
              "2  NaN             1   840801042  \n",
              "3  NaN             1   840803046  \n",
              "4  NaN             1   840803047  \n",
              "\n",
              "[5 rows x 28 columns]"
            ],
            "text/html": [
              "\n",
              "  <div id=\"df-19281abc-feda-4ffb-bce5-fd286ae0f340\">\n",
              "    <div class=\"colab-df-container\">\n",
              "      <div>\n",
              "<style scoped>\n",
              "    .dataframe tbody tr th:only-of-type {\n",
              "        vertical-align: middle;\n",
              "    }\n",
              "\n",
              "    .dataframe tbody tr th {\n",
              "        vertical-align: top;\n",
              "    }\n",
              "\n",
              "    .dataframe thead th {\n",
              "        text-align: right;\n",
              "    }\n",
              "</style>\n",
              "<table border=\"1\" class=\"dataframe\">\n",
              "  <thead>\n",
              "    <tr style=\"text-align: right;\">\n",
              "      <th></th>\n",
              "      <th>age</th>\n",
              "      <th>sex</th>\n",
              "      <th>on_thyroxine</th>\n",
              "      <th>query_on_thyroxine</th>\n",
              "      <th>on_antithyroid_meds</th>\n",
              "      <th>sick</th>\n",
              "      <th>pregnant</th>\n",
              "      <th>thyroid_surgery</th>\n",
              "      <th>I131_treatment</th>\n",
              "      <th>query_hypothyroid</th>\n",
              "      <th>...</th>\n",
              "      <th>T3_measured</th>\n",
              "      <th>T3</th>\n",
              "      <th>TT4_measured</th>\n",
              "      <th>TT4</th>\n",
              "      <th>T4U_measured</th>\n",
              "      <th>T4U</th>\n",
              "      <th>FTI_measured</th>\n",
              "      <th>FTI</th>\n",
              "      <th>TBG_measured</th>\n",
              "      <th>patient_id</th>\n",
              "    </tr>\n",
              "  </thead>\n",
              "  <tbody>\n",
              "    <tr>\n",
              "      <th>0</th>\n",
              "      <td>29</td>\n",
              "      <td>1.0</td>\n",
              "      <td>0</td>\n",
              "      <td>0</td>\n",
              "      <td>0</td>\n",
              "      <td>0</td>\n",
              "      <td>0</td>\n",
              "      <td>0</td>\n",
              "      <td>0</td>\n",
              "      <td>1</td>\n",
              "      <td>...</td>\n",
              "      <td>0</td>\n",
              "      <td>NaN</td>\n",
              "      <td>0</td>\n",
              "      <td>NaN</td>\n",
              "      <td>0</td>\n",
              "      <td>NaN</td>\n",
              "      <td>0</td>\n",
              "      <td>NaN</td>\n",
              "      <td>0</td>\n",
              "      <td>840801013</td>\n",
              "    </tr>\n",
              "    <tr>\n",
              "      <th>1</th>\n",
              "      <td>29</td>\n",
              "      <td>1.0</td>\n",
              "      <td>0</td>\n",
              "      <td>0</td>\n",
              "      <td>0</td>\n",
              "      <td>0</td>\n",
              "      <td>0</td>\n",
              "      <td>0</td>\n",
              "      <td>0</td>\n",
              "      <td>0</td>\n",
              "      <td>...</td>\n",
              "      <td>1</td>\n",
              "      <td>1.9</td>\n",
              "      <td>1</td>\n",
              "      <td>128.0</td>\n",
              "      <td>0</td>\n",
              "      <td>NaN</td>\n",
              "      <td>0</td>\n",
              "      <td>NaN</td>\n",
              "      <td>0</td>\n",
              "      <td>840801014</td>\n",
              "    </tr>\n",
              "    <tr>\n",
              "      <th>2</th>\n",
              "      <td>41</td>\n",
              "      <td>1.0</td>\n",
              "      <td>0</td>\n",
              "      <td>0</td>\n",
              "      <td>0</td>\n",
              "      <td>0</td>\n",
              "      <td>0</td>\n",
              "      <td>0</td>\n",
              "      <td>0</td>\n",
              "      <td>0</td>\n",
              "      <td>...</td>\n",
              "      <td>0</td>\n",
              "      <td>NaN</td>\n",
              "      <td>0</td>\n",
              "      <td>NaN</td>\n",
              "      <td>0</td>\n",
              "      <td>NaN</td>\n",
              "      <td>0</td>\n",
              "      <td>NaN</td>\n",
              "      <td>1</td>\n",
              "      <td>840801042</td>\n",
              "    </tr>\n",
              "    <tr>\n",
              "      <th>3</th>\n",
              "      <td>36</td>\n",
              "      <td>1.0</td>\n",
              "      <td>0</td>\n",
              "      <td>0</td>\n",
              "      <td>0</td>\n",
              "      <td>0</td>\n",
              "      <td>0</td>\n",
              "      <td>0</td>\n",
              "      <td>0</td>\n",
              "      <td>0</td>\n",
              "      <td>...</td>\n",
              "      <td>0</td>\n",
              "      <td>NaN</td>\n",
              "      <td>0</td>\n",
              "      <td>NaN</td>\n",
              "      <td>0</td>\n",
              "      <td>NaN</td>\n",
              "      <td>0</td>\n",
              "      <td>NaN</td>\n",
              "      <td>1</td>\n",
              "      <td>840803046</td>\n",
              "    </tr>\n",
              "    <tr>\n",
              "      <th>4</th>\n",
              "      <td>32</td>\n",
              "      <td>1.0</td>\n",
              "      <td>0</td>\n",
              "      <td>0</td>\n",
              "      <td>0</td>\n",
              "      <td>0</td>\n",
              "      <td>0</td>\n",
              "      <td>0</td>\n",
              "      <td>0</td>\n",
              "      <td>0</td>\n",
              "      <td>...</td>\n",
              "      <td>0</td>\n",
              "      <td>NaN</td>\n",
              "      <td>0</td>\n",
              "      <td>NaN</td>\n",
              "      <td>0</td>\n",
              "      <td>NaN</td>\n",
              "      <td>0</td>\n",
              "      <td>NaN</td>\n",
              "      <td>1</td>\n",
              "      <td>840803047</td>\n",
              "    </tr>\n",
              "  </tbody>\n",
              "</table>\n",
              "<p>5 rows × 28 columns</p>\n",
              "</div>\n",
              "      <button class=\"colab-df-convert\" onclick=\"convertToInteractive('df-19281abc-feda-4ffb-bce5-fd286ae0f340')\"\n",
              "              title=\"Convert this dataframe to an interactive table.\"\n",
              "              style=\"display:none;\">\n",
              "        \n",
              "  <svg xmlns=\"http://www.w3.org/2000/svg\" height=\"24px\"viewBox=\"0 0 24 24\"\n",
              "       width=\"24px\">\n",
              "    <path d=\"M0 0h24v24H0V0z\" fill=\"none\"/>\n",
              "    <path d=\"M18.56 5.44l.94 2.06.94-2.06 2.06-.94-2.06-.94-.94-2.06-.94 2.06-2.06.94zm-11 1L8.5 8.5l.94-2.06 2.06-.94-2.06-.94L8.5 2.5l-.94 2.06-2.06.94zm10 10l.94 2.06.94-2.06 2.06-.94-2.06-.94-.94-2.06-.94 2.06-2.06.94z\"/><path d=\"M17.41 7.96l-1.37-1.37c-.4-.4-.92-.59-1.43-.59-.52 0-1.04.2-1.43.59L10.3 9.45l-7.72 7.72c-.78.78-.78 2.05 0 2.83L4 21.41c.39.39.9.59 1.41.59.51 0 1.02-.2 1.41-.59l7.78-7.78 2.81-2.81c.8-.78.8-2.07 0-2.86zM5.41 20L4 18.59l7.72-7.72 1.47 1.35L5.41 20z\"/>\n",
              "  </svg>\n",
              "      </button>\n",
              "      \n",
              "  <style>\n",
              "    .colab-df-container {\n",
              "      display:flex;\n",
              "      flex-wrap:wrap;\n",
              "      gap: 12px;\n",
              "    }\n",
              "\n",
              "    .colab-df-convert {\n",
              "      background-color: #E8F0FE;\n",
              "      border: none;\n",
              "      border-radius: 50%;\n",
              "      cursor: pointer;\n",
              "      display: none;\n",
              "      fill: #1967D2;\n",
              "      height: 32px;\n",
              "      padding: 0 0 0 0;\n",
              "      width: 32px;\n",
              "    }\n",
              "\n",
              "    .colab-df-convert:hover {\n",
              "      background-color: #E2EBFA;\n",
              "      box-shadow: 0px 1px 2px rgba(60, 64, 67, 0.3), 0px 1px 3px 1px rgba(60, 64, 67, 0.15);\n",
              "      fill: #174EA6;\n",
              "    }\n",
              "\n",
              "    [theme=dark] .colab-df-convert {\n",
              "      background-color: #3B4455;\n",
              "      fill: #D2E3FC;\n",
              "    }\n",
              "\n",
              "    [theme=dark] .colab-df-convert:hover {\n",
              "      background-color: #434B5C;\n",
              "      box-shadow: 0px 1px 3px 1px rgba(0, 0, 0, 0.15);\n",
              "      filter: drop-shadow(0px 1px 2px rgba(0, 0, 0, 0.3));\n",
              "      fill: #FFFFFF;\n",
              "    }\n",
              "  </style>\n",
              "\n",
              "      <script>\n",
              "        const buttonEl =\n",
              "          document.querySelector('#df-19281abc-feda-4ffb-bce5-fd286ae0f340 button.colab-df-convert');\n",
              "        buttonEl.style.display =\n",
              "          google.colab.kernel.accessAllowed ? 'block' : 'none';\n",
              "\n",
              "        async function convertToInteractive(key) {\n",
              "          const element = document.querySelector('#df-19281abc-feda-4ffb-bce5-fd286ae0f340');\n",
              "          const dataTable =\n",
              "            await google.colab.kernel.invokeFunction('convertToInteractive',\n",
              "                                                     [key], {});\n",
              "          if (!dataTable) return;\n",
              "\n",
              "          const docLinkHtml = 'Like what you see? Visit the ' +\n",
              "            '<a target=\"_blank\" href=https://colab.research.google.com/notebooks/data_table.ipynb>data table notebook</a>'\n",
              "            + ' to learn more about interactive tables.';\n",
              "          element.innerHTML = '';\n",
              "          dataTable['output_type'] = 'display_data';\n",
              "          await google.colab.output.renderOutput(dataTable, element);\n",
              "          const docLink = document.createElement('div');\n",
              "          docLink.innerHTML = docLinkHtml;\n",
              "          element.appendChild(docLink);\n",
              "        }\n",
              "      </script>\n",
              "    </div>\n",
              "  </div>\n",
              "  "
            ]
          },
          "metadata": {},
          "execution_count": 89
        }
      ]
    },
    {
      "cell_type": "code",
      "source": [
        "#Contamos la cantidad de valores que hay null en cada una de las columnas\n",
        "final_data.isnull().sum()"
      ],
      "metadata": {
        "colab": {
          "base_uri": "https://localhost:8080/"
        },
        "id": "iUv8NBUxaW-X",
        "outputId": "ac5b16ba-7d31-4abe-c31e-9aaca9cc814f"
      },
      "execution_count": null,
      "outputs": [
        {
          "output_type": "execute_result",
          "data": {
            "text/plain": [
              "age                       0\n",
              "sex                     307\n",
              "on_thyroxine              0\n",
              "query_on_thyroxine        0\n",
              "on_antithyroid_meds       0\n",
              "sick                      0\n",
              "pregnant                  0\n",
              "thyroid_surgery           0\n",
              "I131_treatment            0\n",
              "query_hypothyroid         0\n",
              "query_hyperthyroid        0\n",
              "lithium                   0\n",
              "goitre                    0\n",
              "tumor                     0\n",
              "hypopituitary             0\n",
              "psych                     0\n",
              "TSH_measured              0\n",
              "TSH                     842\n",
              "T3_measured               0\n",
              "T3                     2604\n",
              "TT4_measured              0\n",
              "TT4                     442\n",
              "T4U_measured              0\n",
              "T4U                     809\n",
              "FTI_measured              0\n",
              "FTI                     802\n",
              "TBG_measured              0\n",
              "patient_id                0\n",
              "dtype: int64"
            ]
          },
          "metadata": {},
          "execution_count": 100
        }
      ]
    },
    {
      "cell_type": "markdown",
      "source": [
        "Ahora necesitamos convertir las columnas en valores númericos, esto con el fin de ayudarnos a hacer operaciones matemamaticas y estaditicas en las columnas de interes."
      ],
      "metadata": {
        "id": "86eKcCUqa9Ur"
      }
    },
    {
      "cell_type": "code",
      "source": [
        "# Seleccionamos las columnas de tipo objeto de nuestro dataframe 'object'\n",
        "columns = final_data.columns[final_data.dtypes.eq('object')]\n",
        "\n",
        "# Convertimos a valores numericos\n",
        "final_data[columns] = final_data[columns].apply(pd.to_numeric, errors='coerce')"
      ],
      "metadata": {
        "id": "tjCNFDvJbRNv"
      },
      "execution_count": null,
      "outputs": []
    },
    {
      "cell_type": "code",
      "source": [
        "#Vemos los resultados del proceso\n",
        "final_data.info()"
      ],
      "metadata": {
        "colab": {
          "base_uri": "https://localhost:8080/"
        },
        "id": "QjhyqbIwbu_n",
        "outputId": "0e6a460c-ef59-43ba-fafb-4dcb74a9ef71"
      },
      "execution_count": null,
      "outputs": [
        {
          "output_type": "stream",
          "name": "stdout",
          "text": [
            "<class 'pandas.core.frame.DataFrame'>\n",
            "RangeIndex: 9172 entries, 0 to 9171\n",
            "Data columns (total 28 columns):\n",
            " #   Column               Non-Null Count  Dtype  \n",
            "---  ------               --------------  -----  \n",
            " 0   age                  9172 non-null   int64  \n",
            " 1   sex                  8865 non-null   float64\n",
            " 2   on_thyroxine         9172 non-null   int64  \n",
            " 3   query_on_thyroxine   9172 non-null   int64  \n",
            " 4   on_antithyroid_meds  9172 non-null   int64  \n",
            " 5   sick                 9172 non-null   int64  \n",
            " 6   pregnant             9172 non-null   int64  \n",
            " 7   thyroid_surgery      9172 non-null   int64  \n",
            " 8   I131_treatment       9172 non-null   int64  \n",
            " 9   query_hypothyroid    9172 non-null   int64  \n",
            " 10  query_hyperthyroid   9172 non-null   int64  \n",
            " 11  lithium              9172 non-null   int64  \n",
            " 12  goitre               9172 non-null   int64  \n",
            " 13  tumor                9172 non-null   int64  \n",
            " 14  hypopituitary        9172 non-null   int64  \n",
            " 15  psych                9172 non-null   int64  \n",
            " 16  TSH_measured         9172 non-null   int64  \n",
            " 17  TSH                  8330 non-null   float64\n",
            " 18  T3_measured          9172 non-null   int64  \n",
            " 19  T3                   6568 non-null   float64\n",
            " 20  TT4_measured         9172 non-null   int64  \n",
            " 21  TT4                  8730 non-null   float64\n",
            " 22  T4U_measured         9172 non-null   int64  \n",
            " 23  T4U                  8363 non-null   float64\n",
            " 24  FTI_measured         9172 non-null   int64  \n",
            " 25  FTI                  8370 non-null   float64\n",
            " 26  TBG_measured         9172 non-null   int64  \n",
            " 27  patient_id           9172 non-null   int64  \n",
            "dtypes: float64(6), int64(22)\n",
            "memory usage: 2.0 MB\n"
          ]
        }
      ]
    },
    {
      "cell_type": "markdown",
      "source": [
        "Ahora con los datos previamente organizamos vamos a proceder a visualizar los patrones o tendencias en los datos. Visualizaremos los patrones en diferentes columnas (características) de los datos usando la función hist() de la biblioteca pandas."
      ],
      "metadata": {
        "id": "TlHpK0Lwb_S8"
      }
    },
    {
      "cell_type": "code",
      "source": [
        "final_data.hist(figsize = (20,20));"
      ],
      "metadata": {
        "colab": {
          "base_uri": "https://localhost:8080/",
          "height": 1164
        },
        "id": "Mdgbs9QfcKjn",
        "outputId": "87990146-e848-46e9-ba2f-eb1ffd742f55"
      },
      "execution_count": null,
      "outputs": [
        {
          "output_type": "display_data",
          "data": {
            "text/plain": [
              "<Figure size 1440x1440 with 30 Axes>"
            ],
            "image/png": "[encoded data removed]"
          },
          "metadata": {
            "needs_background": "light"
          }
        }
      ]
    },
    {
      "cell_type": "markdown",
      "source": [
        "Procederemos a reemplazar los valores nulos en nuestros datos con el fin de obtener una métrica estadística apropiada."
      ],
      "metadata": {
        "id": "zwOaMEvjdGLV"
      }
    },
    {
      "cell_type": "code",
      "source": [
        "# Lista de columnas que contienen valores null\n",
        "final_data.columns[final_data.isnull().any()].tolist() "
      ],
      "metadata": {
        "colab": {
          "base_uri": "https://localhost:8080/"
        },
        "id": "b3vYOh6vdSld",
        "outputId": "514bb0ef-4254-48a8-ee4a-2ed6e93407c3"
      },
      "execution_count": null,
      "outputs": [
        {
          "output_type": "execute_result",
          "data": {
            "text/plain": [
              "['sex', 'TSH', 'T3', 'TT4', 'T4U', 'FTI']"
            ]
          },
          "metadata": {},
          "execution_count": 97
        }
      ]
    }
  ]
}