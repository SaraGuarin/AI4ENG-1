{
  "nbformat": 4,
  "nbformat_minor": 0,
  "metadata": {
    "colab": {
      "provenance": [],
      "collapsed_sections": []
    },
    "kernelspec": {
      "name": "python3",
      "display_name": "Python 3"
    },
    "language_info": {
      "name": "python"
    }
  },
  "cells": [
    {
      "cell_type": "markdown",
      "source": [
        "[![Open in Colab](https://colab.research.google.com/assets/colab-badge.svg)](https://colab.research.google.com/github/cahemobu97/AI4ENG/blob/main/02_Modelo_Hipotiroidismo.ipynb)\n"
      ],
      "metadata": {
        "id": "6-dNW64a0Fkm"
      }
    },
    {
      "cell_type": "markdown",
      "source": [
        "**`Esta primera parte del proyecto consta del análisis exploratorio de los datos, con el fin de entender la información que se tienen del dataset y poder darle el mejor manejo para cumplir con los requermientos que se piden en el proyecto.`**\n"
      ],
      "metadata": {
        "id": "eOYo-8lLEHwu"
      }
    },
    {
      "cell_type": "code",
      "source": [
        "#En este primer paso vamos a importar las librerias necesarias para hacer la exploración de datos\n",
        "import pandas as pd\n",
        "import numpy as np\n",
        "import random\n",
        "import matplotlib.pyplot as plt\n",
        "import json\n",
        "#Importacion de Bibliotecas de Machine Learning\n",
        "from sklearn.linear_model import LinearRegression\n",
        "from sklearn.tree import DecisionTreeRegressor\n",
        "from sklearn.ensemble import RandomForestRegressor\n",
        "from sklearn.model_selection import cross_validate, ShuffleSplit\n",
        "from sklearn.metrics import confusion_matrix, f1_score, precision_score, recall_score\n",
        "\n",
        "from sklearn.model_selection import learning_curve\n",
        "from sklearn.metrics import mean_squared_error\n",
        "from sklearn.impute import SimpleImputer\n",
        "from sklearn.preprocessing import OneHotEncoder\n",
        "from sklearn.preprocessing import FunctionTransformer\n",
        "from sklearn.pipeline import Pipeline\n",
        "from sklearn.compose import ColumnTransformer\n",
        "from sklearn.preprocessing import LabelEncoder\n",
        "from sklearn import utils\n",
        "from sklearn import preprocessing\n",
        "from sklearn.model_selection import train_test_split,KFold,GroupKFold\n",
        "import lightgbm as lgb\n",
        "import gc\n",
        "\n",
        "\n",
        "import warnings\n",
        "warnings.filterwarnings('ignore')\n",
        "\n",
        "# For building our model\n",
        "import keras\n",
        "from keras.models import Sequential\n",
        "from keras.layers import Dense"
      ],
      "metadata": {
        "id": "SbRFubz-HFC2"
      },
      "execution_count": 140,
      "outputs": []
    },
    {
      "cell_type": "code",
      "source": [
        "# Cargando credenciales de Kaggel\n",
        "data = {\"username\": \"carloshernanm\", \"key\": \"c4e8b9a467c0efe0b0d0495e83185ba1\"}\n",
        "with open('kaggle.json', 'w') as file:\n",
        "    json.dump(data, file, indent=4)\n",
        "\n",
        "!cp kaggle.json ~/.kaggle/\n",
        "\n"
      ],
      "metadata": {
        "id": "viwb1e_6VB30"
      },
      "execution_count": 141,
      "outputs": []
    },
    {
      "cell_type": "code",
      "source": [
        "# Se descarga el dataset\n",
        "!kaggle datasets download -d emmanuelfwerr/thyroid-disease-data\n",
        "\n",
        "# Se descomprime el dataset\n",
        "!unzip thyroid-disease-data.zip"
      ],
      "metadata": {
        "colab": {
          "base_uri": "https://localhost:8080/"
        },
        "id": "aNnQQTbKmYX8",
        "outputId": "51a161c6-77c4-4f7b-b239-e51a33a75094"
      },
      "execution_count": 142,
      "outputs": [
        {
          "output_type": "stream",
          "name": "stdout",
          "text": [
            "Warning: Your Kaggle API key is readable by other users on this system! To fix this, you can run 'chmod 600 /root/.kaggle/kaggle.json'\n",
            "thyroid-disease-data.zip: Skipping, found more recently modified local copy (use --force to force download)\n",
            "Archive:  thyroid-disease-data.zip\n",
            "replace thyroidDF.csv? [y]es, [n]o, [A]ll, [N]one, [r]ename: y\n",
            "  inflating: thyroidDF.csv           \n"
          ]
        }
      ]
    },
    {
      "cell_type": "code",
      "source": [
        "#Verificamos que se este funcionando la conexión de la API\n",
        "!kaggle datasets list"
      ],
      "metadata": {
        "colab": {
          "base_uri": "https://localhost:8080/"
        },
        "id": "i5NeVb2FQwPA",
        "outputId": "0e32ba38-432e-4f39-ab07-dfe168323564"
      },
      "execution_count": 143,
      "outputs": [
        {
          "output_type": "stream",
          "name": "stdout",
          "text": [
            "Warning: Your Kaggle API key is readable by other users on this system! To fix this, you can run 'chmod 600 /root/.kaggle/kaggle.json'\n",
            "ref                                                            title                                                size  lastUpdated          downloadCount  voteCount  usabilityRating  \n",
            "-------------------------------------------------------------  --------------------------------------------------  -----  -------------------  -------------  ---------  ---------------  \n",
            "iamsouravbanerjee/world-population-dataset                     World Population Dataset                             17KB  2022-08-31 11:20:04          10752        325  1.0              \n",
            "pantanjali/unemployment-dataset                                Unemployment dataset                                 17KB  2022-09-08 08:26:10           2925         81  1.0              \n",
            "harshsingh2209/tesla-stock-pricing-20172022                    TESLA stock pricing (2017-2022)                      28KB  2022-09-18 14:56:29            490         23  1.0              \n",
            "thedevastator/airplane-crashes-and-fatalities                  Airplane Crashes and Fatalities                     582KB  2022-09-20 05:30:35            658         28  0.9411765        \n",
            "whenamancodes/student-performance                              Student Performance                                  18KB  2022-09-15 01:15:37            721         23  1.0              \n",
            "ariyoomotade/netflix-data-cleaning-analysis-and-visualization  Netflix Data: Cleaning, Analysis and Visualization  270KB  2022-08-26 09:25:43           5320        124  1.0              \n",
            "whenamancodes/students-performance-in-exams                    Students Performance in Exams                         9KB  2022-09-14 15:14:54            996         31  1.0              \n",
            "whenamancodes/violence-against-women-girls                     Violence Against Women & Girls                       88KB  2022-09-12 08:46:49            486         23  1.0              \n",
            "whenamancodes/popular-movies-datasets-58000-movies             Popular Movies Datasets - 58098 Movies              272MB  2022-09-12 12:19:14            797         22  0.9411765        \n",
            "alexandrepetit881234/korean-demographics-20002022              Korean demographics 2000-2022                       101KB  2022-09-15 11:59:31            396         22  1.0              \n",
            "whenamancodes/world-population-live-dataset                    World Population Live Dataset 2022                   10KB  2022-09-10 11:29:21           1400         51  1.0              \n",
            "whenamancodes/netflix-prime-video-disney-hulu                  Netflix Disney+ Prime Video Hulu Shows Collection   101KB  2022-09-13 09:05:20            853         25  1.0              \n",
            "thedevastator/mcdonalds-ice-cream-machines-broken-timeseries   McDonalds Ice Cream Machines Breaking - Timeseries  404KB  2022-09-14 23:51:09           1075         40  1.0              \n",
            "deepcontractor/smoke-detection-dataset                         Smoke Detection Dataset                               2MB  2022-08-21 06:29:34           3282         97  1.0              \n",
            "thedevastator/weather-prediction                               Weather Prediction                                  936KB  2022-09-06 12:07:29            595         23  0.9705882        \n",
            "whenamancodes/data-science-fields-salary-categorization        Data Science Fields Salary Categorization             7KB  2022-09-10 07:53:45            816         34  1.0              \n",
            "moazzimalibhatti/co2-emission-by-countries-year-wise-17502022  CO2 Emission by countries Year wise (1750-2022)     280KB  2022-09-14 07:43:00            818         48  1.0              \n",
            "evangower/premier-league-match-data                            English Premier League 2021-22 Match Data            12KB  2022-09-25 12:42:17            670         43  1.0              \n",
            "sergylog/ab-test-data                                          A/B test data                                        28KB  2022-09-16 17:29:06            307         73  1.0              \n",
            "advaypatil/youtube-statistics                                  Youtube Statistics                                    2MB  2022-08-26 02:03:19           2295         67  1.0              \n"
          ]
        }
      ]
    },
    {
      "cell_type": "code",
      "source": [
        "#Vamos a leer los datos que tiene el dataset para empezar con el análisis explorartorio\n",
        "df = pd.read_csv(\"thyroidDF.csv\")\n",
        "df.head(10)"
      ],
      "metadata": {
        "colab": {
          "base_uri": "https://localhost:8080/",
          "height": 456
        },
        "id": "6QPXFXxBGqXg",
        "outputId": "518a2140-eb1d-4a73-dfdc-eea4302dc4dd"
      },
      "execution_count": 144,
      "outputs": [
        {
          "output_type": "execute_result",
          "data": {
            "text/plain": [
              "   age sex on_thyroxine query_on_thyroxine on_antithyroid_meds sick pregnant  \\\n",
              "0   29   F            f                  f                   f    f        f   \n",
              "1   29   F            f                  f                   f    f        f   \n",
              "2   41   F            f                  f                   f    f        f   \n",
              "3   36   F            f                  f                   f    f        f   \n",
              "4   32   F            f                  f                   f    f        f   \n",
              "5   60   F            f                  f                   f    f        f   \n",
              "6   77   F            f                  f                   f    f        f   \n",
              "7   28   F            f                  f                   f    f        f   \n",
              "8   28   F            f                  f                   f    f        f   \n",
              "9   28   F            f                  f                   f    f        f   \n",
              "\n",
              "  thyroid_surgery I131_treatment query_hypothyroid  ...    TT4 T4U_measured  \\\n",
              "0               f              f                 t  ...    NaN            f   \n",
              "1               f              f                 f  ...  128.0            f   \n",
              "2               f              f                 f  ...    NaN            f   \n",
              "3               f              f                 f  ...    NaN            f   \n",
              "4               f              f                 f  ...    NaN            f   \n",
              "5               f              f                 f  ...    NaN            f   \n",
              "6               f              f                 f  ...    NaN            f   \n",
              "7               f              f                 f  ...  116.0            f   \n",
              "8               f              f                 f  ...   76.0            f   \n",
              "9               f              f                 f  ...   83.0            f   \n",
              "\n",
              "  T4U FTI_measured FTI TBG_measured   TBG  referral_source target  patient_id  \n",
              "0 NaN            f NaN            f   NaN            other      -   840801013  \n",
              "1 NaN            f NaN            f   NaN            other      -   840801014  \n",
              "2 NaN            f NaN            t  11.0            other      -   840801042  \n",
              "3 NaN            f NaN            t  26.0            other      -   840803046  \n",
              "4 NaN            f NaN            t  36.0            other      S   840803047  \n",
              "5 NaN            f NaN            t  26.0            other      -   840803048  \n",
              "6 NaN            f NaN            t  21.0            other      -   840803068  \n",
              "7 NaN            f NaN            f   NaN              SVI      -   840807019  \n",
              "8 NaN            f NaN            f   NaN            other      -   840808060  \n",
              "9 NaN            f NaN            f   NaN            other      -   840808073  \n",
              "\n",
              "[10 rows x 31 columns]"
            ],
            "text/html": [
              "\n",
              "  <div id=\"df-afd8620a-fe28-42df-8610-e05f487f9fe7\">\n",
              "    <div class=\"colab-df-container\">\n",
              "      <div>\n",
              "<style scoped>\n",
              "    .dataframe tbody tr th:only-of-type {\n",
              "        vertical-align: middle;\n",
              "    }\n",
              "\n",
              "    .dataframe tbody tr th {\n",
              "        vertical-align: top;\n",
              "    }\n",
              "\n",
              "    .dataframe thead th {\n",
              "        text-align: right;\n",
              "    }\n",
              "</style>\n",
              "<table border=\"1\" class=\"dataframe\">\n",
              "  <thead>\n",
              "    <tr style=\"text-align: right;\">\n",
              "      <th></th>\n",
              "      <th>age</th>\n",
              "      <th>sex</th>\n",
              "      <th>on_thyroxine</th>\n",
              "      <th>query_on_thyroxine</th>\n",
              "      <th>on_antithyroid_meds</th>\n",
              "      <th>sick</th>\n",
              "      <th>pregnant</th>\n",
              "      <th>thyroid_surgery</th>\n",
              "      <th>I131_treatment</th>\n",
              "      <th>query_hypothyroid</th>\n",
              "      <th>...</th>\n",
              "      <th>TT4</th>\n",
              "      <th>T4U_measured</th>\n",
              "      <th>T4U</th>\n",
              "      <th>FTI_measured</th>\n",
              "      <th>FTI</th>\n",
              "      <th>TBG_measured</th>\n",
              "      <th>TBG</th>\n",
              "      <th>referral_source</th>\n",
              "      <th>target</th>\n",
              "      <th>patient_id</th>\n",
              "    </tr>\n",
              "  </thead>\n",
              "  <tbody>\n",
              "    <tr>\n",
              "      <th>0</th>\n",
              "      <td>29</td>\n",
              "      <td>F</td>\n",
              "      <td>f</td>\n",
              "      <td>f</td>\n",
              "      <td>f</td>\n",
              "      <td>f</td>\n",
              "      <td>f</td>\n",
              "      <td>f</td>\n",
              "      <td>f</td>\n",
              "      <td>t</td>\n",
              "      <td>...</td>\n",
              "      <td>NaN</td>\n",
              "      <td>f</td>\n",
              "      <td>NaN</td>\n",
              "      <td>f</td>\n",
              "      <td>NaN</td>\n",
              "      <td>f</td>\n",
              "      <td>NaN</td>\n",
              "      <td>other</td>\n",
              "      <td>-</td>\n",
              "      <td>840801013</td>\n",
              "    </tr>\n",
              "    <tr>\n",
              "      <th>1</th>\n",
              "      <td>29</td>\n",
              "      <td>F</td>\n",
              "      <td>f</td>\n",
              "      <td>f</td>\n",
              "      <td>f</td>\n",
              "      <td>f</td>\n",
              "      <td>f</td>\n",
              "      <td>f</td>\n",
              "      <td>f</td>\n",
              "      <td>f</td>\n",
              "      <td>...</td>\n",
              "      <td>128.0</td>\n",
              "      <td>f</td>\n",
              "      <td>NaN</td>\n",
              "      <td>f</td>\n",
              "      <td>NaN</td>\n",
              "      <td>f</td>\n",
              "      <td>NaN</td>\n",
              "      <td>other</td>\n",
              "      <td>-</td>\n",
              "      <td>840801014</td>\n",
              "    </tr>\n",
              "    <tr>\n",
              "      <th>2</th>\n",
              "      <td>41</td>\n",
              "      <td>F</td>\n",
              "      <td>f</td>\n",
              "      <td>f</td>\n",
              "      <td>f</td>\n",
              "      <td>f</td>\n",
              "      <td>f</td>\n",
              "      <td>f</td>\n",
              "      <td>f</td>\n",
              "      <td>f</td>\n",
              "      <td>...</td>\n",
              "      <td>NaN</td>\n",
              "      <td>f</td>\n",
              "      <td>NaN</td>\n",
              "      <td>f</td>\n",
              "      <td>NaN</td>\n",
              "      <td>t</td>\n",
              "      <td>11.0</td>\n",
              "      <td>other</td>\n",
              "      <td>-</td>\n",
              "      <td>840801042</td>\n",
              "    </tr>\n",
              "    <tr>\n",
              "      <th>3</th>\n",
              "      <td>36</td>\n",
              "      <td>F</td>\n",
              "      <td>f</td>\n",
              "      <td>f</td>\n",
              "      <td>f</td>\n",
              "      <td>f</td>\n",
              "      <td>f</td>\n",
              "      <td>f</td>\n",
              "      <td>f</td>\n",
              "      <td>f</td>\n",
              "      <td>...</td>\n",
              "      <td>NaN</td>\n",
              "      <td>f</td>\n",
              "      <td>NaN</td>\n",
              "      <td>f</td>\n",
              "      <td>NaN</td>\n",
              "      <td>t</td>\n",
              "      <td>26.0</td>\n",
              "      <td>other</td>\n",
              "      <td>-</td>\n",
              "      <td>840803046</td>\n",
              "    </tr>\n",
              "    <tr>\n",
              "      <th>4</th>\n",
              "      <td>32</td>\n",
              "      <td>F</td>\n",
              "      <td>f</td>\n",
              "      <td>f</td>\n",
              "      <td>f</td>\n",
              "      <td>f</td>\n",
              "      <td>f</td>\n",
              "      <td>f</td>\n",
              "      <td>f</td>\n",
              "      <td>f</td>\n",
              "      <td>...</td>\n",
              "      <td>NaN</td>\n",
              "      <td>f</td>\n",
              "      <td>NaN</td>\n",
              "      <td>f</td>\n",
              "      <td>NaN</td>\n",
              "      <td>t</td>\n",
              "      <td>36.0</td>\n",
              "      <td>other</td>\n",
              "      <td>S</td>\n",
              "      <td>840803047</td>\n",
              "    </tr>\n",
              "    <tr>\n",
              "      <th>5</th>\n",
              "      <td>60</td>\n",
              "      <td>F</td>\n",
              "      <td>f</td>\n",
              "      <td>f</td>\n",
              "      <td>f</td>\n",
              "      <td>f</td>\n",
              "      <td>f</td>\n",
              "      <td>f</td>\n",
              "      <td>f</td>\n",
              "      <td>f</td>\n",
              "      <td>...</td>\n",
              "      <td>NaN</td>\n",
              "      <td>f</td>\n",
              "      <td>NaN</td>\n",
              "      <td>f</td>\n",
              "      <td>NaN</td>\n",
              "      <td>t</td>\n",
              "      <td>26.0</td>\n",
              "      <td>other</td>\n",
              "      <td>-</td>\n",
              "      <td>840803048</td>\n",
              "    </tr>\n",
              "    <tr>\n",
              "      <th>6</th>\n",
              "      <td>77</td>\n",
              "      <td>F</td>\n",
              "      <td>f</td>\n",
              "      <td>f</td>\n",
              "      <td>f</td>\n",
              "      <td>f</td>\n",
              "      <td>f</td>\n",
              "      <td>f</td>\n",
              "      <td>f</td>\n",
              "      <td>f</td>\n",
              "      <td>...</td>\n",
              "      <td>NaN</td>\n",
              "      <td>f</td>\n",
              "      <td>NaN</td>\n",
              "      <td>f</td>\n",
              "      <td>NaN</td>\n",
              "      <td>t</td>\n",
              "      <td>21.0</td>\n",
              "      <td>other</td>\n",
              "      <td>-</td>\n",
              "      <td>840803068</td>\n",
              "    </tr>\n",
              "    <tr>\n",
              "      <th>7</th>\n",
              "      <td>28</td>\n",
              "      <td>F</td>\n",
              "      <td>f</td>\n",
              "      <td>f</td>\n",
              "      <td>f</td>\n",
              "      <td>f</td>\n",
              "      <td>f</td>\n",
              "      <td>f</td>\n",
              "      <td>f</td>\n",
              "      <td>f</td>\n",
              "      <td>...</td>\n",
              "      <td>116.0</td>\n",
              "      <td>f</td>\n",
              "      <td>NaN</td>\n",
              "      <td>f</td>\n",
              "      <td>NaN</td>\n",
              "      <td>f</td>\n",
              "      <td>NaN</td>\n",
              "      <td>SVI</td>\n",
              "      <td>-</td>\n",
              "      <td>840807019</td>\n",
              "    </tr>\n",
              "    <tr>\n",
              "      <th>8</th>\n",
              "      <td>28</td>\n",
              "      <td>F</td>\n",
              "      <td>f</td>\n",
              "      <td>f</td>\n",
              "      <td>f</td>\n",
              "      <td>f</td>\n",
              "      <td>f</td>\n",
              "      <td>f</td>\n",
              "      <td>f</td>\n",
              "      <td>f</td>\n",
              "      <td>...</td>\n",
              "      <td>76.0</td>\n",
              "      <td>f</td>\n",
              "      <td>NaN</td>\n",
              "      <td>f</td>\n",
              "      <td>NaN</td>\n",
              "      <td>f</td>\n",
              "      <td>NaN</td>\n",
              "      <td>other</td>\n",
              "      <td>-</td>\n",
              "      <td>840808060</td>\n",
              "    </tr>\n",
              "    <tr>\n",
              "      <th>9</th>\n",
              "      <td>28</td>\n",
              "      <td>F</td>\n",
              "      <td>f</td>\n",
              "      <td>f</td>\n",
              "      <td>f</td>\n",
              "      <td>f</td>\n",
              "      <td>f</td>\n",
              "      <td>f</td>\n",
              "      <td>f</td>\n",
              "      <td>f</td>\n",
              "      <td>...</td>\n",
              "      <td>83.0</td>\n",
              "      <td>f</td>\n",
              "      <td>NaN</td>\n",
              "      <td>f</td>\n",
              "      <td>NaN</td>\n",
              "      <td>f</td>\n",
              "      <td>NaN</td>\n",
              "      <td>other</td>\n",
              "      <td>-</td>\n",
              "      <td>840808073</td>\n",
              "    </tr>\n",
              "  </tbody>\n",
              "</table>\n",
              "<p>10 rows × 31 columns</p>\n",
              "</div>\n",
              "      <button class=\"colab-df-convert\" onclick=\"convertToInteractive('df-afd8620a-fe28-42df-8610-e05f487f9fe7')\"\n",
              "              title=\"Convert this dataframe to an interactive table.\"\n",
              "              style=\"display:none;\">\n",
              "        \n",
              "  <svg xmlns=\"http://www.w3.org/2000/svg\" height=\"24px\"viewBox=\"0 0 24 24\"\n",
              "       width=\"24px\">\n",
              "    <path d=\"M0 0h24v24H0V0z\" fill=\"none\"/>\n",
              "    <path d=\"M18.56 5.44l.94 2.06.94-2.06 2.06-.94-2.06-.94-.94-2.06-.94 2.06-2.06.94zm-11 1L8.5 8.5l.94-2.06 2.06-.94-2.06-.94L8.5 2.5l-.94 2.06-2.06.94zm10 10l.94 2.06.94-2.06 2.06-.94-2.06-.94-.94-2.06-.94 2.06-2.06.94z\"/><path d=\"M17.41 7.96l-1.37-1.37c-.4-.4-.92-.59-1.43-.59-.52 0-1.04.2-1.43.59L10.3 9.45l-7.72 7.72c-.78.78-.78 2.05 0 2.83L4 21.41c.39.39.9.59 1.41.59.51 0 1.02-.2 1.41-.59l7.78-7.78 2.81-2.81c.8-.78.8-2.07 0-2.86zM5.41 20L4 18.59l7.72-7.72 1.47 1.35L5.41 20z\"/>\n",
              "  </svg>\n",
              "      </button>\n",
              "      \n",
              "  <style>\n",
              "    .colab-df-container {\n",
              "      display:flex;\n",
              "      flex-wrap:wrap;\n",
              "      gap: 12px;\n",
              "    }\n",
              "\n",
              "    .colab-df-convert {\n",
              "      background-color: #E8F0FE;\n",
              "      border: none;\n",
              "      border-radius: 50%;\n",
              "      cursor: pointer;\n",
              "      display: none;\n",
              "      fill: #1967D2;\n",
              "      height: 32px;\n",
              "      padding: 0 0 0 0;\n",
              "      width: 32px;\n",
              "    }\n",
              "\n",
              "    .colab-df-convert:hover {\n",
              "      background-color: #E2EBFA;\n",
              "      box-shadow: 0px 1px 2px rgba(60, 64, 67, 0.3), 0px 1px 3px 1px rgba(60, 64, 67, 0.15);\n",
              "      fill: #174EA6;\n",
              "    }\n",
              "\n",
              "    [theme=dark] .colab-df-convert {\n",
              "      background-color: #3B4455;\n",
              "      fill: #D2E3FC;\n",
              "    }\n",
              "\n",
              "    [theme=dark] .colab-df-convert:hover {\n",
              "      background-color: #434B5C;\n",
              "      box-shadow: 0px 1px 3px 1px rgba(0, 0, 0, 0.15);\n",
              "      filter: drop-shadow(0px 1px 2px rgba(0, 0, 0, 0.3));\n",
              "      fill: #FFFFFF;\n",
              "    }\n",
              "  </style>\n",
              "\n",
              "      <script>\n",
              "        const buttonEl =\n",
              "          document.querySelector('#df-afd8620a-fe28-42df-8610-e05f487f9fe7 button.colab-df-convert');\n",
              "        buttonEl.style.display =\n",
              "          google.colab.kernel.accessAllowed ? 'block' : 'none';\n",
              "\n",
              "        async function convertToInteractive(key) {\n",
              "          const element = document.querySelector('#df-afd8620a-fe28-42df-8610-e05f487f9fe7');\n",
              "          const dataTable =\n",
              "            await google.colab.kernel.invokeFunction('convertToInteractive',\n",
              "                                                     [key], {});\n",
              "          if (!dataTable) return;\n",
              "\n",
              "          const docLinkHtml = 'Like what you see? Visit the ' +\n",
              "            '<a target=\"_blank\" href=https://colab.research.google.com/notebooks/data_table.ipynb>data table notebook</a>'\n",
              "            + ' to learn more about interactive tables.';\n",
              "          element.innerHTML = '';\n",
              "          dataTable['output_type'] = 'display_data';\n",
              "          await google.colab.output.renderOutput(dataTable, element);\n",
              "          const docLink = document.createElement('div');\n",
              "          docLink.innerHTML = docLinkHtml;\n",
              "          element.appendChild(docLink);\n",
              "        }\n",
              "      </script>\n",
              "    </div>\n",
              "  </div>\n",
              "  "
            ]
          },
          "metadata": {},
          "execution_count": 144
        }
      ]
    },
    {
      "cell_type": "code",
      "source": [
        "df.describe()"
      ],
      "metadata": {
        "colab": {
          "base_uri": "https://localhost:8080/",
          "height": 300
        },
        "id": "aGeor43ixEz-",
        "outputId": "dc666223-fde5-48f2-c336-78e211df7062"
      },
      "execution_count": 145,
      "outputs": [
        {
          "output_type": "execute_result",
          "data": {
            "text/plain": [
              "                age          TSH           T3          TT4          T4U  \\\n",
              "count   9172.000000  8330.000000  6568.000000  8730.000000  8363.000000   \n",
              "mean      73.555822     5.218403     1.970629   108.700305     0.976056   \n",
              "std     1183.976718    24.184006     0.887579    37.522670     0.200360   \n",
              "min        1.000000     0.005000     0.050000     2.000000     0.170000   \n",
              "25%       37.000000     0.460000     1.500000    87.000000     0.860000   \n",
              "50%       55.000000     1.400000     1.900000   104.000000     0.960000   \n",
              "75%       68.000000     2.700000     2.300000   126.000000     1.065000   \n",
              "max    65526.000000   530.000000    18.000000   600.000000     2.330000   \n",
              "\n",
              "               FTI         TBG    patient_id  \n",
              "count  8370.000000  349.000000  9.172000e+03  \n",
              "mean    113.640746   29.870057  8.529473e+08  \n",
              "std      41.551650   21.080504  7.581969e+06  \n",
              "min       1.400000    0.100000  8.408010e+08  \n",
              "25%      93.000000   21.000000  8.504090e+08  \n",
              "50%     109.000000   26.000000  8.510040e+08  \n",
              "75%     128.000000   31.000000  8.607110e+08  \n",
              "max     881.000000  200.000000  8.701190e+08  "
            ],
            "text/html": [
              "\n",
              "  <div id=\"df-ee774140-45f0-4e86-af74-1c329ab72170\">\n",
              "    <div class=\"colab-df-container\">\n",
              "      <div>\n",
              "<style scoped>\n",
              "    .dataframe tbody tr th:only-of-type {\n",
              "        vertical-align: middle;\n",
              "    }\n",
              "\n",
              "    .dataframe tbody tr th {\n",
              "        vertical-align: top;\n",
              "    }\n",
              "\n",
              "    .dataframe thead th {\n",
              "        text-align: right;\n",
              "    }\n",
              "</style>\n",
              "<table border=\"1\" class=\"dataframe\">\n",
              "  <thead>\n",
              "    <tr style=\"text-align: right;\">\n",
              "      <th></th>\n",
              "      <th>age</th>\n",
              "      <th>TSH</th>\n",
              "      <th>T3</th>\n",
              "      <th>TT4</th>\n",
              "      <th>T4U</th>\n",
              "      <th>FTI</th>\n",
              "      <th>TBG</th>\n",
              "      <th>patient_id</th>\n",
              "    </tr>\n",
              "  </thead>\n",
              "  <tbody>\n",
              "    <tr>\n",
              "      <th>count</th>\n",
              "      <td>9172.000000</td>\n",
              "      <td>8330.000000</td>\n",
              "      <td>6568.000000</td>\n",
              "      <td>8730.000000</td>\n",
              "      <td>8363.000000</td>\n",
              "      <td>8370.000000</td>\n",
              "      <td>349.000000</td>\n",
              "      <td>9.172000e+03</td>\n",
              "    </tr>\n",
              "    <tr>\n",
              "      <th>mean</th>\n",
              "      <td>73.555822</td>\n",
              "      <td>5.218403</td>\n",
              "      <td>1.970629</td>\n",
              "      <td>108.700305</td>\n",
              "      <td>0.976056</td>\n",
              "      <td>113.640746</td>\n",
              "      <td>29.870057</td>\n",
              "      <td>8.529473e+08</td>\n",
              "    </tr>\n",
              "    <tr>\n",
              "      <th>std</th>\n",
              "      <td>1183.976718</td>\n",
              "      <td>24.184006</td>\n",
              "      <td>0.887579</td>\n",
              "      <td>37.522670</td>\n",
              "      <td>0.200360</td>\n",
              "      <td>41.551650</td>\n",
              "      <td>21.080504</td>\n",
              "      <td>7.581969e+06</td>\n",
              "    </tr>\n",
              "    <tr>\n",
              "      <th>min</th>\n",
              "      <td>1.000000</td>\n",
              "      <td>0.005000</td>\n",
              "      <td>0.050000</td>\n",
              "      <td>2.000000</td>\n",
              "      <td>0.170000</td>\n",
              "      <td>1.400000</td>\n",
              "      <td>0.100000</td>\n",
              "      <td>8.408010e+08</td>\n",
              "    </tr>\n",
              "    <tr>\n",
              "      <th>25%</th>\n",
              "      <td>37.000000</td>\n",
              "      <td>0.460000</td>\n",
              "      <td>1.500000</td>\n",
              "      <td>87.000000</td>\n",
              "      <td>0.860000</td>\n",
              "      <td>93.000000</td>\n",
              "      <td>21.000000</td>\n",
              "      <td>8.504090e+08</td>\n",
              "    </tr>\n",
              "    <tr>\n",
              "      <th>50%</th>\n",
              "      <td>55.000000</td>\n",
              "      <td>1.400000</td>\n",
              "      <td>1.900000</td>\n",
              "      <td>104.000000</td>\n",
              "      <td>0.960000</td>\n",
              "      <td>109.000000</td>\n",
              "      <td>26.000000</td>\n",
              "      <td>8.510040e+08</td>\n",
              "    </tr>\n",
              "    <tr>\n",
              "      <th>75%</th>\n",
              "      <td>68.000000</td>\n",
              "      <td>2.700000</td>\n",
              "      <td>2.300000</td>\n",
              "      <td>126.000000</td>\n",
              "      <td>1.065000</td>\n",
              "      <td>128.000000</td>\n",
              "      <td>31.000000</td>\n",
              "      <td>8.607110e+08</td>\n",
              "    </tr>\n",
              "    <tr>\n",
              "      <th>max</th>\n",
              "      <td>65526.000000</td>\n",
              "      <td>530.000000</td>\n",
              "      <td>18.000000</td>\n",
              "      <td>600.000000</td>\n",
              "      <td>2.330000</td>\n",
              "      <td>881.000000</td>\n",
              "      <td>200.000000</td>\n",
              "      <td>8.701190e+08</td>\n",
              "    </tr>\n",
              "  </tbody>\n",
              "</table>\n",
              "</div>\n",
              "      <button class=\"colab-df-convert\" onclick=\"convertToInteractive('df-ee774140-45f0-4e86-af74-1c329ab72170')\"\n",
              "              title=\"Convert this dataframe to an interactive table.\"\n",
              "              style=\"display:none;\">\n",
              "        \n",
              "  <svg xmlns=\"http://www.w3.org/2000/svg\" height=\"24px\"viewBox=\"0 0 24 24\"\n",
              "       width=\"24px\">\n",
              "    <path d=\"M0 0h24v24H0V0z\" fill=\"none\"/>\n",
              "    <path d=\"M18.56 5.44l.94 2.06.94-2.06 2.06-.94-2.06-.94-.94-2.06-.94 2.06-2.06.94zm-11 1L8.5 8.5l.94-2.06 2.06-.94-2.06-.94L8.5 2.5l-.94 2.06-2.06.94zm10 10l.94 2.06.94-2.06 2.06-.94-2.06-.94-.94-2.06-.94 2.06-2.06.94z\"/><path d=\"M17.41 7.96l-1.37-1.37c-.4-.4-.92-.59-1.43-.59-.52 0-1.04.2-1.43.59L10.3 9.45l-7.72 7.72c-.78.78-.78 2.05 0 2.83L4 21.41c.39.39.9.59 1.41.59.51 0 1.02-.2 1.41-.59l7.78-7.78 2.81-2.81c.8-.78.8-2.07 0-2.86zM5.41 20L4 18.59l7.72-7.72 1.47 1.35L5.41 20z\"/>\n",
              "  </svg>\n",
              "      </button>\n",
              "      \n",
              "  <style>\n",
              "    .colab-df-container {\n",
              "      display:flex;\n",
              "      flex-wrap:wrap;\n",
              "      gap: 12px;\n",
              "    }\n",
              "\n",
              "    .colab-df-convert {\n",
              "      background-color: #E8F0FE;\n",
              "      border: none;\n",
              "      border-radius: 50%;\n",
              "      cursor: pointer;\n",
              "      display: none;\n",
              "      fill: #1967D2;\n",
              "      height: 32px;\n",
              "      padding: 0 0 0 0;\n",
              "      width: 32px;\n",
              "    }\n",
              "\n",
              "    .colab-df-convert:hover {\n",
              "      background-color: #E2EBFA;\n",
              "      box-shadow: 0px 1px 2px rgba(60, 64, 67, 0.3), 0px 1px 3px 1px rgba(60, 64, 67, 0.15);\n",
              "      fill: #174EA6;\n",
              "    }\n",
              "\n",
              "    [theme=dark] .colab-df-convert {\n",
              "      background-color: #3B4455;\n",
              "      fill: #D2E3FC;\n",
              "    }\n",
              "\n",
              "    [theme=dark] .colab-df-convert:hover {\n",
              "      background-color: #434B5C;\n",
              "      box-shadow: 0px 1px 3px 1px rgba(0, 0, 0, 0.15);\n",
              "      filter: drop-shadow(0px 1px 2px rgba(0, 0, 0, 0.3));\n",
              "      fill: #FFFFFF;\n",
              "    }\n",
              "  </style>\n",
              "\n",
              "      <script>\n",
              "        const buttonEl =\n",
              "          document.querySelector('#df-ee774140-45f0-4e86-af74-1c329ab72170 button.colab-df-convert');\n",
              "        buttonEl.style.display =\n",
              "          google.colab.kernel.accessAllowed ? 'block' : 'none';\n",
              "\n",
              "        async function convertToInteractive(key) {\n",
              "          const element = document.querySelector('#df-ee774140-45f0-4e86-af74-1c329ab72170');\n",
              "          const dataTable =\n",
              "            await google.colab.kernel.invokeFunction('convertToInteractive',\n",
              "                                                     [key], {});\n",
              "          if (!dataTable) return;\n",
              "\n",
              "          const docLinkHtml = 'Like what you see? Visit the ' +\n",
              "            '<a target=\"_blank\" href=https://colab.research.google.com/notebooks/data_table.ipynb>data table notebook</a>'\n",
              "            + ' to learn more about interactive tables.';\n",
              "          element.innerHTML = '';\n",
              "          dataTable['output_type'] = 'display_data';\n",
              "          await google.colab.output.renderOutput(dataTable, element);\n",
              "          const docLink = document.createElement('div');\n",
              "          docLink.innerHTML = docLinkHtml;\n",
              "          element.appendChild(docLink);\n",
              "        }\n",
              "      </script>\n",
              "    </div>\n",
              "  </div>\n",
              "  "
            ]
          },
          "metadata": {},
          "execution_count": 145
        }
      ]
    },
    {
      "cell_type": "code",
      "source": [
        "#Buscamos los valores de edad mayores a 100\n",
        "df[df.age > 100]"
      ],
      "metadata": {
        "colab": {
          "base_uri": "https://localhost:8080/",
          "height": 268
        },
        "id": "_XIEKV4TxNnR",
        "outputId": "60aefd4d-b085-40d6-8ea8-5a6b21eae9bc"
      },
      "execution_count": 146,
      "outputs": [
        {
          "output_type": "execute_result",
          "data": {
            "text/plain": [
              "        age sex on_thyroxine query_on_thyroxine on_antithyroid_meds sick  \\\n",
              "2976    455   F            f                  f                   f    f   \n",
              "5710  65511   M            f                  f                   f    f   \n",
              "6392  65512   M            f                  f                   f    f   \n",
              "8105  65526   F            f                  f                   f    f   \n",
              "\n",
              "     pregnant thyroid_surgery I131_treatment query_hypothyroid  ...    TT4  \\\n",
              "2976        f               f              f                 f  ...  118.0   \n",
              "5710        f               f              f                 f  ...  113.0   \n",
              "6392        f               f              f                 f  ...  112.0   \n",
              "8105        f               f              f                 f  ...  132.0   \n",
              "\n",
              "     T4U_measured   T4U FTI_measured    FTI TBG_measured TBG  referral_source  \\\n",
              "2976            t  1.13            t  104.0            f NaN              SVI   \n",
              "5710            t  1.08            t  104.0            f NaN            other   \n",
              "6392            t  0.84            t  133.0            f NaN            other   \n",
              "8105            t  1.02            t  129.0            f NaN            other   \n",
              "\n",
              "     target  patient_id  \n",
              "2976      -   850530001  \n",
              "5710      -   860210008  \n",
              "6392      -   860403050  \n",
              "8105      -   861014041  \n",
              "\n",
              "[4 rows x 31 columns]"
            ],
            "text/html": [
              "\n",
              "  <div id=\"df-d6e244b2-475c-4e9d-a4d9-88810c49dcc2\">\n",
              "    <div class=\"colab-df-container\">\n",
              "      <div>\n",
              "<style scoped>\n",
              "    .dataframe tbody tr th:only-of-type {\n",
              "        vertical-align: middle;\n",
              "    }\n",
              "\n",
              "    .dataframe tbody tr th {\n",
              "        vertical-align: top;\n",
              "    }\n",
              "\n",
              "    .dataframe thead th {\n",
              "        text-align: right;\n",
              "    }\n",
              "</style>\n",
              "<table border=\"1\" class=\"dataframe\">\n",
              "  <thead>\n",
              "    <tr style=\"text-align: right;\">\n",
              "      <th></th>\n",
              "      <th>age</th>\n",
              "      <th>sex</th>\n",
              "      <th>on_thyroxine</th>\n",
              "      <th>query_on_thyroxine</th>\n",
              "      <th>on_antithyroid_meds</th>\n",
              "      <th>sick</th>\n",
              "      <th>pregnant</th>\n",
              "      <th>thyroid_surgery</th>\n",
              "      <th>I131_treatment</th>\n",
              "      <th>query_hypothyroid</th>\n",
              "      <th>...</th>\n",
              "      <th>TT4</th>\n",
              "      <th>T4U_measured</th>\n",
              "      <th>T4U</th>\n",
              "      <th>FTI_measured</th>\n",
              "      <th>FTI</th>\n",
              "      <th>TBG_measured</th>\n",
              "      <th>TBG</th>\n",
              "      <th>referral_source</th>\n",
              "      <th>target</th>\n",
              "      <th>patient_id</th>\n",
              "    </tr>\n",
              "  </thead>\n",
              "  <tbody>\n",
              "    <tr>\n",
              "      <th>2976</th>\n",
              "      <td>455</td>\n",
              "      <td>F</td>\n",
              "      <td>f</td>\n",
              "      <td>f</td>\n",
              "      <td>f</td>\n",
              "      <td>f</td>\n",
              "      <td>f</td>\n",
              "      <td>f</td>\n",
              "      <td>f</td>\n",
              "      <td>f</td>\n",
              "      <td>...</td>\n",
              "      <td>118.0</td>\n",
              "      <td>t</td>\n",
              "      <td>1.13</td>\n",
              "      <td>t</td>\n",
              "      <td>104.0</td>\n",
              "      <td>f</td>\n",
              "      <td>NaN</td>\n",
              "      <td>SVI</td>\n",
              "      <td>-</td>\n",
              "      <td>850530001</td>\n",
              "    </tr>\n",
              "    <tr>\n",
              "      <th>5710</th>\n",
              "      <td>65511</td>\n",
              "      <td>M</td>\n",
              "      <td>f</td>\n",
              "      <td>f</td>\n",
              "      <td>f</td>\n",
              "      <td>f</td>\n",
              "      <td>f</td>\n",
              "      <td>f</td>\n",
              "      <td>f</td>\n",
              "      <td>f</td>\n",
              "      <td>...</td>\n",
              "      <td>113.0</td>\n",
              "      <td>t</td>\n",
              "      <td>1.08</td>\n",
              "      <td>t</td>\n",
              "      <td>104.0</td>\n",
              "      <td>f</td>\n",
              "      <td>NaN</td>\n",
              "      <td>other</td>\n",
              "      <td>-</td>\n",
              "      <td>860210008</td>\n",
              "    </tr>\n",
              "    <tr>\n",
              "      <th>6392</th>\n",
              "      <td>65512</td>\n",
              "      <td>M</td>\n",
              "      <td>f</td>\n",
              "      <td>f</td>\n",
              "      <td>f</td>\n",
              "      <td>f</td>\n",
              "      <td>f</td>\n",
              "      <td>f</td>\n",
              "      <td>f</td>\n",
              "      <td>f</td>\n",
              "      <td>...</td>\n",
              "      <td>112.0</td>\n",
              "      <td>t</td>\n",
              "      <td>0.84</td>\n",
              "      <td>t</td>\n",
              "      <td>133.0</td>\n",
              "      <td>f</td>\n",
              "      <td>NaN</td>\n",
              "      <td>other</td>\n",
              "      <td>-</td>\n",
              "      <td>860403050</td>\n",
              "    </tr>\n",
              "    <tr>\n",
              "      <th>8105</th>\n",
              "      <td>65526</td>\n",
              "      <td>F</td>\n",
              "      <td>f</td>\n",
              "      <td>f</td>\n",
              "      <td>f</td>\n",
              "      <td>f</td>\n",
              "      <td>f</td>\n",
              "      <td>f</td>\n",
              "      <td>f</td>\n",
              "      <td>f</td>\n",
              "      <td>...</td>\n",
              "      <td>132.0</td>\n",
              "      <td>t</td>\n",
              "      <td>1.02</td>\n",
              "      <td>t</td>\n",
              "      <td>129.0</td>\n",
              "      <td>f</td>\n",
              "      <td>NaN</td>\n",
              "      <td>other</td>\n",
              "      <td>-</td>\n",
              "      <td>861014041</td>\n",
              "    </tr>\n",
              "  </tbody>\n",
              "</table>\n",
              "<p>4 rows × 31 columns</p>\n",
              "</div>\n",
              "      <button class=\"colab-df-convert\" onclick=\"convertToInteractive('df-d6e244b2-475c-4e9d-a4d9-88810c49dcc2')\"\n",
              "              title=\"Convert this dataframe to an interactive table.\"\n",
              "              style=\"display:none;\">\n",
              "        \n",
              "  <svg xmlns=\"http://www.w3.org/2000/svg\" height=\"24px\"viewBox=\"0 0 24 24\"\n",
              "       width=\"24px\">\n",
              "    <path d=\"M0 0h24v24H0V0z\" fill=\"none\"/>\n",
              "    <path d=\"M18.56 5.44l.94 2.06.94-2.06 2.06-.94-2.06-.94-.94-2.06-.94 2.06-2.06.94zm-11 1L8.5 8.5l.94-2.06 2.06-.94-2.06-.94L8.5 2.5l-.94 2.06-2.06.94zm10 10l.94 2.06.94-2.06 2.06-.94-2.06-.94-.94-2.06-.94 2.06-2.06.94z\"/><path d=\"M17.41 7.96l-1.37-1.37c-.4-.4-.92-.59-1.43-.59-.52 0-1.04.2-1.43.59L10.3 9.45l-7.72 7.72c-.78.78-.78 2.05 0 2.83L4 21.41c.39.39.9.59 1.41.59.51 0 1.02-.2 1.41-.59l7.78-7.78 2.81-2.81c.8-.78.8-2.07 0-2.86zM5.41 20L4 18.59l7.72-7.72 1.47 1.35L5.41 20z\"/>\n",
              "  </svg>\n",
              "      </button>\n",
              "      \n",
              "  <style>\n",
              "    .colab-df-container {\n",
              "      display:flex;\n",
              "      flex-wrap:wrap;\n",
              "      gap: 12px;\n",
              "    }\n",
              "\n",
              "    .colab-df-convert {\n",
              "      background-color: #E8F0FE;\n",
              "      border: none;\n",
              "      border-radius: 50%;\n",
              "      cursor: pointer;\n",
              "      display: none;\n",
              "      fill: #1967D2;\n",
              "      height: 32px;\n",
              "      padding: 0 0 0 0;\n",
              "      width: 32px;\n",
              "    }\n",
              "\n",
              "    .colab-df-convert:hover {\n",
              "      background-color: #E2EBFA;\n",
              "      box-shadow: 0px 1px 2px rgba(60, 64, 67, 0.3), 0px 1px 3px 1px rgba(60, 64, 67, 0.15);\n",
              "      fill: #174EA6;\n",
              "    }\n",
              "\n",
              "    [theme=dark] .colab-df-convert {\n",
              "      background-color: #3B4455;\n",
              "      fill: #D2E3FC;\n",
              "    }\n",
              "\n",
              "    [theme=dark] .colab-df-convert:hover {\n",
              "      background-color: #434B5C;\n",
              "      box-shadow: 0px 1px 3px 1px rgba(0, 0, 0, 0.15);\n",
              "      filter: drop-shadow(0px 1px 2px rgba(0, 0, 0, 0.3));\n",
              "      fill: #FFFFFF;\n",
              "    }\n",
              "  </style>\n",
              "\n",
              "      <script>\n",
              "        const buttonEl =\n",
              "          document.querySelector('#df-d6e244b2-475c-4e9d-a4d9-88810c49dcc2 button.colab-df-convert');\n",
              "        buttonEl.style.display =\n",
              "          google.colab.kernel.accessAllowed ? 'block' : 'none';\n",
              "\n",
              "        async function convertToInteractive(key) {\n",
              "          const element = document.querySelector('#df-d6e244b2-475c-4e9d-a4d9-88810c49dcc2');\n",
              "          const dataTable =\n",
              "            await google.colab.kernel.invokeFunction('convertToInteractive',\n",
              "                                                     [key], {});\n",
              "          if (!dataTable) return;\n",
              "\n",
              "          const docLinkHtml = 'Like what you see? Visit the ' +\n",
              "            '<a target=\"_blank\" href=https://colab.research.google.com/notebooks/data_table.ipynb>data table notebook</a>'\n",
              "            + ' to learn more about interactive tables.';\n",
              "          element.innerHTML = '';\n",
              "          dataTable['output_type'] = 'display_data';\n",
              "          await google.colab.output.renderOutput(dataTable, element);\n",
              "          const docLink = document.createElement('div');\n",
              "          docLink.innerHTML = docLinkHtml;\n",
              "          element.appendChild(docLink);\n",
              "        }\n",
              "      </script>\n",
              "    </div>\n",
              "  </div>\n",
              "  "
            ]
          },
          "metadata": {},
          "execution_count": 146
        }
      ]
    },
    {
      "cell_type": "code",
      "source": [
        "#Cambiamos los valores de edad mayores a 100 por valores null\n",
        "df['age'] = np.where((df.age > 100), np.nan, df.age)\n",
        "df.describe()"
      ],
      "metadata": {
        "colab": {
          "base_uri": "https://localhost:8080/",
          "height": 300
        },
        "id": "kBWrn2uBxqO9",
        "outputId": "c17585bb-cdbb-4734-b0fe-acc253f24693"
      },
      "execution_count": 147,
      "outputs": [
        {
          "output_type": "execute_result",
          "data": {
            "text/plain": [
              "               age          TSH           T3          TT4          T4U  \\\n",
              "count  9168.000000  8330.000000  6568.000000  8730.000000  8363.000000   \n",
              "mean     52.099695     5.218403     1.970629   108.700305     0.976056   \n",
              "std      18.910296    24.184006     0.887579    37.522670     0.200360   \n",
              "min       1.000000     0.005000     0.050000     2.000000     0.170000   \n",
              "25%      37.000000     0.460000     1.500000    87.000000     0.860000   \n",
              "50%      55.000000     1.400000     1.900000   104.000000     0.960000   \n",
              "75%      67.000000     2.700000     2.300000   126.000000     1.065000   \n",
              "max      97.000000   530.000000    18.000000   600.000000     2.330000   \n",
              "\n",
              "               FTI         TBG    patient_id  \n",
              "count  8370.000000  349.000000  9.172000e+03  \n",
              "mean    113.640746   29.870057  8.529473e+08  \n",
              "std      41.551650   21.080504  7.581969e+06  \n",
              "min       1.400000    0.100000  8.408010e+08  \n",
              "25%      93.000000   21.000000  8.504090e+08  \n",
              "50%     109.000000   26.000000  8.510040e+08  \n",
              "75%     128.000000   31.000000  8.607110e+08  \n",
              "max     881.000000  200.000000  8.701190e+08  "
            ],
            "text/html": [
              "\n",
              "  <div id=\"df-0f1bfd31-2a73-4fd5-b27e-615995409ce8\">\n",
              "    <div class=\"colab-df-container\">\n",
              "      <div>\n",
              "<style scoped>\n",
              "    .dataframe tbody tr th:only-of-type {\n",
              "        vertical-align: middle;\n",
              "    }\n",
              "\n",
              "    .dataframe tbody tr th {\n",
              "        vertical-align: top;\n",
              "    }\n",
              "\n",
              "    .dataframe thead th {\n",
              "        text-align: right;\n",
              "    }\n",
              "</style>\n",
              "<table border=\"1\" class=\"dataframe\">\n",
              "  <thead>\n",
              "    <tr style=\"text-align: right;\">\n",
              "      <th></th>\n",
              "      <th>age</th>\n",
              "      <th>TSH</th>\n",
              "      <th>T3</th>\n",
              "      <th>TT4</th>\n",
              "      <th>T4U</th>\n",
              "      <th>FTI</th>\n",
              "      <th>TBG</th>\n",
              "      <th>patient_id</th>\n",
              "    </tr>\n",
              "  </thead>\n",
              "  <tbody>\n",
              "    <tr>\n",
              "      <th>count</th>\n",
              "      <td>9168.000000</td>\n",
              "      <td>8330.000000</td>\n",
              "      <td>6568.000000</td>\n",
              "      <td>8730.000000</td>\n",
              "      <td>8363.000000</td>\n",
              "      <td>8370.000000</td>\n",
              "      <td>349.000000</td>\n",
              "      <td>9.172000e+03</td>\n",
              "    </tr>\n",
              "    <tr>\n",
              "      <th>mean</th>\n",
              "      <td>52.099695</td>\n",
              "      <td>5.218403</td>\n",
              "      <td>1.970629</td>\n",
              "      <td>108.700305</td>\n",
              "      <td>0.976056</td>\n",
              "      <td>113.640746</td>\n",
              "      <td>29.870057</td>\n",
              "      <td>8.529473e+08</td>\n",
              "    </tr>\n",
              "    <tr>\n",
              "      <th>std</th>\n",
              "      <td>18.910296</td>\n",
              "      <td>24.184006</td>\n",
              "      <td>0.887579</td>\n",
              "      <td>37.522670</td>\n",
              "      <td>0.200360</td>\n",
              "      <td>41.551650</td>\n",
              "      <td>21.080504</td>\n",
              "      <td>7.581969e+06</td>\n",
              "    </tr>\n",
              "    <tr>\n",
              "      <th>min</th>\n",
              "      <td>1.000000</td>\n",
              "      <td>0.005000</td>\n",
              "      <td>0.050000</td>\n",
              "      <td>2.000000</td>\n",
              "      <td>0.170000</td>\n",
              "      <td>1.400000</td>\n",
              "      <td>0.100000</td>\n",
              "      <td>8.408010e+08</td>\n",
              "    </tr>\n",
              "    <tr>\n",
              "      <th>25%</th>\n",
              "      <td>37.000000</td>\n",
              "      <td>0.460000</td>\n",
              "      <td>1.500000</td>\n",
              "      <td>87.000000</td>\n",
              "      <td>0.860000</td>\n",
              "      <td>93.000000</td>\n",
              "      <td>21.000000</td>\n",
              "      <td>8.504090e+08</td>\n",
              "    </tr>\n",
              "    <tr>\n",
              "      <th>50%</th>\n",
              "      <td>55.000000</td>\n",
              "      <td>1.400000</td>\n",
              "      <td>1.900000</td>\n",
              "      <td>104.000000</td>\n",
              "      <td>0.960000</td>\n",
              "      <td>109.000000</td>\n",
              "      <td>26.000000</td>\n",
              "      <td>8.510040e+08</td>\n",
              "    </tr>\n",
              "    <tr>\n",
              "      <th>75%</th>\n",
              "      <td>67.000000</td>\n",
              "      <td>2.700000</td>\n",
              "      <td>2.300000</td>\n",
              "      <td>126.000000</td>\n",
              "      <td>1.065000</td>\n",
              "      <td>128.000000</td>\n",
              "      <td>31.000000</td>\n",
              "      <td>8.607110e+08</td>\n",
              "    </tr>\n",
              "    <tr>\n",
              "      <th>max</th>\n",
              "      <td>97.000000</td>\n",
              "      <td>530.000000</td>\n",
              "      <td>18.000000</td>\n",
              "      <td>600.000000</td>\n",
              "      <td>2.330000</td>\n",
              "      <td>881.000000</td>\n",
              "      <td>200.000000</td>\n",
              "      <td>8.701190e+08</td>\n",
              "    </tr>\n",
              "  </tbody>\n",
              "</table>\n",
              "</div>\n",
              "      <button class=\"colab-df-convert\" onclick=\"convertToInteractive('df-0f1bfd31-2a73-4fd5-b27e-615995409ce8')\"\n",
              "              title=\"Convert this dataframe to an interactive table.\"\n",
              "              style=\"display:none;\">\n",
              "        \n",
              "  <svg xmlns=\"http://www.w3.org/2000/svg\" height=\"24px\"viewBox=\"0 0 24 24\"\n",
              "       width=\"24px\">\n",
              "    <path d=\"M0 0h24v24H0V0z\" fill=\"none\"/>\n",
              "    <path d=\"M18.56 5.44l.94 2.06.94-2.06 2.06-.94-2.06-.94-.94-2.06-.94 2.06-2.06.94zm-11 1L8.5 8.5l.94-2.06 2.06-.94-2.06-.94L8.5 2.5l-.94 2.06-2.06.94zm10 10l.94 2.06.94-2.06 2.06-.94-2.06-.94-.94-2.06-.94 2.06-2.06.94z\"/><path d=\"M17.41 7.96l-1.37-1.37c-.4-.4-.92-.59-1.43-.59-.52 0-1.04.2-1.43.59L10.3 9.45l-7.72 7.72c-.78.78-.78 2.05 0 2.83L4 21.41c.39.39.9.59 1.41.59.51 0 1.02-.2 1.41-.59l7.78-7.78 2.81-2.81c.8-.78.8-2.07 0-2.86zM5.41 20L4 18.59l7.72-7.72 1.47 1.35L5.41 20z\"/>\n",
              "  </svg>\n",
              "      </button>\n",
              "      \n",
              "  <style>\n",
              "    .colab-df-container {\n",
              "      display:flex;\n",
              "      flex-wrap:wrap;\n",
              "      gap: 12px;\n",
              "    }\n",
              "\n",
              "    .colab-df-convert {\n",
              "      background-color: #E8F0FE;\n",
              "      border: none;\n",
              "      border-radius: 50%;\n",
              "      cursor: pointer;\n",
              "      display: none;\n",
              "      fill: #1967D2;\n",
              "      height: 32px;\n",
              "      padding: 0 0 0 0;\n",
              "      width: 32px;\n",
              "    }\n",
              "\n",
              "    .colab-df-convert:hover {\n",
              "      background-color: #E2EBFA;\n",
              "      box-shadow: 0px 1px 2px rgba(60, 64, 67, 0.3), 0px 1px 3px 1px rgba(60, 64, 67, 0.15);\n",
              "      fill: #174EA6;\n",
              "    }\n",
              "\n",
              "    [theme=dark] .colab-df-convert {\n",
              "      background-color: #3B4455;\n",
              "      fill: #D2E3FC;\n",
              "    }\n",
              "\n",
              "    [theme=dark] .colab-df-convert:hover {\n",
              "      background-color: #434B5C;\n",
              "      box-shadow: 0px 1px 3px 1px rgba(0, 0, 0, 0.15);\n",
              "      filter: drop-shadow(0px 1px 2px rgba(0, 0, 0, 0.3));\n",
              "      fill: #FFFFFF;\n",
              "    }\n",
              "  </style>\n",
              "\n",
              "      <script>\n",
              "        const buttonEl =\n",
              "          document.querySelector('#df-0f1bfd31-2a73-4fd5-b27e-615995409ce8 button.colab-df-convert');\n",
              "        buttonEl.style.display =\n",
              "          google.colab.kernel.accessAllowed ? 'block' : 'none';\n",
              "\n",
              "        async function convertToInteractive(key) {\n",
              "          const element = document.querySelector('#df-0f1bfd31-2a73-4fd5-b27e-615995409ce8');\n",
              "          const dataTable =\n",
              "            await google.colab.kernel.invokeFunction('convertToInteractive',\n",
              "                                                     [key], {});\n",
              "          if (!dataTable) return;\n",
              "\n",
              "          const docLinkHtml = 'Like what you see? Visit the ' +\n",
              "            '<a target=\"_blank\" href=https://colab.research.google.com/notebooks/data_table.ipynb>data table notebook</a>'\n",
              "            + ' to learn more about interactive tables.';\n",
              "          element.innerHTML = '';\n",
              "          dataTable['output_type'] = 'display_data';\n",
              "          await google.colab.output.renderOutput(dataTable, element);\n",
              "          const docLink = document.createElement('div');\n",
              "          docLink.innerHTML = docLinkHtml;\n",
              "          element.appendChild(docLink);\n",
              "        }\n",
              "      </script>\n",
              "    </div>\n",
              "  </div>\n",
              "  "
            ]
          },
          "metadata": {},
          "execution_count": 147
        }
      ]
    },
    {
      "cell_type": "code",
      "source": [
        "df.columns#Vamos a indentificar las columnas de interes para hacer el análisis, en este caso como tenemos tantas columnas,\n",
        "#vamos a basar el análisis en enfermedad de hipotiroidismo e hipertiroidismo (query_hypothyroid) (query_hyperthyroid)"
      ],
      "metadata": {
        "colab": {
          "base_uri": "https://localhost:8080/"
        },
        "id": "Cn3Ud2mW5d6f",
        "outputId": "7961e469-c7f3-4870-d1dc-d442c47ded8c"
      },
      "execution_count": 148,
      "outputs": [
        {
          "output_type": "execute_result",
          "data": {
            "text/plain": [
              "Index(['age', 'sex', 'on_thyroxine', 'query_on_thyroxine',\n",
              "       'on_antithyroid_meds', 'sick', 'pregnant', 'thyroid_surgery',\n",
              "       'I131_treatment', 'query_hypothyroid', 'query_hyperthyroid', 'lithium',\n",
              "       'goitre', 'tumor', 'hypopituitary', 'psych', 'TSH_measured', 'TSH',\n",
              "       'T3_measured', 'T3', 'TT4_measured', 'TT4', 'T4U_measured', 'T4U',\n",
              "       'FTI_measured', 'FTI', 'TBG_measured', 'TBG', 'referral_source',\n",
              "       'target', 'patient_id'],\n",
              "      dtype='object')"
            ]
          },
          "metadata": {},
          "execution_count": 148
        }
      ]
    },
    {
      "cell_type": "code",
      "source": [
        "df.shape"
      ],
      "metadata": {
        "colab": {
          "base_uri": "https://localhost:8080/"
        },
        "id": "6B3qHs9cIKGZ",
        "outputId": "82338a3e-bdd5-4811-f44b-c9fdaceeee49"
      },
      "execution_count": 149,
      "outputs": [
        {
          "output_type": "execute_result",
          "data": {
            "text/plain": [
              "(9172, 31)"
            ]
          },
          "metadata": {},
          "execution_count": 149
        }
      ]
    },
    {
      "cell_type": "markdown",
      "source": [
        "Como podemos observar en nuestro dataset, cumplimos con la condición de que existan al menos 5000 instancias y 30 columnas, ya que para nuestro proyecto tenemos 9172 instancias o filas y 31 columnas."
      ],
      "metadata": {
        "id": "HdffmIY4HvEd"
      }
    },
    {
      "cell_type": "code",
      "source": [
        "#En este paso vamos a poder observar toda la información relacionada al dataframe que hemos cargado\n",
        "df.info() "
      ],
      "metadata": {
        "colab": {
          "base_uri": "https://localhost:8080/"
        },
        "id": "qo98Y3RTNzUg",
        "outputId": "eeedfd4e-6489-4318-fe9e-957eb693cc3c"
      },
      "execution_count": 150,
      "outputs": [
        {
          "output_type": "stream",
          "name": "stdout",
          "text": [
            "<class 'pandas.core.frame.DataFrame'>\n",
            "RangeIndex: 9172 entries, 0 to 9171\n",
            "Data columns (total 31 columns):\n",
            " #   Column               Non-Null Count  Dtype  \n",
            "---  ------               --------------  -----  \n",
            " 0   age                  9168 non-null   float64\n",
            " 1   sex                  8865 non-null   object \n",
            " 2   on_thyroxine         9172 non-null   object \n",
            " 3   query_on_thyroxine   9172 non-null   object \n",
            " 4   on_antithyroid_meds  9172 non-null   object \n",
            " 5   sick                 9172 non-null   object \n",
            " 6   pregnant             9172 non-null   object \n",
            " 7   thyroid_surgery      9172 non-null   object \n",
            " 8   I131_treatment       9172 non-null   object \n",
            " 9   query_hypothyroid    9172 non-null   object \n",
            " 10  query_hyperthyroid   9172 non-null   object \n",
            " 11  lithium              9172 non-null   object \n",
            " 12  goitre               9172 non-null   object \n",
            " 13  tumor                9172 non-null   object \n",
            " 14  hypopituitary        9172 non-null   object \n",
            " 15  psych                9172 non-null   object \n",
            " 16  TSH_measured         9172 non-null   object \n",
            " 17  TSH                  8330 non-null   float64\n",
            " 18  T3_measured          9172 non-null   object \n",
            " 19  T3                   6568 non-null   float64\n",
            " 20  TT4_measured         9172 non-null   object \n",
            " 21  TT4                  8730 non-null   float64\n",
            " 22  T4U_measured         9172 non-null   object \n",
            " 23  T4U                  8363 non-null   float64\n",
            " 24  FTI_measured         9172 non-null   object \n",
            " 25  FTI                  8370 non-null   float64\n",
            " 26  TBG_measured         9172 non-null   object \n",
            " 27  TBG                  349 non-null    float64\n",
            " 28  referral_source      9172 non-null   object \n",
            " 29  target               9172 non-null   object \n",
            " 30  patient_id           9172 non-null   int64  \n",
            "dtypes: float64(7), int64(1), object(23)\n",
            "memory usage: 2.2+ MB\n"
          ]
        }
      ]
    },
    {
      "cell_type": "code",
      "source": [
        "check_for_any_nan= df.isna().any().any()#Vamos a encontrar cuantos valores NaN existen en nuestro dataframe\n",
        "total_nan_values = df.isna().sum().sum()#Vamos a sumar el total de valores NaN presentes en el dataframe\n",
        "\n",
        "print(\"Existen valores en NaN: \"+str(check_for_any_nan))\n",
        "print(\"Total de valores en NaN: \"+str(total_nan_values))"
      ],
      "metadata": {
        "colab": {
          "base_uri": "https://localhost:8080/"
        },
        "id": "mBNLHgetMgNY",
        "outputId": "38d15734-eb3e-4ffa-e5ac-03b98a232ab9"
      },
      "execution_count": 151,
      "outputs": [
        {
          "output_type": "stream",
          "name": "stdout",
          "text": [
            "Existen valores en NaN: True\n",
            "Total de valores en NaN: 14633\n"
          ]
        }
      ]
    },
    {
      "cell_type": "markdown",
      "source": [
        "Al chequear si existen valores en NaN, podemos ver que si existen y que tenemos 14629 valores en NaN, por lo que si hacemos cuentas, quitan la columan del id del paciente, tendriamos 30 columnas x 9172 filas lo que corresponde a 275,160 datos. Al evaluar cuantos valores NaN tenemos, se puede ver que son 14,629, por lo que este valor total de datos corresponde al 5,316% de datos faltantes respecto al total. Por lo que cumplimos tambien con la otra condición."
      ],
      "metadata": {
        "id": "TTEQCvFCOXg6"
      }
    },
    {
      "cell_type": "code",
      "source": [
        "df.isnull().sum() #Columnas con valores en NaN"
      ],
      "metadata": {
        "colab": {
          "base_uri": "https://localhost:8080/"
        },
        "id": "czaLn6Dw59xC",
        "outputId": "7334fd01-3fa1-4a12-f9b3-409abb25e528"
      },
      "execution_count": 152,
      "outputs": [
        {
          "output_type": "execute_result",
          "data": {
            "text/plain": [
              "age                       4\n",
              "sex                     307\n",
              "on_thyroxine              0\n",
              "query_on_thyroxine        0\n",
              "on_antithyroid_meds       0\n",
              "sick                      0\n",
              "pregnant                  0\n",
              "thyroid_surgery           0\n",
              "I131_treatment            0\n",
              "query_hypothyroid         0\n",
              "query_hyperthyroid        0\n",
              "lithium                   0\n",
              "goitre                    0\n",
              "tumor                     0\n",
              "hypopituitary             0\n",
              "psych                     0\n",
              "TSH_measured              0\n",
              "TSH                     842\n",
              "T3_measured               0\n",
              "T3                     2604\n",
              "TT4_measured              0\n",
              "TT4                     442\n",
              "T4U_measured              0\n",
              "T4U                     809\n",
              "FTI_measured              0\n",
              "FTI                     802\n",
              "TBG_measured              0\n",
              "TBG                    8823\n",
              "referral_source           0\n",
              "target                    0\n",
              "patient_id                0\n",
              "dtype: int64"
            ]
          },
          "metadata": {},
          "execution_count": 152
        }
      ]
    },
    {
      "cell_type": "code",
      "source": [
        "df.isnull().mean() * 100 #Promedio en las columnas con valores en NaN"
      ],
      "metadata": {
        "colab": {
          "base_uri": "https://localhost:8080/"
        },
        "id": "SZ6m27P-9-Jl",
        "outputId": "bba9d0bb-cb5d-49e4-bc41-d1ead10cf5c5"
      },
      "execution_count": 153,
      "outputs": [
        {
          "output_type": "execute_result",
          "data": {
            "text/plain": [
              "age                     0.043611\n",
              "sex                     3.347143\n",
              "on_thyroxine            0.000000\n",
              "query_on_thyroxine      0.000000\n",
              "on_antithyroid_meds     0.000000\n",
              "sick                    0.000000\n",
              "pregnant                0.000000\n",
              "thyroid_surgery         0.000000\n",
              "I131_treatment          0.000000\n",
              "query_hypothyroid       0.000000\n",
              "query_hyperthyroid      0.000000\n",
              "lithium                 0.000000\n",
              "goitre                  0.000000\n",
              "tumor                   0.000000\n",
              "hypopituitary           0.000000\n",
              "psych                   0.000000\n",
              "TSH_measured            0.000000\n",
              "TSH                     9.180113\n",
              "T3_measured             0.000000\n",
              "T3                     28.390754\n",
              "TT4_measured            0.000000\n",
              "TT4                     4.819014\n",
              "T4U_measured            0.000000\n",
              "T4U                     8.820323\n",
              "FTI_measured            0.000000\n",
              "FTI                     8.744003\n",
              "TBG_measured            0.000000\n",
              "TBG                    96.194941\n",
              "referral_source         0.000000\n",
              "target                  0.000000\n",
              "patient_id              0.000000\n",
              "dtype: float64"
            ]
          },
          "metadata": {},
          "execution_count": 153
        }
      ]
    },
    {
      "cell_type": "code",
      "source": [
        "df_hp= df.groupby('query_hypothyroid').count()[\"patient_id\"]#Cantindad de pacientes que tienen hipotirodismo\n",
        "#f es false (No tienen hipotiroidismo) y t es true (Si tienen hipotiroidismo)\n",
        "df_hp"
      ],
      "metadata": {
        "colab": {
          "base_uri": "https://localhost:8080/"
        },
        "id": "m-WI0nR8BUuV",
        "outputId": "a005b7c4-ceaf-4e9e-f0f4-322f705e1d89"
      },
      "execution_count": 154,
      "outputs": [
        {
          "output_type": "execute_result",
          "data": {
            "text/plain": [
              "query_hypothyroid\n",
              "f    8542\n",
              "t     630\n",
              "Name: patient_id, dtype: int64"
            ]
          },
          "metadata": {},
          "execution_count": 154
        }
      ]
    },
    {
      "cell_type": "code",
      "source": [
        "new_dataset = df.drop(['target','referral_source','TBG','patient_id'], axis=1)#Eliminamos las columnas que no nos sirven o que contienen muchos datos vacios, en este caso TBG tiene un 96,19% de datos vacios\n",
        "new_dataset"
      ],
      "metadata": {
        "colab": {
          "base_uri": "https://localhost:8080/",
          "height": 488
        },
        "id": "YaSsjrwKEEjt",
        "outputId": "b8344783-ba35-4bb9-b628-6695299ea118"
      },
      "execution_count": 155,
      "outputs": [
        {
          "output_type": "execute_result",
          "data": {
            "text/plain": [
              "       age sex on_thyroxine query_on_thyroxine on_antithyroid_meds sick  \\\n",
              "0     29.0   F            f                  f                   f    f   \n",
              "1     29.0   F            f                  f                   f    f   \n",
              "2     41.0   F            f                  f                   f    f   \n",
              "3     36.0   F            f                  f                   f    f   \n",
              "4     32.0   F            f                  f                   f    f   \n",
              "...    ...  ..          ...                ...                 ...  ...   \n",
              "9167  56.0   M            f                  f                   f    f   \n",
              "9168  22.0   M            f                  f                   f    f   \n",
              "9169  69.0   M            f                  f                   f    f   \n",
              "9170  47.0   F            f                  f                   f    f   \n",
              "9171  31.0   M            f                  f                   f    f   \n",
              "\n",
              "     pregnant thyroid_surgery I131_treatment query_hypothyroid  ...  TSH  \\\n",
              "0           f               f              f                 t  ...  0.3   \n",
              "1           f               f              f                 f  ...  1.6   \n",
              "2           f               f              f                 f  ...  NaN   \n",
              "3           f               f              f                 f  ...  NaN   \n",
              "4           f               f              f                 f  ...  NaN   \n",
              "...       ...             ...            ...               ...  ...  ...   \n",
              "9167        f               f              f                 f  ...  NaN   \n",
              "9168        f               f              f                 f  ...  NaN   \n",
              "9169        f               f              f                 f  ...  NaN   \n",
              "9170        f               f              f                 f  ...  NaN   \n",
              "9171        f               f              f                 t  ...  NaN   \n",
              "\n",
              "     T3_measured   T3 TT4_measured    TT4 T4U_measured   T4U  FTI_measured  \\\n",
              "0              f  NaN            f    NaN            f   NaN             f   \n",
              "1              t  1.9            t  128.0            f   NaN             f   \n",
              "2              f  NaN            f    NaN            f   NaN             f   \n",
              "3              f  NaN            f    NaN            f   NaN             f   \n",
              "4              f  NaN            f    NaN            f   NaN             f   \n",
              "...          ...  ...          ...    ...          ...   ...           ...   \n",
              "9167           f  NaN            t   64.0            t  0.83             t   \n",
              "9168           f  NaN            t   91.0            t  0.92             t   \n",
              "9169           f  NaN            t  113.0            t  1.27             t   \n",
              "9170           f  NaN            t   75.0            t  0.85             t   \n",
              "9171           f  NaN            t   66.0            t  1.02             t   \n",
              "\n",
              "       FTI  TBG_measured  \n",
              "0      NaN             f  \n",
              "1      NaN             f  \n",
              "2      NaN             t  \n",
              "3      NaN             t  \n",
              "4      NaN             t  \n",
              "...    ...           ...  \n",
              "9167  77.0             f  \n",
              "9168  99.0             f  \n",
              "9169  89.0             f  \n",
              "9170  88.0             f  \n",
              "9171  65.0             f  \n",
              "\n",
              "[9172 rows x 27 columns]"
            ],
            "text/html": [
              "\n",
              "  <div id=\"df-fc461976-244b-4a2e-92a0-91fdbf0d6237\">\n",
              "    <div class=\"colab-df-container\">\n",
              "      <div>\n",
              "<style scoped>\n",
              "    .dataframe tbody tr th:only-of-type {\n",
              "        vertical-align: middle;\n",
              "    }\n",
              "\n",
              "    .dataframe tbody tr th {\n",
              "        vertical-align: top;\n",
              "    }\n",
              "\n",
              "    .dataframe thead th {\n",
              "        text-align: right;\n",
              "    }\n",
              "</style>\n",
              "<table border=\"1\" class=\"dataframe\">\n",
              "  <thead>\n",
              "    <tr style=\"text-align: right;\">\n",
              "      <th></th>\n",
              "      <th>age</th>\n",
              "      <th>sex</th>\n",
              "      <th>on_thyroxine</th>\n",
              "      <th>query_on_thyroxine</th>\n",
              "      <th>on_antithyroid_meds</th>\n",
              "      <th>sick</th>\n",
              "      <th>pregnant</th>\n",
              "      <th>thyroid_surgery</th>\n",
              "      <th>I131_treatment</th>\n",
              "      <th>query_hypothyroid</th>\n",
              "      <th>...</th>\n",
              "      <th>TSH</th>\n",
              "      <th>T3_measured</th>\n",
              "      <th>T3</th>\n",
              "      <th>TT4_measured</th>\n",
              "      <th>TT4</th>\n",
              "      <th>T4U_measured</th>\n",
              "      <th>T4U</th>\n",
              "      <th>FTI_measured</th>\n",
              "      <th>FTI</th>\n",
              "      <th>TBG_measured</th>\n",
              "    </tr>\n",
              "  </thead>\n",
              "  <tbody>\n",
              "    <tr>\n",
              "      <th>0</th>\n",
              "      <td>29.0</td>\n",
              "      <td>F</td>\n",
              "      <td>f</td>\n",
              "      <td>f</td>\n",
              "      <td>f</td>\n",
              "      <td>f</td>\n",
              "      <td>f</td>\n",
              "      <td>f</td>\n",
              "      <td>f</td>\n",
              "      <td>t</td>\n",
              "      <td>...</td>\n",
              "      <td>0.3</td>\n",
              "      <td>f</td>\n",
              "      <td>NaN</td>\n",
              "      <td>f</td>\n",
              "      <td>NaN</td>\n",
              "      <td>f</td>\n",
              "      <td>NaN</td>\n",
              "      <td>f</td>\n",
              "      <td>NaN</td>\n",
              "      <td>f</td>\n",
              "    </tr>\n",
              "    <tr>\n",
              "      <th>1</th>\n",
              "      <td>29.0</td>\n",
              "      <td>F</td>\n",
              "      <td>f</td>\n",
              "      <td>f</td>\n",
              "      <td>f</td>\n",
              "      <td>f</td>\n",
              "      <td>f</td>\n",
              "      <td>f</td>\n",
              "      <td>f</td>\n",
              "      <td>f</td>\n",
              "      <td>...</td>\n",
              "      <td>1.6</td>\n",
              "      <td>t</td>\n",
              "      <td>1.9</td>\n",
              "      <td>t</td>\n",
              "      <td>128.0</td>\n",
              "      <td>f</td>\n",
              "      <td>NaN</td>\n",
              "      <td>f</td>\n",
              "      <td>NaN</td>\n",
              "      <td>f</td>\n",
              "    </tr>\n",
              "    <tr>\n",
              "      <th>2</th>\n",
              "      <td>41.0</td>\n",
              "      <td>F</td>\n",
              "      <td>f</td>\n",
              "      <td>f</td>\n",
              "      <td>f</td>\n",
              "      <td>f</td>\n",
              "      <td>f</td>\n",
              "      <td>f</td>\n",
              "      <td>f</td>\n",
              "      <td>f</td>\n",
              "      <td>...</td>\n",
              "      <td>NaN</td>\n",
              "      <td>f</td>\n",
              "      <td>NaN</td>\n",
              "      <td>f</td>\n",
              "      <td>NaN</td>\n",
              "      <td>f</td>\n",
              "      <td>NaN</td>\n",
              "      <td>f</td>\n",
              "      <td>NaN</td>\n",
              "      <td>t</td>\n",
              "    </tr>\n",
              "    <tr>\n",
              "      <th>3</th>\n",
              "      <td>36.0</td>\n",
              "      <td>F</td>\n",
              "      <td>f</td>\n",
              "      <td>f</td>\n",
              "      <td>f</td>\n",
              "      <td>f</td>\n",
              "      <td>f</td>\n",
              "      <td>f</td>\n",
              "      <td>f</td>\n",
              "      <td>f</td>\n",
              "      <td>...</td>\n",
              "      <td>NaN</td>\n",
              "      <td>f</td>\n",
              "      <td>NaN</td>\n",
              "      <td>f</td>\n",
              "      <td>NaN</td>\n",
              "      <td>f</td>\n",
              "      <td>NaN</td>\n",
              "      <td>f</td>\n",
              "      <td>NaN</td>\n",
              "      <td>t</td>\n",
              "    </tr>\n",
              "    <tr>\n",
              "      <th>4</th>\n",
              "      <td>32.0</td>\n",
              "      <td>F</td>\n",
              "      <td>f</td>\n",
              "      <td>f</td>\n",
              "      <td>f</td>\n",
              "      <td>f</td>\n",
              "      <td>f</td>\n",
              "      <td>f</td>\n",
              "      <td>f</td>\n",
              "      <td>f</td>\n",
              "      <td>...</td>\n",
              "      <td>NaN</td>\n",
              "      <td>f</td>\n",
              "      <td>NaN</td>\n",
              "      <td>f</td>\n",
              "      <td>NaN</td>\n",
              "      <td>f</td>\n",
              "      <td>NaN</td>\n",
              "      <td>f</td>\n",
              "      <td>NaN</td>\n",
              "      <td>t</td>\n",
              "    </tr>\n",
              "    <tr>\n",
              "      <th>...</th>\n",
              "      <td>...</td>\n",
              "      <td>...</td>\n",
              "      <td>...</td>\n",
              "      <td>...</td>\n",
              "      <td>...</td>\n",
              "      <td>...</td>\n",
              "      <td>...</td>\n",
              "      <td>...</td>\n",
              "      <td>...</td>\n",
              "      <td>...</td>\n",
              "      <td>...</td>\n",
              "      <td>...</td>\n",
              "      <td>...</td>\n",
              "      <td>...</td>\n",
              "      <td>...</td>\n",
              "      <td>...</td>\n",
              "      <td>...</td>\n",
              "      <td>...</td>\n",
              "      <td>...</td>\n",
              "      <td>...</td>\n",
              "      <td>...</td>\n",
              "    </tr>\n",
              "    <tr>\n",
              "      <th>9167</th>\n",
              "      <td>56.0</td>\n",
              "      <td>M</td>\n",
              "      <td>f</td>\n",
              "      <td>f</td>\n",
              "      <td>f</td>\n",
              "      <td>f</td>\n",
              "      <td>f</td>\n",
              "      <td>f</td>\n",
              "      <td>f</td>\n",
              "      <td>f</td>\n",
              "      <td>...</td>\n",
              "      <td>NaN</td>\n",
              "      <td>f</td>\n",
              "      <td>NaN</td>\n",
              "      <td>t</td>\n",
              "      <td>64.0</td>\n",
              "      <td>t</td>\n",
              "      <td>0.83</td>\n",
              "      <td>t</td>\n",
              "      <td>77.0</td>\n",
              "      <td>f</td>\n",
              "    </tr>\n",
              "    <tr>\n",
              "      <th>9168</th>\n",
              "      <td>22.0</td>\n",
              "      <td>M</td>\n",
              "      <td>f</td>\n",
              "      <td>f</td>\n",
              "      <td>f</td>\n",
              "      <td>f</td>\n",
              "      <td>f</td>\n",
              "      <td>f</td>\n",
              "      <td>f</td>\n",
              "      <td>f</td>\n",
              "      <td>...</td>\n",
              "      <td>NaN</td>\n",
              "      <td>f</td>\n",
              "      <td>NaN</td>\n",
              "      <td>t</td>\n",
              "      <td>91.0</td>\n",
              "      <td>t</td>\n",
              "      <td>0.92</td>\n",
              "      <td>t</td>\n",
              "      <td>99.0</td>\n",
              "      <td>f</td>\n",
              "    </tr>\n",
              "    <tr>\n",
              "      <th>9169</th>\n",
              "      <td>69.0</td>\n",
              "      <td>M</td>\n",
              "      <td>f</td>\n",
              "      <td>f</td>\n",
              "      <td>f</td>\n",
              "      <td>f</td>\n",
              "      <td>f</td>\n",
              "      <td>f</td>\n",
              "      <td>f</td>\n",
              "      <td>f</td>\n",
              "      <td>...</td>\n",
              "      <td>NaN</td>\n",
              "      <td>f</td>\n",
              "      <td>NaN</td>\n",
              "      <td>t</td>\n",
              "      <td>113.0</td>\n",
              "      <td>t</td>\n",
              "      <td>1.27</td>\n",
              "      <td>t</td>\n",
              "      <td>89.0</td>\n",
              "      <td>f</td>\n",
              "    </tr>\n",
              "    <tr>\n",
              "      <th>9170</th>\n",
              "      <td>47.0</td>\n",
              "      <td>F</td>\n",
              "      <td>f</td>\n",
              "      <td>f</td>\n",
              "      <td>f</td>\n",
              "      <td>f</td>\n",
              "      <td>f</td>\n",
              "      <td>f</td>\n",
              "      <td>f</td>\n",
              "      <td>f</td>\n",
              "      <td>...</td>\n",
              "      <td>NaN</td>\n",
              "      <td>f</td>\n",
              "      <td>NaN</td>\n",
              "      <td>t</td>\n",
              "      <td>75.0</td>\n",
              "      <td>t</td>\n",
              "      <td>0.85</td>\n",
              "      <td>t</td>\n",
              "      <td>88.0</td>\n",
              "      <td>f</td>\n",
              "    </tr>\n",
              "    <tr>\n",
              "      <th>9171</th>\n",
              "      <td>31.0</td>\n",
              "      <td>M</td>\n",
              "      <td>f</td>\n",
              "      <td>f</td>\n",
              "      <td>f</td>\n",
              "      <td>f</td>\n",
              "      <td>f</td>\n",
              "      <td>f</td>\n",
              "      <td>f</td>\n",
              "      <td>t</td>\n",
              "      <td>...</td>\n",
              "      <td>NaN</td>\n",
              "      <td>f</td>\n",
              "      <td>NaN</td>\n",
              "      <td>t</td>\n",
              "      <td>66.0</td>\n",
              "      <td>t</td>\n",
              "      <td>1.02</td>\n",
              "      <td>t</td>\n",
              "      <td>65.0</td>\n",
              "      <td>f</td>\n",
              "    </tr>\n",
              "  </tbody>\n",
              "</table>\n",
              "<p>9172 rows × 27 columns</p>\n",
              "</div>\n",
              "      <button class=\"colab-df-convert\" onclick=\"convertToInteractive('df-fc461976-244b-4a2e-92a0-91fdbf0d6237')\"\n",
              "              title=\"Convert this dataframe to an interactive table.\"\n",
              "              style=\"display:none;\">\n",
              "        \n",
              "  <svg xmlns=\"http://www.w3.org/2000/svg\" height=\"24px\"viewBox=\"0 0 24 24\"\n",
              "       width=\"24px\">\n",
              "    <path d=\"M0 0h24v24H0V0z\" fill=\"none\"/>\n",
              "    <path d=\"M18.56 5.44l.94 2.06.94-2.06 2.06-.94-2.06-.94-.94-2.06-.94 2.06-2.06.94zm-11 1L8.5 8.5l.94-2.06 2.06-.94-2.06-.94L8.5 2.5l-.94 2.06-2.06.94zm10 10l.94 2.06.94-2.06 2.06-.94-2.06-.94-.94-2.06-.94 2.06-2.06.94z\"/><path d=\"M17.41 7.96l-1.37-1.37c-.4-.4-.92-.59-1.43-.59-.52 0-1.04.2-1.43.59L10.3 9.45l-7.72 7.72c-.78.78-.78 2.05 0 2.83L4 21.41c.39.39.9.59 1.41.59.51 0 1.02-.2 1.41-.59l7.78-7.78 2.81-2.81c.8-.78.8-2.07 0-2.86zM5.41 20L4 18.59l7.72-7.72 1.47 1.35L5.41 20z\"/>\n",
              "  </svg>\n",
              "      </button>\n",
              "      \n",
              "  <style>\n",
              "    .colab-df-container {\n",
              "      display:flex;\n",
              "      flex-wrap:wrap;\n",
              "      gap: 12px;\n",
              "    }\n",
              "\n",
              "    .colab-df-convert {\n",
              "      background-color: #E8F0FE;\n",
              "      border: none;\n",
              "      border-radius: 50%;\n",
              "      cursor: pointer;\n",
              "      display: none;\n",
              "      fill: #1967D2;\n",
              "      height: 32px;\n",
              "      padding: 0 0 0 0;\n",
              "      width: 32px;\n",
              "    }\n",
              "\n",
              "    .colab-df-convert:hover {\n",
              "      background-color: #E2EBFA;\n",
              "      box-shadow: 0px 1px 2px rgba(60, 64, 67, 0.3), 0px 1px 3px 1px rgba(60, 64, 67, 0.15);\n",
              "      fill: #174EA6;\n",
              "    }\n",
              "\n",
              "    [theme=dark] .colab-df-convert {\n",
              "      background-color: #3B4455;\n",
              "      fill: #D2E3FC;\n",
              "    }\n",
              "\n",
              "    [theme=dark] .colab-df-convert:hover {\n",
              "      background-color: #434B5C;\n",
              "      box-shadow: 0px 1px 3px 1px rgba(0, 0, 0, 0.15);\n",
              "      filter: drop-shadow(0px 1px 2px rgba(0, 0, 0, 0.3));\n",
              "      fill: #FFFFFF;\n",
              "    }\n",
              "  </style>\n",
              "\n",
              "      <script>\n",
              "        const buttonEl =\n",
              "          document.querySelector('#df-fc461976-244b-4a2e-92a0-91fdbf0d6237 button.colab-df-convert');\n",
              "        buttonEl.style.display =\n",
              "          google.colab.kernel.accessAllowed ? 'block' : 'none';\n",
              "\n",
              "        async function convertToInteractive(key) {\n",
              "          const element = document.querySelector('#df-fc461976-244b-4a2e-92a0-91fdbf0d6237');\n",
              "          const dataTable =\n",
              "            await google.colab.kernel.invokeFunction('convertToInteractive',\n",
              "                                                     [key], {});\n",
              "          if (!dataTable) return;\n",
              "\n",
              "          const docLinkHtml = 'Like what you see? Visit the ' +\n",
              "            '<a target=\"_blank\" href=https://colab.research.google.com/notebooks/data_table.ipynb>data table notebook</a>'\n",
              "            + ' to learn more about interactive tables.';\n",
              "          element.innerHTML = '';\n",
              "          dataTable['output_type'] = 'display_data';\n",
              "          await google.colab.output.renderOutput(dataTable, element);\n",
              "          const docLink = document.createElement('div');\n",
              "          docLink.innerHTML = docLinkHtml;\n",
              "          element.appendChild(docLink);\n",
              "        }\n",
              "      </script>\n",
              "    </div>\n",
              "  </div>\n",
              "  "
            ]
          },
          "metadata": {},
          "execution_count": 155
        }
      ]
    },
    {
      "cell_type": "code",
      "source": [
        "new_dataset[\"query_hypothyroid\"].value_counts()#Pacientes que presentan o no hipotiroidismo, \n",
        "#f es false (No tienen hipotiroidismo) y t es true (Si tienen hipotiroidismo)"
      ],
      "metadata": {
        "colab": {
          "base_uri": "https://localhost:8080/"
        },
        "id": "axftMP8rEsBm",
        "outputId": "8ef798ef-e69a-4184-9100-1bfb0ebc7bf2"
      },
      "execution_count": 156,
      "outputs": [
        {
          "output_type": "execute_result",
          "data": {
            "text/plain": [
              "f    8542\n",
              "t     630\n",
              "Name: query_hypothyroid, dtype: int64"
            ]
          },
          "metadata": {},
          "execution_count": 156
        }
      ]
    },
    {
      "cell_type": "code",
      "source": [
        "new_dataset[\"query_hyperthyroid\"].value_counts()#Pacientes que presentan o no hipertiroidismo,\n",
        "#f es false (No tienen hipertiroidismo) y t es true (Si tienen hipertiroidismo)"
      ],
      "metadata": {
        "colab": {
          "base_uri": "https://localhost:8080/"
        },
        "id": "MWcyCZU_MiCy",
        "outputId": "3e25e625-8942-4fea-cfd1-57f2884edc7a"
      },
      "execution_count": 157,
      "outputs": [
        {
          "output_type": "execute_result",
          "data": {
            "text/plain": [
              "f    8521\n",
              "t     651\n",
              "Name: query_hyperthyroid, dtype: int64"
            ]
          },
          "metadata": {},
          "execution_count": 157
        }
      ]
    },
    {
      "cell_type": "code",
      "source": [
        "format_dataset_hypo = new_dataset[\"query_hypothyroid\"].map({\"f\":0,\"t\":1})\n",
        "format_dataset_hypo.value_counts()"
      ],
      "metadata": {
        "colab": {
          "base_uri": "https://localhost:8080/"
        },
        "id": "TqHrSj2c-PE6",
        "outputId": "f060acab-d6fb-4607-aa31-71a83e2da4ce"
      },
      "execution_count": 158,
      "outputs": [
        {
          "output_type": "execute_result",
          "data": {
            "text/plain": [
              "0    8542\n",
              "1     630\n",
              "Name: query_hypothyroid, dtype: int64"
            ]
          },
          "metadata": {},
          "execution_count": 158
        }
      ]
    },
    {
      "cell_type": "code",
      "source": [
        "format_dataset_hyper = new_dataset[\"query_hyperthyroid\"].map({\"f\":0,\"t\":1})\n",
        "\n",
        "format_dataset_hyper.value_counts()\n",
        "\n"
      ],
      "metadata": {
        "colab": {
          "base_uri": "https://localhost:8080/"
        },
        "id": "9Y4BUWcROdAS",
        "outputId": "f195783f-4e36-418e-88b0-223565cca4b0"
      },
      "execution_count": 159,
      "outputs": [
        {
          "output_type": "execute_result",
          "data": {
            "text/plain": [
              "0    8521\n",
              "1     651\n",
              "Name: query_hyperthyroid, dtype: int64"
            ]
          },
          "metadata": {},
          "execution_count": 159
        }
      ]
    },
    {
      "cell_type": "code",
      "source": [
        "print(\"Categorias unicas de la columna 'pregnant'\", df['pregnant'].unique())\n",
        "print(\"Conteo de categorias de la columna 'pregnant' \\n\", df[\"pregnant\"].value_counts())"
      ],
      "metadata": {
        "colab": {
          "base_uri": "https://localhost:8080/"
        },
        "id": "nEjHRawjXzws",
        "outputId": "b1b0695e-01a7-4c2b-d180-efaf78b7c197"
      },
      "execution_count": 160,
      "outputs": [
        {
          "output_type": "stream",
          "name": "stdout",
          "text": [
            "Categorias unicas de la columna 'pregnant' ['f' 't']\n",
            "Conteo de categorias de la columna 'pregnant' \n",
            " f    9065\n",
            "t     107\n",
            "Name: pregnant, dtype: int64\n"
          ]
        }
      ]
    },
    {
      "cell_type": "code",
      "source": [
        "print(\"Categorias unicas en la columna 'T3 measured'\", df['T3_measured'].unique())\n",
        "print(\"Conteo de categorias de la columna 'T3 measured' \\n\", df[\"T3_measured\"].value_counts())"
      ],
      "metadata": {
        "colab": {
          "base_uri": "https://localhost:8080/"
        },
        "id": "vYPJ6RiuYEfx",
        "outputId": "be5b79dc-85fe-49fa-bc78-002f8737914a"
      },
      "execution_count": 161,
      "outputs": [
        {
          "output_type": "stream",
          "name": "stdout",
          "text": [
            "Categorias unicas en la columna 'T3 measured' ['f' 't']\n",
            "Conteo de categorias de la columna 'T3 measured' \n",
            " t    6568\n",
            "f    2604\n",
            "Name: T3_measured, dtype: int64\n"
          ]
        }
      ]
    },
    {
      "cell_type": "code",
      "source": [
        "df_by_sex_count = df.groupby('sex').count()[\"patient_id\"]#Se agrupara por sexo para contar cuantos pacientes femeninos o masculinos existen\n",
        "print (df_by_sex_count)\n",
        "print (\"El numero total de pacientes que con sexo registrado es: \" +str (df_by_sex_count.sum()))#Es el numero total de pacientes registrados con sexo en el dataset\n"
      ],
      "metadata": {
        "colab": {
          "base_uri": "https://localhost:8080/"
        },
        "id": "bCppPiC6n4LC",
        "outputId": "48e4e9db-d49a-4191-d688-20c01fabf207"
      },
      "execution_count": 162,
      "outputs": [
        {
          "output_type": "stream",
          "name": "stdout",
          "text": [
            "sex\n",
            "F    6073\n",
            "M    2792\n",
            "Name: patient_id, dtype: int64\n",
            "El numero total de pacientes que con sexo registrado es: 8865\n"
          ]
        }
      ]
    },
    {
      "cell_type": "code",
      "source": [
        "df_by_sex_count = df.groupby('sex').count()[\"patient_id\"].plot(kind='bar')#Grafica de barras para evalular el resultado anterior"
      ],
      "metadata": {
        "colab": {
          "base_uri": "https://localhost:8080/",
          "height": 278
        },
        "id": "A5DUmjTJpAT-",
        "outputId": "fb577d03-7324-47ab-91b4-9a8302f0ff25"
      },
      "execution_count": 163,
      "outputs": [
        {
          "output_type": "display_data",
          "data": {
            "text/plain": [
              "<Figure size 432x288 with 1 Axes>"
            ],
            "image/png": "[encoded data removed]"
          },
          "metadata": {
            "needs_background": "light"
          }
        }
      ]
    },
    {
      "cell_type": "code",
      "source": [
        "#Ahora vamos a hacer una análisis mas profundo de los datos, sacando gráficas que nos permitan interprestar los datos,\n",
        "#tendremos el promedio de edad por sexo de los pacientes\n",
        "df_by_sex = df.groupby('sex').mean()[\"age\"]\n",
        "df_by_sex\n"
      ],
      "metadata": {
        "colab": {
          "base_uri": "https://localhost:8080/"
        },
        "id": "ArMKaf-8plgZ",
        "outputId": "b5866e7c-d799-4b3a-f71b-de7cbb6d1e26"
      },
      "execution_count": 164,
      "outputs": [
        {
          "output_type": "execute_result",
          "data": {
            "text/plain": [
              "sex\n",
              "F    52.221710\n",
              "M    52.038351\n",
              "Name: age, dtype: float64"
            ]
          },
          "metadata": {},
          "execution_count": 164
        }
      ]
    },
    {
      "cell_type": "code",
      "source": [
        "df_by_sex = df.groupby('sex').mean()[\"age\"].plot(kind='bar')#Graficamos el promedio de edad por sexo"
      ],
      "metadata": {
        "colab": {
          "base_uri": "https://localhost:8080/",
          "height": 278
        },
        "id": "rzo9Nt1jps1F",
        "outputId": "2681e4ea-0d86-4277-d7e7-c81c7ee21162"
      },
      "execution_count": 165,
      "outputs": [
        {
          "output_type": "display_data",
          "data": {
            "text/plain": [
              "<Figure size 432x288 with 1 Axes>"
            ],
            "image/png": "[encoded data removed]"
          },
          "metadata": {
            "needs_background": "light"
          }
        }
      ]
    },
    {
      "cell_type": "code",
      "source": [
        "# Reemplazamos las columnas categoricas por valores binarios para hacer poder hacer el modelado\n",
        "dataset = df.replace({'f':0,'t':1, 'y':1, 'n':0, 'M':0, 'F':1})\n",
        "final_data = dataset.drop(['target','referral_source','TBG'], axis=1) #Se eliminan las columnas que no son de interés"
      ],
      "metadata": {
        "id": "oBrbVenSY8vY"
      },
      "execution_count": 166,
      "outputs": []
    },
    {
      "cell_type": "code",
      "source": [
        "final_data.replace(to_replace='?', inplace=True, value=np.NaN)\n",
        "final_data.head()"
      ],
      "metadata": {
        "colab": {
          "base_uri": "https://localhost:8080/",
          "height": 300
        },
        "id": "P4mg8Zl3Z51V",
        "outputId": "65fb5414-3a8e-4cc1-82e4-4fbd9491dff6"
      },
      "execution_count": 167,
      "outputs": [
        {
          "output_type": "execute_result",
          "data": {
            "text/plain": [
              "    age  sex  on_thyroxine  query_on_thyroxine  on_antithyroid_meds  sick  \\\n",
              "0  29.0  1.0             0                   0                    0     0   \n",
              "1  29.0  1.0             0                   0                    0     0   \n",
              "2  41.0  1.0             0                   0                    0     0   \n",
              "3  36.0  1.0             0                   0                    0     0   \n",
              "4  32.0  1.0             0                   0                    0     0   \n",
              "\n",
              "   pregnant  thyroid_surgery  I131_treatment  query_hypothyroid  ...  \\\n",
              "0         0                0               0                  1  ...   \n",
              "1         0                0               0                  0  ...   \n",
              "2         0                0               0                  0  ...   \n",
              "3         0                0               0                  0  ...   \n",
              "4         0                0               0                  0  ...   \n",
              "\n",
              "   T3_measured   T3  TT4_measured    TT4  T4U_measured  T4U  FTI_measured  \\\n",
              "0            0  NaN             0    NaN             0  NaN             0   \n",
              "1            1  1.9             1  128.0             0  NaN             0   \n",
              "2            0  NaN             0    NaN             0  NaN             0   \n",
              "3            0  NaN             0    NaN             0  NaN             0   \n",
              "4            0  NaN             0    NaN             0  NaN             0   \n",
              "\n",
              "   FTI  TBG_measured  patient_id  \n",
              "0  NaN             0   840801013  \n",
              "1  NaN             0   840801014  \n",
              "2  NaN             1   840801042  \n",
              "3  NaN             1   840803046  \n",
              "4  NaN             1   840803047  \n",
              "\n",
              "[5 rows x 28 columns]"
            ],
            "text/html": [
              "\n",
              "  <div id=\"df-2557b33a-78b2-4c07-8a78-e5881fbfe261\">\n",
              "    <div class=\"colab-df-container\">\n",
              "      <div>\n",
              "<style scoped>\n",
              "    .dataframe tbody tr th:only-of-type {\n",
              "        vertical-align: middle;\n",
              "    }\n",
              "\n",
              "    .dataframe tbody tr th {\n",
              "        vertical-align: top;\n",
              "    }\n",
              "\n",
              "    .dataframe thead th {\n",
              "        text-align: right;\n",
              "    }\n",
              "</style>\n",
              "<table border=\"1\" class=\"dataframe\">\n",
              "  <thead>\n",
              "    <tr style=\"text-align: right;\">\n",
              "      <th></th>\n",
              "      <th>age</th>\n",
              "      <th>sex</th>\n",
              "      <th>on_thyroxine</th>\n",
              "      <th>query_on_thyroxine</th>\n",
              "      <th>on_antithyroid_meds</th>\n",
              "      <th>sick</th>\n",
              "      <th>pregnant</th>\n",
              "      <th>thyroid_surgery</th>\n",
              "      <th>I131_treatment</th>\n",
              "      <th>query_hypothyroid</th>\n",
              "      <th>...</th>\n",
              "      <th>T3_measured</th>\n",
              "      <th>T3</th>\n",
              "      <th>TT4_measured</th>\n",
              "      <th>TT4</th>\n",
              "      <th>T4U_measured</th>\n",
              "      <th>T4U</th>\n",
              "      <th>FTI_measured</th>\n",
              "      <th>FTI</th>\n",
              "      <th>TBG_measured</th>\n",
              "      <th>patient_id</th>\n",
              "    </tr>\n",
              "  </thead>\n",
              "  <tbody>\n",
              "    <tr>\n",
              "      <th>0</th>\n",
              "      <td>29.0</td>\n",
              "      <td>1.0</td>\n",
              "      <td>0</td>\n",
              "      <td>0</td>\n",
              "      <td>0</td>\n",
              "      <td>0</td>\n",
              "      <td>0</td>\n",
              "      <td>0</td>\n",
              "      <td>0</td>\n",
              "      <td>1</td>\n",
              "      <td>...</td>\n",
              "      <td>0</td>\n",
              "      <td>NaN</td>\n",
              "      <td>0</td>\n",
              "      <td>NaN</td>\n",
              "      <td>0</td>\n",
              "      <td>NaN</td>\n",
              "      <td>0</td>\n",
              "      <td>NaN</td>\n",
              "      <td>0</td>\n",
              "      <td>840801013</td>\n",
              "    </tr>\n",
              "    <tr>\n",
              "      <th>1</th>\n",
              "      <td>29.0</td>\n",
              "      <td>1.0</td>\n",
              "      <td>0</td>\n",
              "      <td>0</td>\n",
              "      <td>0</td>\n",
              "      <td>0</td>\n",
              "      <td>0</td>\n",
              "      <td>0</td>\n",
              "      <td>0</td>\n",
              "      <td>0</td>\n",
              "      <td>...</td>\n",
              "      <td>1</td>\n",
              "      <td>1.9</td>\n",
              "      <td>1</td>\n",
              "      <td>128.0</td>\n",
              "      <td>0</td>\n",
              "      <td>NaN</td>\n",
              "      <td>0</td>\n",
              "      <td>NaN</td>\n",
              "      <td>0</td>\n",
              "      <td>840801014</td>\n",
              "    </tr>\n",
              "    <tr>\n",
              "      <th>2</th>\n",
              "      <td>41.0</td>\n",
              "      <td>1.0</td>\n",
              "      <td>0</td>\n",
              "      <td>0</td>\n",
              "      <td>0</td>\n",
              "      <td>0</td>\n",
              "      <td>0</td>\n",
              "      <td>0</td>\n",
              "      <td>0</td>\n",
              "      <td>0</td>\n",
              "      <td>...</td>\n",
              "      <td>0</td>\n",
              "      <td>NaN</td>\n",
              "      <td>0</td>\n",
              "      <td>NaN</td>\n",
              "      <td>0</td>\n",
              "      <td>NaN</td>\n",
              "      <td>0</td>\n",
              "      <td>NaN</td>\n",
              "      <td>1</td>\n",
              "      <td>840801042</td>\n",
              "    </tr>\n",
              "    <tr>\n",
              "      <th>3</th>\n",
              "      <td>36.0</td>\n",
              "      <td>1.0</td>\n",
              "      <td>0</td>\n",
              "      <td>0</td>\n",
              "      <td>0</td>\n",
              "      <td>0</td>\n",
              "      <td>0</td>\n",
              "      <td>0</td>\n",
              "      <td>0</td>\n",
              "      <td>0</td>\n",
              "      <td>...</td>\n",
              "      <td>0</td>\n",
              "      <td>NaN</td>\n",
              "      <td>0</td>\n",
              "      <td>NaN</td>\n",
              "      <td>0</td>\n",
              "      <td>NaN</td>\n",
              "      <td>0</td>\n",
              "      <td>NaN</td>\n",
              "      <td>1</td>\n",
              "      <td>840803046</td>\n",
              "    </tr>\n",
              "    <tr>\n",
              "      <th>4</th>\n",
              "      <td>32.0</td>\n",
              "      <td>1.0</td>\n",
              "      <td>0</td>\n",
              "      <td>0</td>\n",
              "      <td>0</td>\n",
              "      <td>0</td>\n",
              "      <td>0</td>\n",
              "      <td>0</td>\n",
              "      <td>0</td>\n",
              "      <td>0</td>\n",
              "      <td>...</td>\n",
              "      <td>0</td>\n",
              "      <td>NaN</td>\n",
              "      <td>0</td>\n",
              "      <td>NaN</td>\n",
              "      <td>0</td>\n",
              "      <td>NaN</td>\n",
              "      <td>0</td>\n",
              "      <td>NaN</td>\n",
              "      <td>1</td>\n",
              "      <td>840803047</td>\n",
              "    </tr>\n",
              "  </tbody>\n",
              "</table>\n",
              "<p>5 rows × 28 columns</p>\n",
              "</div>\n",
              "      <button class=\"colab-df-convert\" onclick=\"convertToInteractive('df-2557b33a-78b2-4c07-8a78-e5881fbfe261')\"\n",
              "              title=\"Convert this dataframe to an interactive table.\"\n",
              "              style=\"display:none;\">\n",
              "        \n",
              "  <svg xmlns=\"http://www.w3.org/2000/svg\" height=\"24px\"viewBox=\"0 0 24 24\"\n",
              "       width=\"24px\">\n",
              "    <path d=\"M0 0h24v24H0V0z\" fill=\"none\"/>\n",
              "    <path d=\"M18.56 5.44l.94 2.06.94-2.06 2.06-.94-2.06-.94-.94-2.06-.94 2.06-2.06.94zm-11 1L8.5 8.5l.94-2.06 2.06-.94-2.06-.94L8.5 2.5l-.94 2.06-2.06.94zm10 10l.94 2.06.94-2.06 2.06-.94-2.06-.94-.94-2.06-.94 2.06-2.06.94z\"/><path d=\"M17.41 7.96l-1.37-1.37c-.4-.4-.92-.59-1.43-.59-.52 0-1.04.2-1.43.59L10.3 9.45l-7.72 7.72c-.78.78-.78 2.05 0 2.83L4 21.41c.39.39.9.59 1.41.59.51 0 1.02-.2 1.41-.59l7.78-7.78 2.81-2.81c.8-.78.8-2.07 0-2.86zM5.41 20L4 18.59l7.72-7.72 1.47 1.35L5.41 20z\"/>\n",
              "  </svg>\n",
              "      </button>\n",
              "      \n",
              "  <style>\n",
              "    .colab-df-container {\n",
              "      display:flex;\n",
              "      flex-wrap:wrap;\n",
              "      gap: 12px;\n",
              "    }\n",
              "\n",
              "    .colab-df-convert {\n",
              "      background-color: #E8F0FE;\n",
              "      border: none;\n",
              "      border-radius: 50%;\n",
              "      cursor: pointer;\n",
              "      display: none;\n",
              "      fill: #1967D2;\n",
              "      height: 32px;\n",
              "      padding: 0 0 0 0;\n",
              "      width: 32px;\n",
              "    }\n",
              "\n",
              "    .colab-df-convert:hover {\n",
              "      background-color: #E2EBFA;\n",
              "      box-shadow: 0px 1px 2px rgba(60, 64, 67, 0.3), 0px 1px 3px 1px rgba(60, 64, 67, 0.15);\n",
              "      fill: #174EA6;\n",
              "    }\n",
              "\n",
              "    [theme=dark] .colab-df-convert {\n",
              "      background-color: #3B4455;\n",
              "      fill: #D2E3FC;\n",
              "    }\n",
              "\n",
              "    [theme=dark] .colab-df-convert:hover {\n",
              "      background-color: #434B5C;\n",
              "      box-shadow: 0px 1px 3px 1px rgba(0, 0, 0, 0.15);\n",
              "      filter: drop-shadow(0px 1px 2px rgba(0, 0, 0, 0.3));\n",
              "      fill: #FFFFFF;\n",
              "    }\n",
              "  </style>\n",
              "\n",
              "      <script>\n",
              "        const buttonEl =\n",
              "          document.querySelector('#df-2557b33a-78b2-4c07-8a78-e5881fbfe261 button.colab-df-convert');\n",
              "        buttonEl.style.display =\n",
              "          google.colab.kernel.accessAllowed ? 'block' : 'none';\n",
              "\n",
              "        async function convertToInteractive(key) {\n",
              "          const element = document.querySelector('#df-2557b33a-78b2-4c07-8a78-e5881fbfe261');\n",
              "          const dataTable =\n",
              "            await google.colab.kernel.invokeFunction('convertToInteractive',\n",
              "                                                     [key], {});\n",
              "          if (!dataTable) return;\n",
              "\n",
              "          const docLinkHtml = 'Like what you see? Visit the ' +\n",
              "            '<a target=\"_blank\" href=https://colab.research.google.com/notebooks/data_table.ipynb>data table notebook</a>'\n",
              "            + ' to learn more about interactive tables.';\n",
              "          element.innerHTML = '';\n",
              "          dataTable['output_type'] = 'display_data';\n",
              "          await google.colab.output.renderOutput(dataTable, element);\n",
              "          const docLink = document.createElement('div');\n",
              "          docLink.innerHTML = docLinkHtml;\n",
              "          element.appendChild(docLink);\n",
              "        }\n",
              "      </script>\n",
              "    </div>\n",
              "  </div>\n",
              "  "
            ]
          },
          "metadata": {},
          "execution_count": 167
        }
      ]
    },
    {
      "cell_type": "code",
      "source": [
        "#Contamos la cantidad de valores que hay null en cada una de las columnas\n",
        "final_data.isnull().sum()"
      ],
      "metadata": {
        "colab": {
          "base_uri": "https://localhost:8080/"
        },
        "id": "iUv8NBUxaW-X",
        "outputId": "e57ff96b-1114-4e4c-cf0d-3ad0c9609f9e"
      },
      "execution_count": 168,
      "outputs": [
        {
          "output_type": "execute_result",
          "data": {
            "text/plain": [
              "age                       4\n",
              "sex                     307\n",
              "on_thyroxine              0\n",
              "query_on_thyroxine        0\n",
              "on_antithyroid_meds       0\n",
              "sick                      0\n",
              "pregnant                  0\n",
              "thyroid_surgery           0\n",
              "I131_treatment            0\n",
              "query_hypothyroid         0\n",
              "query_hyperthyroid        0\n",
              "lithium                   0\n",
              "goitre                    0\n",
              "tumor                     0\n",
              "hypopituitary             0\n",
              "psych                     0\n",
              "TSH_measured              0\n",
              "TSH                     842\n",
              "T3_measured               0\n",
              "T3                     2604\n",
              "TT4_measured              0\n",
              "TT4                     442\n",
              "T4U_measured              0\n",
              "T4U                     809\n",
              "FTI_measured              0\n",
              "FTI                     802\n",
              "TBG_measured              0\n",
              "patient_id                0\n",
              "dtype: int64"
            ]
          },
          "metadata": {},
          "execution_count": 168
        }
      ]
    },
    {
      "cell_type": "markdown",
      "source": [
        "Ahora necesitamos convertir las columnas en valores númericos, esto con el fin de ayudarnos a hacer operaciones matemamaticas y estadisticas en las columnas de interes."
      ],
      "metadata": {
        "id": "86eKcCUqa9Ur"
      }
    },
    {
      "cell_type": "code",
      "source": [
        "# Seleccionamos las columnas de tipo objeto de nuestro dataframe 'object'\n",
        "columns = final_data.columns[final_data.dtypes.eq('object')]\n",
        "\n",
        "# Convertimos a valores numericos\n",
        "final_data[columns] = final_data[columns].apply(pd.to_numeric, errors='coerce')"
      ],
      "metadata": {
        "id": "tjCNFDvJbRNv"
      },
      "execution_count": 169,
      "outputs": []
    },
    {
      "cell_type": "code",
      "source": [
        "#Vemos los resultados del proceso\n",
        "final_data.info()"
      ],
      "metadata": {
        "colab": {
          "base_uri": "https://localhost:8080/"
        },
        "id": "QjhyqbIwbu_n",
        "outputId": "7e3a3bda-d0a0-4b61-d2fe-489ee2745638"
      },
      "execution_count": 170,
      "outputs": [
        {
          "output_type": "stream",
          "name": "stdout",
          "text": [
            "<class 'pandas.core.frame.DataFrame'>\n",
            "RangeIndex: 9172 entries, 0 to 9171\n",
            "Data columns (total 28 columns):\n",
            " #   Column               Non-Null Count  Dtype  \n",
            "---  ------               --------------  -----  \n",
            " 0   age                  9168 non-null   float64\n",
            " 1   sex                  8865 non-null   float64\n",
            " 2   on_thyroxine         9172 non-null   int64  \n",
            " 3   query_on_thyroxine   9172 non-null   int64  \n",
            " 4   on_antithyroid_meds  9172 non-null   int64  \n",
            " 5   sick                 9172 non-null   int64  \n",
            " 6   pregnant             9172 non-null   int64  \n",
            " 7   thyroid_surgery      9172 non-null   int64  \n",
            " 8   I131_treatment       9172 non-null   int64  \n",
            " 9   query_hypothyroid    9172 non-null   int64  \n",
            " 10  query_hyperthyroid   9172 non-null   int64  \n",
            " 11  lithium              9172 non-null   int64  \n",
            " 12  goitre               9172 non-null   int64  \n",
            " 13  tumor                9172 non-null   int64  \n",
            " 14  hypopituitary        9172 non-null   int64  \n",
            " 15  psych                9172 non-null   int64  \n",
            " 16  TSH_measured         9172 non-null   int64  \n",
            " 17  TSH                  8330 non-null   float64\n",
            " 18  T3_measured          9172 non-null   int64  \n",
            " 19  T3                   6568 non-null   float64\n",
            " 20  TT4_measured         9172 non-null   int64  \n",
            " 21  TT4                  8730 non-null   float64\n",
            " 22  T4U_measured         9172 non-null   int64  \n",
            " 23  T4U                  8363 non-null   float64\n",
            " 24  FTI_measured         9172 non-null   int64  \n",
            " 25  FTI                  8370 non-null   float64\n",
            " 26  TBG_measured         9172 non-null   int64  \n",
            " 27  patient_id           9172 non-null   int64  \n",
            "dtypes: float64(7), int64(21)\n",
            "memory usage: 2.0 MB\n"
          ]
        }
      ]
    },
    {
      "cell_type": "markdown",
      "source": [
        "Ahora con los datos previamente organizamos vamos a proceder a visualizar los patrones o tendencias en los datos. Visualizaremos los patrones en diferentes columnas (características) de los datos usando la función hist() de la biblioteca pandas."
      ],
      "metadata": {
        "id": "TlHpK0Lwb_S8"
      }
    },
    {
      "cell_type": "code",
      "source": [
        "final_data.hist(figsize = (20,20));"
      ],
      "metadata": {
        "colab": {
          "base_uri": "https://localhost:8080/",
          "height": 1000
        },
        "id": "Mdgbs9QfcKjn",
        "outputId": "e703cd8f-31fa-4943-861d-9ad1ac17fa43"
      },
      "execution_count": 171,
      "outputs": [
        {
          "output_type": "display_data",
          "data": {
            "text/plain": [
              "<Figure size 1440x1440 with 30 Axes>"
            ],
            "image/png": "[encoded data removed]"
          },
          "metadata": {
            "needs_background": "light"
          }
        }
      ]
    },
    {
      "cell_type": "markdown",
      "source": [
        "Procederemos a reemplazar los valores nulos en nuestros datos con el fin de obtener una métrica estadística apropiada."
      ],
      "metadata": {
        "id": "zwOaMEvjdGLV"
      }
    },
    {
      "cell_type": "code",
      "source": [
        "# Lista de columnas que contienen valores null\n",
        "final_data.columns[final_data.isnull().any()].tolist() "
      ],
      "metadata": {
        "colab": {
          "base_uri": "https://localhost:8080/"
        },
        "id": "b3vYOh6vdSld",
        "outputId": "34fd60ae-b924-4f0e-fdc3-207644983e40"
      },
      "execution_count": 172,
      "outputs": [
        {
          "output_type": "execute_result",
          "data": {
            "text/plain": [
              "['age', 'sex', 'TSH', 'T3', 'TT4', 'T4U', 'FTI']"
            ]
          },
          "metadata": {},
          "execution_count": 172
        }
      ]
    },
    {
      "cell_type": "code",
      "source": [
        "#Reemplazamos los valores nulos por la media\n",
        "final_data['age'].fillna(final_data['age'].mean(), inplace = True)\n",
        "final_data['T4U'].fillna(final_data['T4U'].mean(), inplace = True)\n",
        "\n",
        "#Reemplazamos los valores nulos por la mediana\n",
        "final_data['TSH'].fillna(final_data['TSH'].mean(), inplace = True)\n",
        "final_data['T3'].fillna(final_data['T3'].median(), inplace = True)\n",
        "final_data['TT4'].fillna(final_data['TT4'].median(), inplace = True)\n",
        "final_data['FTI'].fillna(final_data['FTI'].median(), inplace = True)\n",
        "\n",
        "#Los datos del sexo estan desequilibrados con 0 menor que 1, por eso vamos a \n",
        "#sustituir los valores de nulos por 0\n",
        "\n",
        "final_data['sex'].fillna(0, inplace = True)"
      ],
      "metadata": {
        "id": "0eVscpWgQg3R"
      },
      "execution_count": 173,
      "outputs": []
    },
    {
      "cell_type": "code",
      "source": [
        "#Graficamos el histograma limpio con las diferentes caracteristicas y los ajustes realizados\n",
        "plot_cleaned = final_data.hist(figsize = (20,20))"
      ],
      "metadata": {
        "id": "4W7Pl4huRYwA",
        "outputId": "e01199b3-a430-4500-9554-4d0dcbfb7bdd",
        "colab": {
          "base_uri": "https://localhost:8080/",
          "height": 1000
        }
      },
      "execution_count": 174,
      "outputs": [
        {
          "output_type": "display_data",
          "data": {
            "text/plain": [
              "<Figure size 1440x1440 with 30 Axes>"
            ],
            "image/png": "[encoded data removed]"
          },
          "metadata": {
            "needs_background": "light"
          }
        }
      ]
    },
    {
      "cell_type": "code",
      "source": [
        "#Chequeamos el numeor de valores nulos\n",
        "final_data.isnull().sum()"
      ],
      "metadata": {
        "id": "f5GekC_6Rly0",
        "outputId": "b1978a04-ad98-4865-abb3-3f8b92dbd8bc",
        "colab": {
          "base_uri": "https://localhost:8080/"
        }
      },
      "execution_count": 175,
      "outputs": [
        {
          "output_type": "execute_result",
          "data": {
            "text/plain": [
              "age                    0\n",
              "sex                    0\n",
              "on_thyroxine           0\n",
              "query_on_thyroxine     0\n",
              "on_antithyroid_meds    0\n",
              "sick                   0\n",
              "pregnant               0\n",
              "thyroid_surgery        0\n",
              "I131_treatment         0\n",
              "query_hypothyroid      0\n",
              "query_hyperthyroid     0\n",
              "lithium                0\n",
              "goitre                 0\n",
              "tumor                  0\n",
              "hypopituitary          0\n",
              "psych                  0\n",
              "TSH_measured           0\n",
              "TSH                    0\n",
              "T3_measured            0\n",
              "T3                     0\n",
              "TT4_measured           0\n",
              "TT4                    0\n",
              "T4U_measured           0\n",
              "T4U                    0\n",
              "FTI_measured           0\n",
              "FTI                    0\n",
              "TBG_measured           0\n",
              "patient_id             0\n",
              "dtype: int64"
            ]
          },
          "metadata": {},
          "execution_count": 175
        }
      ]
    },
    {
      "cell_type": "markdown",
      "source": [
        "Modelando los datos\n",
        "Nuestros datos ahora están limpios y con un formato correcto. Ahora vamos a modelar los datos para la predicción utilizando Deep Learning. Usaremos una red neuronal para predecir el hipotiroidismo (objetivo) en función de nuestros datos de entrada (características)."
      ],
      "metadata": {
        "id": "LAO3pSmrRztF"
      }
    },
    {
      "cell_type": "code",
      "source": [
        "#Carateristicas\n",
        "X = final_data.drop('query_hypothyroid', axis = 1) #Seleccionamos todas las columnas, excepto el objetivo\n",
        "#Variable objetivo\n",
        "y = final_data['query_hypothyroid']\n"
      ],
      "metadata": {
        "id": "ZgyN7ktnUcDO"
      },
      "execution_count": 176,
      "outputs": []
    },
    {
      "cell_type": "code",
      "source": [
        "print(X.shape, y.shape)"
      ],
      "metadata": {
        "id": "8MsU77ksVbzL",
        "outputId": "fb2dcaf4-7474-48ac-dcee-7197e92b33aa",
        "colab": {
          "base_uri": "https://localhost:8080/"
        }
      },
      "execution_count": 177,
      "outputs": [
        {
          "output_type": "stream",
          "name": "stdout",
          "text": [
            "(9172, 27) (9172,)\n"
          ]
        }
      ]
    },
    {
      "cell_type": "markdown",
      "source": [
        "\n",
        "Para evaluar eficientemente nuestro modelo, entrenaremos nuestro modelo en el 80% de los datos y mantendremos el 20% restante para probar el modelo."
      ],
      "metadata": {
        "id": "FkMd66C0DKd9"
      }
    },
    {
      "cell_type": "code",
      "source": [
        "from sklearn.model_selection import train_test_split\n",
        "\n",
        "# Split the data\n",
        "X_train, X_test, y_train, y_test = train_test_split(X, y, test_size=0.2, random_state=42)"
      ],
      "metadata": {
        "id": "XqL4TQoXVgBr"
      },
      "execution_count": 178,
      "outputs": []
    },
    {
      "cell_type": "markdown",
      "source": [
        "Escalar los datos ayuda a normalizar los datos dentro de un rango particular y también ayuda a acelerar los cálculos en un algoritmo. Para escalar los datos, usaremos la clase StandardScaler de scikit-learn"
      ],
      "metadata": {
        "id": "mG-6QYNuDUvB"
      }
    },
    {
      "cell_type": "code",
      "source": [
        "from sklearn.preprocessing import StandardScaler\n",
        "\n",
        "# Iniciar la clase StandarScaler\n",
        "scaler = StandardScaler()\n",
        "\n",
        "# Aplicar la clase a los datos test y train\n",
        "X_train = scaler.fit_transform(X_train)\n",
        "X_test = scaler.transform(X_test)"
      ],
      "metadata": {
        "id": "5-1GOIlFVkrv"
      },
      "execution_count": 179,
      "outputs": []
    },
    {
      "cell_type": "markdown",
      "source": [
        "Tenemos 27 columnas de características debido a las cuales hemos especificado la dimensión de entrada como input_dim=27. Estamos utilizando la función de activación de ReLU en la capa oculta y la función sigmoide para la capa de salida para devolver un valor binario de salida, es decir, hipotiroidismo (1) o negativo (0).\n",
        "\n",
        "![image.png](data:image/png;base64,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)"
      ],
      "metadata": {
        "id": "TYnk0hlDECj-"
      }
    },
    {
      "cell_type": "code",
      "source": [
        "# Entrada\n",
        "model = Sequential()\n",
        "# Capa oculta\n",
        "model.add(Dense(64, kernel_initializer='uniform', input_dim=27, activation='relu'))\n",
        "# Capa de salida\n",
        "model.add(Dense(1, kernel_initializer='uniform', activation='sigmoid'))"
      ],
      "metadata": {
        "id": "CI_RKDEGVxfW"
      },
      "execution_count": 180,
      "outputs": []
    },
    {
      "cell_type": "code",
      "source": [
        "model.compile(loss='binary_crossentropy', optimizer='adam', metrics=['accuracy'])"
      ],
      "metadata": {
        "id": "O9Vs1MQ6WSS0"
      },
      "execution_count": 181,
      "outputs": []
    },
    {
      "cell_type": "code",
      "source": [
        "# Entrenamos el modelo\n",
        "result = model.fit(X_train, y_train, epochs=100, validation_split=0.2, batch_size=40,  verbose=2)"
      ],
      "metadata": {
        "id": "SmzyYV6EWUw2",
        "outputId": "59916b8d-3c28-4562-8148-28e9ca067c7b",
        "colab": {
          "base_uri": "https://localhost:8080/"
        }
      },
      "execution_count": 182,
      "outputs": [
        {
          "output_type": "stream",
          "name": "stdout",
          "text": [
            "Epoch 1/100\n",
            "147/147 - 1s - loss: 0.4271 - accuracy: 0.9283 - val_loss: 0.2359 - val_accuracy: 0.9353 - 893ms/epoch - 6ms/step\n",
            "Epoch 2/100\n",
            "147/147 - 0s - loss: 0.2268 - accuracy: 0.9347 - val_loss: 0.2255 - val_accuracy: 0.9353 - 297ms/epoch - 2ms/step\n",
            "Epoch 3/100\n",
            "147/147 - 0s - loss: 0.2217 - accuracy: 0.9347 - val_loss: 0.2241 - val_accuracy: 0.9353 - 279ms/epoch - 2ms/step\n",
            "Epoch 4/100\n",
            "147/147 - 0s - loss: 0.2194 - accuracy: 0.9347 - val_loss: 0.2240 - val_accuracy: 0.9353 - 292ms/epoch - 2ms/step\n",
            "Epoch 5/100\n",
            "147/147 - 0s - loss: 0.2176 - accuracy: 0.9347 - val_loss: 0.2238 - val_accuracy: 0.9353 - 274ms/epoch - 2ms/step\n",
            "Epoch 6/100\n",
            "147/147 - 0s - loss: 0.2164 - accuracy: 0.9347 - val_loss: 0.2235 - val_accuracy: 0.9353 - 317ms/epoch - 2ms/step\n",
            "Epoch 7/100\n",
            "147/147 - 0s - loss: 0.2151 - accuracy: 0.9347 - val_loss: 0.2236 - val_accuracy: 0.9353 - 295ms/epoch - 2ms/step\n",
            "Epoch 8/100\n",
            "147/147 - 0s - loss: 0.2139 - accuracy: 0.9347 - val_loss: 0.2228 - val_accuracy: 0.9353 - 295ms/epoch - 2ms/step\n",
            "Epoch 9/100\n",
            "147/147 - 0s - loss: 0.2123 - accuracy: 0.9347 - val_loss: 0.2232 - val_accuracy: 0.9353 - 292ms/epoch - 2ms/step\n",
            "Epoch 10/100\n",
            "147/147 - 0s - loss: 0.2120 - accuracy: 0.9347 - val_loss: 0.2230 - val_accuracy: 0.9353 - 279ms/epoch - 2ms/step\n",
            "Epoch 11/100\n",
            "147/147 - 0s - loss: 0.2110 - accuracy: 0.9347 - val_loss: 0.2224 - val_accuracy: 0.9353 - 300ms/epoch - 2ms/step\n",
            "Epoch 12/100\n",
            "147/147 - 0s - loss: 0.2101 - accuracy: 0.9347 - val_loss: 0.2224 - val_accuracy: 0.9353 - 288ms/epoch - 2ms/step\n",
            "Epoch 13/100\n",
            "147/147 - 0s - loss: 0.2092 - accuracy: 0.9347 - val_loss: 0.2232 - val_accuracy: 0.9353 - 306ms/epoch - 2ms/step\n",
            "Epoch 14/100\n",
            "147/147 - 0s - loss: 0.2089 - accuracy: 0.9347 - val_loss: 0.2223 - val_accuracy: 0.9353 - 283ms/epoch - 2ms/step\n",
            "Epoch 15/100\n",
            "147/147 - 0s - loss: 0.2081 - accuracy: 0.9347 - val_loss: 0.2227 - val_accuracy: 0.9353 - 268ms/epoch - 2ms/step\n",
            "Epoch 16/100\n",
            "147/147 - 0s - loss: 0.2072 - accuracy: 0.9347 - val_loss: 0.2222 - val_accuracy: 0.9353 - 288ms/epoch - 2ms/step\n",
            "Epoch 17/100\n",
            "147/147 - 0s - loss: 0.2070 - accuracy: 0.9347 - val_loss: 0.2225 - val_accuracy: 0.9353 - 284ms/epoch - 2ms/step\n",
            "Epoch 18/100\n",
            "147/147 - 0s - loss: 0.2062 - accuracy: 0.9347 - val_loss: 0.2225 - val_accuracy: 0.9353 - 287ms/epoch - 2ms/step\n",
            "Epoch 19/100\n",
            "147/147 - 0s - loss: 0.2053 - accuracy: 0.9347 - val_loss: 0.2225 - val_accuracy: 0.9353 - 275ms/epoch - 2ms/step\n",
            "Epoch 20/100\n",
            "147/147 - 0s - loss: 0.2050 - accuracy: 0.9347 - val_loss: 0.2223 - val_accuracy: 0.9353 - 273ms/epoch - 2ms/step\n",
            "Epoch 21/100\n",
            "147/147 - 0s - loss: 0.2044 - accuracy: 0.9349 - val_loss: 0.2230 - val_accuracy: 0.9353 - 261ms/epoch - 2ms/step\n",
            "Epoch 22/100\n",
            "147/147 - 0s - loss: 0.2037 - accuracy: 0.9349 - val_loss: 0.2236 - val_accuracy: 0.9353 - 263ms/epoch - 2ms/step\n",
            "Epoch 23/100\n",
            "147/147 - 0s - loss: 0.2033 - accuracy: 0.9353 - val_loss: 0.2237 - val_accuracy: 0.9346 - 274ms/epoch - 2ms/step\n",
            "Epoch 24/100\n",
            "147/147 - 0s - loss: 0.2029 - accuracy: 0.9354 - val_loss: 0.2231 - val_accuracy: 0.9346 - 278ms/epoch - 2ms/step\n",
            "Epoch 25/100\n",
            "147/147 - 0s - loss: 0.2022 - accuracy: 0.9359 - val_loss: 0.2243 - val_accuracy: 0.9353 - 279ms/epoch - 2ms/step\n",
            "Epoch 26/100\n",
            "147/147 - 0s - loss: 0.2018 - accuracy: 0.9356 - val_loss: 0.2246 - val_accuracy: 0.9346 - 291ms/epoch - 2ms/step\n",
            "Epoch 27/100\n",
            "147/147 - 0s - loss: 0.2014 - accuracy: 0.9359 - val_loss: 0.2239 - val_accuracy: 0.9346 - 294ms/epoch - 2ms/step\n",
            "Epoch 28/100\n",
            "147/147 - 0s - loss: 0.2008 - accuracy: 0.9358 - val_loss: 0.2259 - val_accuracy: 0.9346 - 269ms/epoch - 2ms/step\n",
            "Epoch 29/100\n",
            "147/147 - 0s - loss: 0.2005 - accuracy: 0.9361 - val_loss: 0.2244 - val_accuracy: 0.9346 - 280ms/epoch - 2ms/step\n",
            "Epoch 30/100\n",
            "147/147 - 0s - loss: 0.2003 - accuracy: 0.9361 - val_loss: 0.2255 - val_accuracy: 0.9346 - 294ms/epoch - 2ms/step\n",
            "Epoch 31/100\n",
            "147/147 - 0s - loss: 0.1997 - accuracy: 0.9359 - val_loss: 0.2268 - val_accuracy: 0.9346 - 277ms/epoch - 2ms/step\n",
            "Epoch 32/100\n",
            "147/147 - 0s - loss: 0.1993 - accuracy: 0.9363 - val_loss: 0.2260 - val_accuracy: 0.9346 - 287ms/epoch - 2ms/step\n",
            "Epoch 33/100\n",
            "147/147 - 0s - loss: 0.1990 - accuracy: 0.9363 - val_loss: 0.2278 - val_accuracy: 0.9346 - 260ms/epoch - 2ms/step\n",
            "Epoch 34/100\n",
            "147/147 - 0s - loss: 0.1983 - accuracy: 0.9359 - val_loss: 0.2274 - val_accuracy: 0.9346 - 282ms/epoch - 2ms/step\n",
            "Epoch 35/100\n",
            "147/147 - 0s - loss: 0.1981 - accuracy: 0.9361 - val_loss: 0.2282 - val_accuracy: 0.9346 - 280ms/epoch - 2ms/step\n",
            "Epoch 36/100\n",
            "147/147 - 0s - loss: 0.1977 - accuracy: 0.9363 - val_loss: 0.2258 - val_accuracy: 0.9346 - 269ms/epoch - 2ms/step\n",
            "Epoch 37/100\n",
            "147/147 - 0s - loss: 0.1973 - accuracy: 0.9366 - val_loss: 0.2267 - val_accuracy: 0.9339 - 291ms/epoch - 2ms/step\n",
            "Epoch 38/100\n",
            "147/147 - 0s - loss: 0.1972 - accuracy: 0.9363 - val_loss: 0.2281 - val_accuracy: 0.9339 - 302ms/epoch - 2ms/step\n",
            "Epoch 39/100\n",
            "147/147 - 0s - loss: 0.1971 - accuracy: 0.9364 - val_loss: 0.2281 - val_accuracy: 0.9339 - 292ms/epoch - 2ms/step\n",
            "Epoch 40/100\n",
            "147/147 - 0s - loss: 0.1965 - accuracy: 0.9359 - val_loss: 0.2281 - val_accuracy: 0.9339 - 259ms/epoch - 2ms/step\n",
            "Epoch 41/100\n",
            "147/147 - 0s - loss: 0.1959 - accuracy: 0.9363 - val_loss: 0.2284 - val_accuracy: 0.9339 - 293ms/epoch - 2ms/step\n",
            "Epoch 42/100\n",
            "147/147 - 0s - loss: 0.1959 - accuracy: 0.9368 - val_loss: 0.2286 - val_accuracy: 0.9339 - 288ms/epoch - 2ms/step\n",
            "Epoch 43/100\n",
            "147/147 - 0s - loss: 0.1954 - accuracy: 0.9368 - val_loss: 0.2310 - val_accuracy: 0.9339 - 275ms/epoch - 2ms/step\n",
            "Epoch 44/100\n",
            "147/147 - 0s - loss: 0.1956 - accuracy: 0.9370 - val_loss: 0.2294 - val_accuracy: 0.9339 - 275ms/epoch - 2ms/step\n",
            "Epoch 45/100\n",
            "147/147 - 0s - loss: 0.1953 - accuracy: 0.9364 - val_loss: 0.2297 - val_accuracy: 0.9339 - 290ms/epoch - 2ms/step\n",
            "Epoch 46/100\n",
            "147/147 - 0s - loss: 0.1948 - accuracy: 0.9373 - val_loss: 0.2301 - val_accuracy: 0.9339 - 317ms/epoch - 2ms/step\n",
            "Epoch 47/100\n",
            "147/147 - 0s - loss: 0.1947 - accuracy: 0.9371 - val_loss: 0.2310 - val_accuracy: 0.9339 - 287ms/epoch - 2ms/step\n",
            "Epoch 48/100\n",
            "147/147 - 0s - loss: 0.1942 - accuracy: 0.9371 - val_loss: 0.2314 - val_accuracy: 0.9339 - 282ms/epoch - 2ms/step\n",
            "Epoch 49/100\n",
            "147/147 - 0s - loss: 0.1942 - accuracy: 0.9368 - val_loss: 0.2307 - val_accuracy: 0.9339 - 308ms/epoch - 2ms/step\n",
            "Epoch 50/100\n",
            "147/147 - 0s - loss: 0.1936 - accuracy: 0.9371 - val_loss: 0.2322 - val_accuracy: 0.9339 - 316ms/epoch - 2ms/step\n",
            "Epoch 51/100\n",
            "147/147 - 0s - loss: 0.1935 - accuracy: 0.9375 - val_loss: 0.2317 - val_accuracy: 0.9339 - 269ms/epoch - 2ms/step\n",
            "Epoch 52/100\n",
            "147/147 - 0s - loss: 0.1932 - accuracy: 0.9371 - val_loss: 0.2312 - val_accuracy: 0.9332 - 300ms/epoch - 2ms/step\n",
            "Epoch 53/100\n",
            "147/147 - 0s - loss: 0.1933 - accuracy: 0.9373 - val_loss: 0.2325 - val_accuracy: 0.9332 - 265ms/epoch - 2ms/step\n",
            "Epoch 54/100\n",
            "147/147 - 0s - loss: 0.1927 - accuracy: 0.9373 - val_loss: 0.2324 - val_accuracy: 0.9339 - 276ms/epoch - 2ms/step\n",
            "Epoch 55/100\n",
            "147/147 - 0s - loss: 0.1924 - accuracy: 0.9371 - val_loss: 0.2326 - val_accuracy: 0.9339 - 260ms/epoch - 2ms/step\n",
            "Epoch 56/100\n",
            "147/147 - 0s - loss: 0.1922 - accuracy: 0.9373 - val_loss: 0.2327 - val_accuracy: 0.9332 - 294ms/epoch - 2ms/step\n",
            "Epoch 57/100\n",
            "147/147 - 0s - loss: 0.1918 - accuracy: 0.9371 - val_loss: 0.2348 - val_accuracy: 0.9339 - 268ms/epoch - 2ms/step\n",
            "Epoch 58/100\n",
            "147/147 - 0s - loss: 0.1920 - accuracy: 0.9375 - val_loss: 0.2349 - val_accuracy: 0.9339 - 257ms/epoch - 2ms/step\n",
            "Epoch 59/100\n",
            "147/147 - 0s - loss: 0.1916 - accuracy: 0.9373 - val_loss: 0.2338 - val_accuracy: 0.9319 - 285ms/epoch - 2ms/step\n",
            "Epoch 60/100\n",
            "147/147 - 0s - loss: 0.1913 - accuracy: 0.9371 - val_loss: 0.2345 - val_accuracy: 0.9332 - 281ms/epoch - 2ms/step\n",
            "Epoch 61/100\n",
            "147/147 - 0s - loss: 0.1913 - accuracy: 0.9376 - val_loss: 0.2345 - val_accuracy: 0.9326 - 263ms/epoch - 2ms/step\n",
            "Epoch 62/100\n",
            "147/147 - 0s - loss: 0.1911 - accuracy: 0.9375 - val_loss: 0.2358 - val_accuracy: 0.9326 - 283ms/epoch - 2ms/step\n",
            "Epoch 63/100\n",
            "147/147 - 0s - loss: 0.1907 - accuracy: 0.9371 - val_loss: 0.2351 - val_accuracy: 0.9319 - 308ms/epoch - 2ms/step\n",
            "Epoch 64/100\n",
            "147/147 - 0s - loss: 0.1905 - accuracy: 0.9378 - val_loss: 0.2353 - val_accuracy: 0.9326 - 264ms/epoch - 2ms/step\n",
            "Epoch 65/100\n",
            "147/147 - 0s - loss: 0.1905 - accuracy: 0.9375 - val_loss: 0.2353 - val_accuracy: 0.9319 - 267ms/epoch - 2ms/step\n",
            "Epoch 66/100\n",
            "147/147 - 0s - loss: 0.1900 - accuracy: 0.9376 - val_loss: 0.2341 - val_accuracy: 0.9319 - 278ms/epoch - 2ms/step\n",
            "Epoch 67/100\n",
            "147/147 - 0s - loss: 0.1903 - accuracy: 0.9381 - val_loss: 0.2345 - val_accuracy: 0.9319 - 306ms/epoch - 2ms/step\n",
            "Epoch 68/100\n",
            "147/147 - 0s - loss: 0.1900 - accuracy: 0.9375 - val_loss: 0.2358 - val_accuracy: 0.9312 - 291ms/epoch - 2ms/step\n",
            "Epoch 69/100\n",
            "147/147 - 0s - loss: 0.1900 - accuracy: 0.9378 - val_loss: 0.2378 - val_accuracy: 0.9319 - 267ms/epoch - 2ms/step\n",
            "Epoch 70/100\n",
            "147/147 - 0s - loss: 0.1897 - accuracy: 0.9378 - val_loss: 0.2361 - val_accuracy: 0.9298 - 290ms/epoch - 2ms/step\n",
            "Epoch 71/100\n",
            "147/147 - 0s - loss: 0.1896 - accuracy: 0.9380 - val_loss: 0.2375 - val_accuracy: 0.9312 - 279ms/epoch - 2ms/step\n",
            "Epoch 72/100\n",
            "147/147 - 0s - loss: 0.1892 - accuracy: 0.9373 - val_loss: 0.2377 - val_accuracy: 0.9305 - 294ms/epoch - 2ms/step\n",
            "Epoch 73/100\n",
            "147/147 - 0s - loss: 0.1890 - accuracy: 0.9385 - val_loss: 0.2373 - val_accuracy: 0.9312 - 265ms/epoch - 2ms/step\n",
            "Epoch 74/100\n",
            "147/147 - 0s - loss: 0.1890 - accuracy: 0.9383 - val_loss: 0.2379 - val_accuracy: 0.9312 - 291ms/epoch - 2ms/step\n",
            "Epoch 75/100\n",
            "147/147 - 0s - loss: 0.1886 - accuracy: 0.9383 - val_loss: 0.2373 - val_accuracy: 0.9312 - 284ms/epoch - 2ms/step\n",
            "Epoch 76/100\n",
            "147/147 - 0s - loss: 0.1885 - accuracy: 0.9380 - val_loss: 0.2386 - val_accuracy: 0.9312 - 295ms/epoch - 2ms/step\n",
            "Epoch 77/100\n",
            "147/147 - 0s - loss: 0.1888 - accuracy: 0.9383 - val_loss: 0.2384 - val_accuracy: 0.9312 - 264ms/epoch - 2ms/step\n",
            "Epoch 78/100\n",
            "147/147 - 0s - loss: 0.1884 - accuracy: 0.9380 - val_loss: 0.2388 - val_accuracy: 0.9312 - 267ms/epoch - 2ms/step\n",
            "Epoch 79/100\n",
            "147/147 - 0s - loss: 0.1879 - accuracy: 0.9385 - val_loss: 0.2390 - val_accuracy: 0.9312 - 271ms/epoch - 2ms/step\n",
            "Epoch 80/100\n",
            "147/147 - 0s - loss: 0.1877 - accuracy: 0.9385 - val_loss: 0.2412 - val_accuracy: 0.9305 - 254ms/epoch - 2ms/step\n",
            "Epoch 81/100\n",
            "147/147 - 0s - loss: 0.1879 - accuracy: 0.9387 - val_loss: 0.2413 - val_accuracy: 0.9312 - 296ms/epoch - 2ms/step\n",
            "Epoch 82/100\n",
            "147/147 - 0s - loss: 0.1876 - accuracy: 0.9385 - val_loss: 0.2397 - val_accuracy: 0.9305 - 255ms/epoch - 2ms/step\n",
            "Epoch 83/100\n",
            "147/147 - 0s - loss: 0.1875 - accuracy: 0.9390 - val_loss: 0.2396 - val_accuracy: 0.9312 - 291ms/epoch - 2ms/step\n",
            "Epoch 84/100\n",
            "147/147 - 0s - loss: 0.1873 - accuracy: 0.9387 - val_loss: 0.2403 - val_accuracy: 0.9312 - 273ms/epoch - 2ms/step\n",
            "Epoch 85/100\n",
            "147/147 - 0s - loss: 0.1871 - accuracy: 0.9392 - val_loss: 0.2416 - val_accuracy: 0.9312 - 269ms/epoch - 2ms/step\n",
            "Epoch 86/100\n",
            "147/147 - 0s - loss: 0.1870 - accuracy: 0.9387 - val_loss: 0.2420 - val_accuracy: 0.9305 - 286ms/epoch - 2ms/step\n",
            "Epoch 87/100\n",
            "147/147 - 0s - loss: 0.1869 - accuracy: 0.9381 - val_loss: 0.2416 - val_accuracy: 0.9305 - 284ms/epoch - 2ms/step\n",
            "Epoch 88/100\n",
            "147/147 - 0s - loss: 0.1863 - accuracy: 0.9392 - val_loss: 0.2430 - val_accuracy: 0.9305 - 281ms/epoch - 2ms/step\n",
            "Epoch 89/100\n",
            "147/147 - 0s - loss: 0.1863 - accuracy: 0.9383 - val_loss: 0.2424 - val_accuracy: 0.9298 - 279ms/epoch - 2ms/step\n",
            "Epoch 90/100\n",
            "147/147 - 0s - loss: 0.1863 - accuracy: 0.9397 - val_loss: 0.2417 - val_accuracy: 0.9305 - 259ms/epoch - 2ms/step\n",
            "Epoch 91/100\n",
            "147/147 - 0s - loss: 0.1858 - accuracy: 0.9387 - val_loss: 0.2419 - val_accuracy: 0.9305 - 292ms/epoch - 2ms/step\n",
            "Epoch 92/100\n",
            "147/147 - 0s - loss: 0.1857 - accuracy: 0.9399 - val_loss: 0.2447 - val_accuracy: 0.9305 - 267ms/epoch - 2ms/step\n",
            "Epoch 93/100\n",
            "147/147 - 0s - loss: 0.1858 - accuracy: 0.9393 - val_loss: 0.2433 - val_accuracy: 0.9312 - 286ms/epoch - 2ms/step\n",
            "Epoch 94/100\n",
            "147/147 - 0s - loss: 0.1857 - accuracy: 0.9393 - val_loss: 0.2445 - val_accuracy: 0.9312 - 286ms/epoch - 2ms/step\n",
            "Epoch 95/100\n",
            "147/147 - 0s - loss: 0.1853 - accuracy: 0.9395 - val_loss: 0.2446 - val_accuracy: 0.9305 - 269ms/epoch - 2ms/step\n",
            "Epoch 96/100\n",
            "147/147 - 0s - loss: 0.1852 - accuracy: 0.9395 - val_loss: 0.2437 - val_accuracy: 0.9312 - 274ms/epoch - 2ms/step\n",
            "Epoch 97/100\n",
            "147/147 - 0s - loss: 0.1849 - accuracy: 0.9405 - val_loss: 0.2461 - val_accuracy: 0.9312 - 265ms/epoch - 2ms/step\n",
            "Epoch 98/100\n",
            "147/147 - 0s - loss: 0.1848 - accuracy: 0.9399 - val_loss: 0.2444 - val_accuracy: 0.9305 - 255ms/epoch - 2ms/step\n",
            "Epoch 99/100\n",
            "147/147 - 0s - loss: 0.1849 - accuracy: 0.9402 - val_loss: 0.2475 - val_accuracy: 0.9298 - 264ms/epoch - 2ms/step\n",
            "Epoch 100/100\n",
            "147/147 - 0s - loss: 0.1850 - accuracy: 0.9395 - val_loss: 0.2473 - val_accuracy: 0.9298 - 268ms/epoch - 2ms/step\n"
          ]
        }
      ]
    },
    {
      "cell_type": "code",
      "source": [
        "#Obtenemos la perdida y la exactitud del modelo evaluado\n",
        "loss, acc = model.evaluate(X_test, y_test)\n",
        "\n",
        "# Imprimimos el porcentaje de la perdida y la exactitud obetenido del modelo\n",
        "print(\"%s: %.2f%%\" % (model.metrics_names[0], loss*100))\n",
        "print(\"%s: %.2f%%\" % (model.metrics_names[1], acc*100))"
      ],
      "metadata": {
        "id": "1kGA-GeSeAT6",
        "outputId": "f30ac02f-5a34-4c40-dbd5-d4c652477b2e",
        "colab": {
          "base_uri": "https://localhost:8080/"
        }
      },
      "execution_count": 183,
      "outputs": [
        {
          "output_type": "stream",
          "name": "stdout",
          "text": [
            "58/58 [==============================] - 0s 1ms/step - loss: 0.3739 - accuracy: 0.9155\n",
            "loss: 37.39%\n",
            "accuracy: 91.55%\n"
          ]
        }
      ]
    },
    {
      "cell_type": "code",
      "source": [
        "#Predecir las predicciones de salida\n",
        "y_pred = model.predict(X_test).round()"
      ],
      "metadata": {
        "id": "qet8ahBJeHEA"
      },
      "execution_count": 184,
      "outputs": []
    },
    {
      "cell_type": "code",
      "source": [
        "# Calculamos el porcentaje de F1 score, recall, y precision\n",
        "print(\"%s: %.2f%%\" % (\"F1-score\", f1_score(y_test, y_pred)*100))\n",
        "print(\"%s: %.2f%%\" % (\"Recall\", recall_score(y_test, y_pred)*100))\n",
        "print(\"%s: %.2f%%\" % (\"Precision\", precision_score(y_test, y_pred)*100))"
      ],
      "metadata": {
        "id": "ibOCCPzZeJ0i",
        "outputId": "8d127613-d45e-4d4d-f1ec-06be38265d82",
        "colab": {
          "base_uri": "https://localhost:8080/"
        }
      },
      "execution_count": 185,
      "outputs": [
        {
          "output_type": "stream",
          "name": "stdout",
          "text": [
            "F1-score: 4.91%\n",
            "Recall: 2.63%\n",
            "Precision: 36.36%\n"
          ]
        }
      ]
    },
    {
      "cell_type": "code",
      "source": [
        "# Resumimos el resultado y graficamos la pérdida de entrenamiento y prueba\n",
        "plt.plot(result.history['loss'])\n",
        "plt.plot(result.history['val_loss'])\n",
        "\n",
        "#Establecemos los parametros\n",
        "plt.title('Pérdida del modelo de aprendizaje profundo')\n",
        "plt.ylabel('Loss')\n",
        "plt.xlabel('Epochs')\n",
        "plt.legend(['train', 'test'], loc='upper right')\n",
        "\n",
        "# Display the plots\n",
        "plt.show()"
      ],
      "metadata": {
        "id": "gbBgscOAeZNU",
        "outputId": "8f88925a-c839-40cc-d1ce-4be0af109658",
        "colab": {
          "base_uri": "https://localhost:8080/",
          "height": 295
        }
      },
      "execution_count": 186,
      "outputs": [
        {
          "output_type": "display_data",
          "data": {
            "text/plain": [
              "<Figure size 432x288 with 1 Axes>"
            ],
            "image/png": "[encoded data removed]"
          },
          "metadata": {
            "needs_background": "light"
          }
        }
      ]
    }
  ]
}
